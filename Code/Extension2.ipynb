{
 "cells": [
  {
   "cell_type": "markdown",
   "metadata": {},
   "source": [
    "# Running OptMiMiDICE2016R2 "
   ]
  },
  {
   "cell_type": "code",
   "execution_count": 13,
   "metadata": {},
   "outputs": [
    {
     "name": "stderr",
     "output_type": "stream",
     "text": [
      "\u001b[32m\u001b[1m  Activating\u001b[22m\u001b[39m project at `~/Library/CloudStorage/OneDrive-M365UniversitätHamburg/Semester 4/Environmental Economics/M3 Project/Code`\n"
     ]
    }
   ],
   "source": [
    "using Pkg\n",
    "Pkg.activate(\".\") # activate the current environment"
   ]
  },
  {
   "cell_type": "markdown",
   "metadata": {},
   "source": [
    "## Adding OptMimiDICE2016R2 & Mimi to the Directory"
   ]
  },
  {
   "cell_type": "markdown",
   "metadata": {},
   "source": [
    "<span style=\"color:red\">Need to use only once. </span>"
   ]
  },
  {
   "cell_type": "code",
   "execution_count": 14,
   "metadata": {},
   "outputs": [
    {
     "name": "stderr",
     "output_type": "stream",
     "text": [
      "\u001b[32m\u001b[1m    Updating\u001b[22m\u001b[39m git-repo `https://github.com/felixschaumann/OptMimiDICE2016R2.jl`\n",
      "\u001b[32m\u001b[1m    Updating\u001b[22m\u001b[39m registry at `~/.julia/registries/MimiRegistry`\n",
      "\u001b[32m\u001b[1m    Updating\u001b[22m\u001b[39m git-repo `https://github.com/mimiframework/MimiRegistry.git`\n",
      "\u001b[32m\u001b[1m    Updating\u001b[22m\u001b[39m registry at `~/.julia/registries/General.toml`\n",
      "\u001b[32m\u001b[1m   Resolving\u001b[22m\u001b[39m package versions...\n",
      "\u001b[32m\u001b[1m  No Changes\u001b[22m\u001b[39m to `~/Library/CloudStorage/OneDrive-M365UniversitätHamburg/Semester 4/Environmental Economics/M3 Project/Code/Project.toml`\n",
      "\u001b[32m\u001b[1m  No Changes\u001b[22m\u001b[39m to `~/Library/CloudStorage/OneDrive-M365UniversitätHamburg/Semester 4/Environmental Economics/M3 Project/Code/Manifest.toml`\n",
      "\u001b[32m\u001b[1m   Resolving\u001b[22m\u001b[39m package versions...\n",
      "\u001b[32m\u001b[1m  No Changes\u001b[22m\u001b[39m to `~/Library/CloudStorage/OneDrive-M365UniversitätHamburg/Semester 4/Environmental Economics/M3 Project/Code/Project.toml`\n",
      "\u001b[32m\u001b[1m  No Changes\u001b[22m\u001b[39m to `~/Library/CloudStorage/OneDrive-M365UniversitätHamburg/Semester 4/Environmental Economics/M3 Project/Code/Manifest.toml`\n"
     ]
    }
   ],
   "source": [
    "using Pkg\n",
    "Pkg.add(url=\"https://github.com/felixschaumann/OptMimiDICE2016R2.jl\")\n",
    "Pkg.add(\"Mimi\")"
   ]
  },
  {
   "cell_type": "code",
   "execution_count": 15,
   "metadata": {},
   "outputs": [
    {
     "name": "stdout",
     "output_type": "stream",
     "text": [
      "\u001b[32m\u001b[1mStatus\u001b[22m\u001b[39m `~/Library/CloudStorage/OneDrive-M365UniversitätHamburg/Semester 4/Environmental Economics/M3 Project/Code/Project.toml`\n",
      "  \u001b[90m[a93c6f00] \u001b[39mDataFrames v1.6.1\n",
      "\u001b[32m⌃\u001b[39m \u001b[90m[89b67f3b] \u001b[39mExcelFiles v0.6.1\n",
      "  \u001b[90m[033835bb] \u001b[39mJLD2 v0.4.48\n",
      "  \u001b[90m[b964fa9f] \u001b[39mLaTeXStrings v1.3.1\n",
      "  \u001b[90m[e4e893b0] \u001b[39mMimi v1.5.3\n",
      "  \u001b[90m[f1883be1] \u001b[39mOptMimiDICE2016R2 v0.1.1-DEV `https://github.com/felixschaumann/OptMimiDICE2016R2.jl#main`\n",
      "  \u001b[90m[91a5bcdd] \u001b[39mPlots v1.40.4\n",
      "  \u001b[90m[fdbf4ff8] \u001b[39mXLSX v0.10.1\n",
      "\u001b[36m\u001b[1mInfo\u001b[22m\u001b[39m Packages marked with \u001b[32m⌃\u001b[39m have new versions available and may be upgradable.\n"
     ]
    }
   ],
   "source": [
    "Pkg.status()"
   ]
  },
  {
   "cell_type": "markdown",
   "metadata": {},
   "source": [
    "## Import Packages"
   ]
  },
  {
   "cell_type": "code",
   "execution_count": 16,
   "metadata": {},
   "outputs": [],
   "source": [
    "using Mimi\n",
    "using OptMimiDICE2016R2"
   ]
  },
  {
   "cell_type": "markdown",
   "metadata": {},
   "source": [
    "## Adding the extension"
   ]
  },
  {
   "cell_type": "code",
   "execution_count": 17,
   "metadata": {},
   "outputs": [],
   "source": [
    "ext = OptMimiDICE2016R2.get_model()\n",
    "run(ext)"
   ]
  },
  {
   "cell_type": "code",
   "execution_count": 18,
   "metadata": {},
   "outputs": [],
   "source": [
    "include(\"./extension2.jl\")\n",
    "replace!(ext, :damages => extension);"
   ]
  },
  {
   "cell_type": "markdown",
   "metadata": {},
   "source": [
    "### The following code is only for setting the parameters for the first run, after that use update_param! "
   ]
  },
  {
   "cell_type": "code",
   "execution_count": 19,
   "metadata": {},
   "outputs": [],
   "source": [
    "using JLD2\n",
    "@load \"lambda1.jld2\" lambda1\n",
    "@load \"cost.jld2\" cost;\n"
   ]
  },
  {
   "cell_type": "code",
   "execution_count": 9,
   "metadata": {},
   "outputs": [],
   "source": [
    "zerovector = zeros(100);"
   ]
  },
  {
   "cell_type": "code",
   "execution_count": 20,
   "metadata": {},
   "outputs": [],
   "source": [
    "set_param!(ext, :damages, :IA, cost)\n",
    "set_param!(ext, :damages, :delta1, 0.05)\n",
    "set_param!(ext, :damages, :l1, lambda1)\n",
    "set_param!(ext, :damages, :r, 0.19)\n",
    "set_param!(ext, :damages, :FAD, cost)"
   ]
  },
  {
   "cell_type": "markdown",
   "metadata": {},
   "source": [
    "### update param"
   ]
  },
  {
   "cell_type": "code",
   "execution_count": 22,
   "metadata": {},
   "outputs": [
    {
     "data": {
      "text/plain": [
       "true"
      ]
     },
     "metadata": {},
     "output_type": "display_data"
    }
   ],
   "source": [
    "update_param!(ext, :damages, :a1, 0.0012)\n",
    "update_param!(ext, :damages, :a2, 0.0023)\n",
    "update_param!(ext, :damages, :a3, 2.32)\n",
    "update_param!(ext, :r, 0.19)\n"
   ]
  },
  {
   "cell_type": "code",
   "execution_count": 23,
   "metadata": {},
   "outputs": [],
   "source": [
    "run(ext)"
   ]
  },
  {
   "cell_type": "code",
   "execution_count": 25,
   "metadata": {},
   "outputs": [
    {
     "name": "stdout",
     "output_type": "stream",
     "text": [
      " 49.712806 seconds (180.46 M allocations: 7.636 GiB, 0.80% gc time)\n"
     ]
    },
    {
     "data": {
      "text/plain": [
       "(m = Mimi.Model\n",
       "  Module: Mimi\n",
       "  Components:\n",
       "    ComponentId(OptMimiDICE2016R2.totalfactorproductivity)\n",
       "    ComponentId(OptMimiDICE2016R2.grosseconomy)\n",
       "    ComponentId(OptMimiDICE2016R2.emissions)\n",
       "    ComponentId(OptMimiDICE2016R2.co2cycle)\n",
       "    ComponentId(OptMimiDICE2016R2.radiativeforcing)\n",
       "    ComponentId(OptMimiDICE2016R2.climatedynamics)\n",
       "    ComponentId(Main.extension)\n",
       "    ComponentId(OptMimiDICE2016R2.neteconomy)\n",
       "    ComponentId(OptMimiDICE2016R2.welfare)\n",
       "  Dimensions:\n",
       "    time => [2015, 2020, 2025, 2030, 2035, 2040, 2045, 2050, 2055, 2060, 2065, 2070, 2075, 2080, 2085, 2090, 2095, 2100, 2105, 2110, 2115, 2120, 2125, 2130, 2135, 2140, 2145, 2150, 2155, 2160, 2165, 2170, 2175, 2180, 2185, 2190, 2195, 2200, 2205, 2210, 2215, 2220, 2225, 2230, 2235, 2240, 2245, 2250, 2255, 2260, 2265, 2270, 2275, 2280, 2285, 2290, 2295, 2300, 2305, 2310, 2315, 2320, 2325, 2330, 2335, 2340, 2345, 2350, 2355, 2360, 2365, 2370, 2375, 2380, 2385, 2390, 2395, 2400, 2405, 2410, 2415, 2420, 2425, 2430, 2435, 2440, 2445, 2450, 2455, 2460, 2465, 2470, 2475, 2480, 2485, 2490, 2495, 2500, 2505, 2510]\n",
       "  Internal Connections:\n",
       "    Mimi.InternalParameterConnection\n",
       "  src_comp_path: ComponentPath(Symbol(\"##ModelDef#291\"), :totalfactorproductivity)\n",
       "  src_var_name: :AL\n",
       "  dst_comp_path: ComponentPath(Symbol(\"##ModelDef#291\"), :grosseconomy)\n",
       "  dst_par_name: :AL\n",
       "  ignoreunits: false\n",
       "  backup: nothing\n",
       "  backup_offset: nothing\n",
       "    Mimi.InternalParameterConnection\n",
       "  src_comp_path: ComponentPath(Symbol(\"##ModelDef#291\"), :neteconomy)\n",
       "  src_var_name: :I\n",
       "  dst_comp_path: ComponentPath(Symbol(\"##ModelDef#291\"), :grosseconomy)\n",
       "  dst_par_name: :I\n",
       "  ignoreunits: false\n",
       "  backup: nothing\n",
       "  backup_offset: nothing\n",
       "    Mimi.InternalParameterConnection\n",
       "  src_comp_path: ComponentPath(Symbol(\"##ModelDef#291\"), :grosseconomy)\n",
       "  src_var_name: :YGROSS\n",
       "  dst_comp_path: ComponentPath(Symbol(\"##ModelDef#291\"), :emissions)\n",
       "  dst_par_name: :YGROSS\n",
       "  ignoreunits: false\n",
       "  backup: nothing\n",
       "  backup_offset: nothing\n",
       "    Mimi.InternalParameterConnection\n",
       "  src_comp_path: ComponentPath(Symbol(\"##ModelDef#291\"), :emissions)\n",
       "  src_var_name: :E\n",
       "  dst_comp_path: ComponentPath(Symbol(\"##ModelDef#291\"), :co2cycle)\n",
       "  dst_par_name: :E\n",
       "  ignoreunits: false\n",
       "  backup: nothing\n",
       "  backup_offset: nothing\n",
       "    Mimi.InternalParameterConnection\n",
       "  src_comp_path: ComponentPath(Symbol(\"##ModelDef#291\"), :co2cycle)\n",
       "  src_var_name: :MAT\n",
       "  dst_comp_path: ComponentPath(Symbol(\"##ModelDef#291\"), :radiativeforcing)\n",
       "  dst_par_name: :MAT\n",
       "  ignoreunits: false\n",
       "  backup: nothing\n",
       "  backup_offset: nothing\n",
       "    Mimi.InternalParameterConnection\n",
       "  src_comp_path: ComponentPath(Symbol(\"##ModelDef#291\"), :radiativeforcing)\n",
       "  src_var_name: :FORC\n",
       "  dst_comp_path: ComponentPath(Symbol(\"##ModelDef#291\"), :climatedynamics)\n",
       "  dst_par_name: :FORC\n",
       "  ignoreunits: false\n",
       "  backup: nothing\n",
       "  backup_offset: nothing\n",
       "    Mimi.InternalParameterConnection\n",
       "  src_comp_path: ComponentPath(Symbol(\"##ModelDef#291\"), :climatedynamics)\n",
       "  src_var_name: :TATM\n",
       "  dst_comp_path: ComponentPath(Symbol(\"##ModelDef#291\"), :damages)\n",
       "  dst_par_name: :TATM\n",
       "  ignoreunits: false\n",
       "  backup: nothing\n",
       "  backup_offset: nothing\n",
       "    Mimi.InternalParameterConnection\n",
       "  src_comp_path: ComponentPath(Symbol(\"##ModelDef#291\"), :grosseconomy)\n",
       "  src_var_name: :YGROSS\n",
       "  dst_comp_path: ComponentPath(Symbol(\"##ModelDef#291\"), :damages)\n",
       "  dst_par_name: :YGROSS\n",
       "  ignoreunits: false\n",
       "  backup: nothing\n",
       "  backup_offset: nothing\n",
       "    Mimi.InternalParameterConnection\n",
       "  src_comp_path: ComponentPath(Symbol(\"##ModelDef#291\"), :grosseconomy)\n",
       "  src_var_name: :YGROSS\n",
       "  dst_comp_path: ComponentPath(Symbol(\"##ModelDef#291\"), :neteconomy)\n",
       "  dst_par_name: :YGROSS\n",
       "  ignoreunits: false\n",
       "  backup: nothing\n",
       "  backup_offset: nothing\n",
       "    Mimi.InternalParameterConnection\n",
       "  src_comp_path: ComponentPath(Symbol(\"##ModelDef#291\"), :damages)\n",
       "  src_var_name: :DAMAGES\n",
       "  dst_comp_path: ComponentPath(Symbol(\"##ModelDef#291\"), :neteconomy)\n",
       "  dst_par_name: :DAMAGES\n",
       "  ignoreunits: false\n",
       "  backup: nothing\n",
       "  backup_offset: nothing\n",
       "    Mimi.InternalParameterConnection\n",
       "  src_comp_path: ComponentPath(Symbol(\"##ModelDef#291\"), :emissions)\n",
       "  src_var_name: :SIGMA\n",
       "  dst_comp_path: ComponentPath(Symbol(\"##ModelDef#291\"), :neteconomy)\n",
       "  dst_par_name: :SIGMA\n",
       "  ignoreunits: false\n",
       "  backup: nothing\n",
       "  backup_offset: nothing\n",
       "    Mimi.InternalParameterConnection\n",
       "  src_comp_path: ComponentPath(Symbol(\"##ModelDef#291\"), :neteconomy)\n",
       "  src_var_name: :CPC\n",
       "  dst_comp_path: ComponentPath(Symbol(\"##ModelDef#291\"), :welfare)\n",
       "  dst_par_name: :CPC\n",
       "  ignoreunits: false\n",
       "  backup: nothing\n",
       "  backup_offset: nothing\n",
       "  External Connections:\n",
       "    Mimi.ExternalParameterConnection\n",
       "  comp_path: ComponentPath(Symbol(\"##ModelDef#291\"), :totalfactorproductivity)\n",
       "  param_name: :a0\n",
       "  model_param_name: Symbol(\"##292\")\n",
       "    Mimi.ExternalParameterConnection\n",
       "  comp_path: ComponentPath(Symbol(\"##ModelDef#291\"), :totalfactorproductivity)\n",
       "  param_name: :ga0\n",
       "  model_param_name: Symbol(\"##293\")\n",
       "    Mimi.ExternalParameterConnection\n",
       "  comp_path: ComponentPath(Symbol(\"##ModelDef#291\"), :totalfactorproductivity)\n",
       "  param_name: :dela\n",
       "  model_param_name: Symbol(\"##294\")\n",
       "    Mimi.ExternalParameterConnection\n",
       "  comp_path: ComponentPath(Symbol(\"##ModelDef#291\"), :grosseconomy)\n",
       "  param_name: :dk\n",
       "  model_param_name: Symbol(\"##298\")\n",
       "    Mimi.ExternalParameterConnection\n",
       "  comp_path: ComponentPath(Symbol(\"##ModelDef#291\"), :grosseconomy)\n",
       "  param_name: :gama\n",
       "  model_param_name: Symbol(\"##299\")\n",
       "    Mimi.ExternalParameterConnection\n",
       "  comp_path: ComponentPath(Symbol(\"##ModelDef#291\"), :grosseconomy)\n",
       "  param_name: :k0\n",
       "  model_param_name: Symbol(\"##300\")\n",
       "    Mimi.ExternalParameterConnection\n",
       "  comp_path: ComponentPath(Symbol(\"##ModelDef#291\"), :emissions)\n",
       "  param_name: :gsigma1\n",
       "  model_param_name: Symbol(\"##301\")\n",
       "    Mimi.ExternalParameterConnection\n",
       "  comp_path: ComponentPath(Symbol(\"##ModelDef#291\"), :emissions)\n",
       "  param_name: :dsig\n",
       "  model_param_name: Symbol(\"##302\")\n",
       "    Mimi.ExternalParameterConnection\n",
       "  comp_path: ComponentPath(Symbol(\"##ModelDef#291\"), :emissions)\n",
       "  param_name: :eland0\n",
       "  model_param_name: Symbol(\"##303\")\n",
       "    Mimi.ExternalParameterConnection\n",
       "  comp_path: ComponentPath(Symbol(\"##ModelDef#291\"), :emissions)\n",
       "  param_name: :deland\n",
       "  model_param_name: Symbol(\"##304\")\n",
       "    Mimi.ExternalParameterConnection\n",
       "  comp_path: ComponentPath(Symbol(\"##ModelDef#291\"), :emissions)\n",
       "  param_name: :e0\n",
       "  model_param_name: Symbol(\"##305\")\n",
       "    Mimi.ExternalParameterConnection\n",
       "  comp_path: ComponentPath(Symbol(\"##ModelDef#291\"), :emissions)\n",
       "  param_name: :cca0\n",
       "  model_param_name: Symbol(\"##308\")\n",
       "    Mimi.ExternalParameterConnection\n",
       "  comp_path: ComponentPath(Symbol(\"##ModelDef#291\"), :emissions)\n",
       "  param_name: :cumetree0\n",
       "  model_param_name: Symbol(\"##309\")\n",
       "    Mimi.ExternalParameterConnection\n",
       "  comp_path: ComponentPath(Symbol(\"##ModelDef#291\"), :co2cycle)\n",
       "  param_name: :b12\n",
       "  model_param_name: Symbol(\"##310\")\n",
       "    Mimi.ExternalParameterConnection\n",
       "  comp_path: ComponentPath(Symbol(\"##ModelDef#291\"), :co2cycle)\n",
       "  param_name: :b23\n",
       "  model_param_name: Symbol(\"##311\")\n",
       "    Mimi.ExternalParameterConnection\n",
       "  comp_path: ComponentPath(Symbol(\"##ModelDef#291\"), :co2cycle)\n",
       "  param_name: :mateq\n",
       "  model_param_name: Symbol(\"##312\")\n",
       "    Mimi.ExternalParameterConnection\n",
       "  comp_path: ComponentPath(Symbol(\"##ModelDef#291\"), :co2cycle)\n",
       "  param_name: :mueq\n",
       "  model_param_name: Symbol(\"##313\")\n",
       "    Mimi.ExternalParameterConnection\n",
       "  comp_path: ComponentPath(Symbol(\"##ModelDef#291\"), :co2cycle)\n",
       "  param_name: :mleq\n",
       "  model_param_name: Symbol(\"##314\")\n",
       "    Mimi.ExternalParameterConnection\n",
       "  comp_path: ComponentPath(Symbol(\"##ModelDef#291\"), :co2cycle)\n",
       "  param_name: :mat0\n",
       "  model_param_name: Symbol(\"##316\")\n",
       "    Mimi.ExternalParameterConnection\n",
       "  comp_path: ComponentPath(Symbol(\"##ModelDef#291\"), :co2cycle)\n",
       "  param_name: :ml0\n",
       "  model_param_name: Symbol(\"##317\")\n",
       "    Mimi.ExternalParameterConnection\n",
       "  comp_path: ComponentPath(Symbol(\"##ModelDef#291\"), :co2cycle)\n",
       "  param_name: :mu0\n",
       "  model_param_name: Symbol(\"##318\")\n",
       "    Mimi.ExternalParameterConnection\n",
       "  comp_path: ComponentPath(Symbol(\"##ModelDef#291\"), :radiativeforcing)\n",
       "  param_name: :eqmat\n",
       "  model_param_name: Symbol(\"##320\")\n",
       "    Mimi.ExternalParameterConnection\n",
       "  comp_path: ComponentPath(Symbol(\"##ModelDef#291\"), :radiativeforcing)\n",
       "  param_name: :fex0\n",
       "  model_param_name: Symbol(\"##322\")\n",
       "    Mimi.ExternalParameterConnection\n",
       "  comp_path: ComponentPath(Symbol(\"##ModelDef#291\"), :radiativeforcing)\n",
       "  param_name: :fex1\n",
       "  model_param_name: Symbol(\"##323\")\n",
       "    Mimi.ExternalParameterConnection\n",
       "  comp_path: ComponentPath(Symbol(\"##ModelDef#291\"), :climatedynamics)\n",
       "  param_name: :t2xco2\n",
       "  model_param_name: Symbol(\"##326\")\n",
       "    Mimi.ExternalParameterConnection\n",
       "  comp_path: ComponentPath(Symbol(\"##ModelDef#291\"), :climatedynamics)\n",
       "  param_name: :tatm0\n",
       "  model_param_name: Symbol(\"##327\")\n",
       "    Mimi.ExternalParameterConnection\n",
       "  comp_path: ComponentPath(Symbol(\"##ModelDef#291\"), :climatedynamics)\n",
       "  param_name: :tocean0\n",
       "  model_param_name: Symbol(\"##328\")\n",
       "    Mimi.ExternalParameterConnection\n",
       "  comp_path: ComponentPath(Symbol(\"##ModelDef#291\"), :climatedynamics)\n",
       "  param_name: :c1\n",
       "  model_param_name: Symbol(\"##329\")\n",
       "    Mimi.ExternalParameterConnection\n",
       "  comp_path: ComponentPath(Symbol(\"##ModelDef#291\"), :climatedynamics)\n",
       "  param_name: :c3\n",
       "  model_param_name: Symbol(\"##330\")\n",
       "    Mimi.ExternalParameterConnection\n",
       "  comp_path: ComponentPath(Symbol(\"##ModelDef#291\"), :climatedynamics)\n",
       "  param_name: :c4\n",
       "  model_param_name: Symbol(\"##331\")\n",
       "    Mimi.ExternalParameterConnection\n",
       "  comp_path: ComponentPath(Symbol(\"##ModelDef#291\"), :damages)\n",
       "  param_name: :a1\n",
       "  model_param_name: Symbol(\"##334\")\n",
       "    Mimi.ExternalParameterConnection\n",
       "  comp_path: ComponentPath(Symbol(\"##ModelDef#291\"), :damages)\n",
       "  param_name: :a2\n",
       "  model_param_name: Symbol(\"##335\")\n",
       "    Mimi.ExternalParameterConnection\n",
       "  comp_path: ComponentPath(Symbol(\"##ModelDef#291\"), :damages)\n",
       "  param_name: :a3\n",
       "  model_param_name: Symbol(\"##336\")\n",
       "    Mimi.ExternalParameterConnection\n",
       "  comp_path: ComponentPath(Symbol(\"##ModelDef#291\"), :neteconomy)\n",
       "  param_name: :S\n",
       "  model_param_name: Symbol(\"##341\")\n",
       "    Mimi.ExternalParameterConnection\n",
       "  comp_path: ComponentPath(Symbol(\"##ModelDef#291\"), :neteconomy)\n",
       "  param_name: :expcost2\n",
       "  model_param_name: Symbol(\"##343\")\n",
       "    Mimi.ExternalParameterConnection\n",
       "  comp_path: ComponentPath(Symbol(\"##ModelDef#291\"), :neteconomy)\n",
       "  param_name: :pback\n",
       "  model_param_name: Symbol(\"##344\")\n",
       "    Mimi.ExternalParameterConnection\n",
       "  comp_path: ComponentPath(Symbol(\"##ModelDef#291\"), :neteconomy)\n",
       "  param_name: :gback\n",
       "  model_param_name: Symbol(\"##345\")\n",
       "    Mimi.ExternalParameterConnection\n",
       "  comp_path: ComponentPath(Symbol(\"##ModelDef#291\"), :welfare)\n",
       "  param_name: :rr\n",
       "  model_param_name: Symbol(\"##348\")\n",
       "    Mimi.ExternalParameterConnection\n",
       "  comp_path: ComponentPath(Symbol(\"##ModelDef#291\"), :welfare)\n",
       "  param_name: :elasmu\n",
       "  model_param_name: Symbol(\"##349\")\n",
       "    Mimi.ExternalParameterConnection\n",
       "  comp_path: ComponentPath(Symbol(\"##ModelDef#291\"), :welfare)\n",
       "  param_name: :scale1\n",
       "  model_param_name: Symbol(\"##350\")\n",
       "    Mimi.ExternalParameterConnection\n",
       "  comp_path: ComponentPath(Symbol(\"##ModelDef#291\"), :welfare)\n",
       "  param_name: :scale2\n",
       "  model_param_name: Symbol(\"##351\")\n",
       "    Mimi.ExternalParameterConnection\n",
       "  comp_path: ComponentPath(Symbol(\"##ModelDef#291\"), :climatedynamics)\n",
       "  param_name: :fco22x\n",
       "  model_param_name: :fco22x\n",
       "    Mimi.ExternalParameterConnection\n",
       "  comp_path: ComponentPath(Symbol(\"##ModelDef#291\"), :radiativeforcing)\n",
       "  param_name: :fco22x\n",
       "  model_param_name: :fco22x\n",
       "    Mimi.ExternalParameterConnection\n",
       "  comp_path: ComponentPath(Symbol(\"##ModelDef#291\"), :grosseconomy)\n",
       "  param_name: :l\n",
       "  model_param_name: :l\n",
       "    Mimi.ExternalParameterConnection\n",
       "  comp_path: ComponentPath(Symbol(\"##ModelDef#291\"), :neteconomy)\n",
       "  param_name: :l\n",
       "  model_param_name: :l\n",
       "    Mimi.ExternalParameterConnection\n",
       "  comp_path: ComponentPath(Symbol(\"##ModelDef#291\"), :welfare)\n",
       "  param_name: :l\n",
       "  model_param_name: :l\n",
       "    Mimi.ExternalParameterConnection\n",
       "  comp_path: ComponentPath(Symbol(\"##ModelDef#291\"), :neteconomy)\n",
       "  param_name: :MIU\n",
       "  model_param_name: :MIU\n",
       "    Mimi.ExternalParameterConnection\n",
       "  comp_path: ComponentPath(Symbol(\"##ModelDef#291\"), :emissions)\n",
       "  param_name: :MIU\n",
       "  model_param_name: :MIU\n",
       "    Mimi.ExternalParameterConnection\n",
       "  comp_path: ComponentPath(Symbol(\"##ModelDef#291\"), :damages)\n",
       "  param_name: :IA\n",
       "  model_param_name: :IA\n",
       "    Mimi.ExternalParameterConnection\n",
       "  comp_path: ComponentPath(Symbol(\"##ModelDef#291\"), :damages)\n",
       "  param_name: :delta1\n",
       "  model_param_name: :delta1\n",
       "    Mimi.ExternalParameterConnection\n",
       "  comp_path: ComponentPath(Symbol(\"##ModelDef#291\"), :damages)\n",
       "  param_name: :l1\n",
       "  model_param_name: :l1\n",
       "    Mimi.ExternalParameterConnection\n",
       "  comp_path: ComponentPath(Symbol(\"##ModelDef#291\"), :damages)\n",
       "  param_name: :r\n",
       "  model_param_name: :r\n",
       "    Mimi.ExternalParameterConnection\n",
       "  comp_path: ComponentPath(Symbol(\"##ModelDef#291\"), :damages)\n",
       "  param_name: :FAD\n",
       "  model_param_name: :FAD\n",
       "  Backups: Symbol[]\n",
       "  Number type: Float64\n",
       "  Built: true\n",
       ", diagnostic = Dict{String, Any}(\"Maximum objective value\" => 4487.344770509417, \"Optimised policy economic vector\" => [0.039, 0.2527405103188059, 0.28755930806662505, 0.3233110977844901, 0.36404470662518, 0.4063126352998691, 0.4532601118452399, 0.5008736509184737, 0.5469293898922625, 0.5917823220608176  …  0.2510981221289626, 0.24324216260462653, 0.23857419964042645, 0.23701707690205062, 0.23061176768525637, 0.22060879493699226, 0.1924952506892636, 0.1330379725600483, 0.015706980695014347, 0.0], \"Convergence result\" => :FTOL_REACHED))"
      ]
     },
     "metadata": {},
     "output_type": "display_data"
    }
   ],
   "source": [
    "@time ext, diagn = OptMimiDICE2016R2.optimise_model(ext)"
   ]
  },
  {
   "cell_type": "code",
   "execution_count": 26,
   "metadata": {},
   "outputs": [
    {
     "data": {
      "text/plain": [
       "Electron.Window(Application(Base.PipeEndpoint(RawFD(22) paused, 0 bytes waiting), Process(setenv(`\u001b[4m/Users/adhitchandy/.julia/artifacts/28d75c9551b709f4f8172bf33e631b433c6c68d6/Julia.app/Contents/MacOS/Julia\u001b[24m \u001b[4m/Users/adhitchandy/.julia/packages/Electron/LXyZ0/src/main.js\u001b[24m \u001b[4m/var/folders/pc/yc06blr53r5bkb36yd_0qxpw0000gn/T/jlel-eaf5a6a82f0a11ef347605d302e4d4af\u001b[24m \u001b[4m/var/folders/pc/yc06blr53r5bkb36yd_0qxpw0000gn/T/jlel-sn-eaf5acd22f0a11ef3fde0b6d5cec3b14\u001b[24m \u001b[4m4srloCz0LMmJXOxXpPN0bqsnD4RDn7/PXpu3e0qTyp8zcCnfWhqvP2IDeOyJVl6c7zdpfxa1EY6N+48zuWK3e4brLiVyh0dBr67DY61Q0Ru54fkK1tSa20Fvap+culr89XFCgzSx+20VqFUcIYOlQYcw60DNy91haSR4qhK0Mrs=\u001b[24m`,[\"XPC_FLAGS=0x0\", \"COMMAND_MODE=unix2003\", \"CONDA_PROMPT_MODIFIER=(base) \", \"PATH=/opt/anaconda3/bin:/opt/anaconda3/condabin:/Users/adhitchandy/.juliaup/bin:/opt/homebrew/bin:/opt/homebrew/sbin:/Library/Frameworks/Python.framework/Versions/3.12/bin:/usr/local/bin:/System/Cryptexes/App/usr/bin:/usr/bin:/bin:/usr/sbin:/sbin:/var/run/com.apple.security.cryptexd/codex.system/bootstrap/usr/local/bin:/var/run/com.apple.security.cryptexd/codex.system/bootstrap/usr/bin:/var/run/com.apple.security.cryptexd/codex.system/bootstrap/usr/appleinternal/bin\", \"PWD=/\", \"VSCODE_CODE_CACHE_PATH=/Users/adhitchandy/Library/Application Support/Code/CachedData/611f9bfce64f25108829dd295f54a6894e87339d\", \"VSCODE_HANDLES_UNCAUGHT_ERRORS=true\", \"HOMEBREW_PREFIX=/opt/homebrew\", \"XPC_SERVICE_NAME=application.com.microsoft.VSCode.16424344.16424350\", \"VSCODE_NLS_CONFIG={\\\"locale\\\":\\\"en-gb\\\",\\\"osLocale\\\":\\\"en-gb\\\",\\\"availableLanguages\\\":{},\\\"_languagePackSupport\\\":true}\"  …  \"HOMEBREW_REPOSITORY=/opt/homebrew\", \"OPENBLAS_DEFAULT_NUM_THREADS=1\", \"USER=adhitchandy\", \"CONDA_SHLVL=1\", \"VSCODE_CRASH_REPORTER_PROCESS_TYPE=extensionHost\", \"CONDA_EXE=/opt/anaconda3/bin/conda\", \"HOME=/Users/adhitchandy\", \"JULIA_NUM_THREADS=\", \"OPENBLAS_MAIN_FREE=1\", \"VSCODE_CWD=/\"]), ProcessRunning), [1 window]), 3, true, Channel{Any}(128))"
      ]
     },
     "metadata": {},
     "output_type": "display_data"
    }
   ],
   "source": [
    "explore(ext)"
   ]
  },
  {
   "cell_type": "code",
   "execution_count": 30,
   "metadata": {},
   "outputs": [
    {
     "data": {
      "text/plain": [
       "746.1573969917412"
      ]
     },
     "metadata": {},
     "output_type": "display_data"
    }
   ],
   "source": [
    "residualdamagedamages = ext[:damages, :RESIDUALDAM];\n",
    "residualdamagedamages[50]"
   ]
  },
  {
   "cell_type": "code",
   "execution_count": 31,
   "metadata": {},
   "outputs": [
    {
     "data": {
      "text/plain": [
       "194.49637354450385"
      ]
     },
     "metadata": {},
     "output_type": "display_data"
    }
   ],
   "source": [
    "adapt = ext[:damages, :ADAPT];\n",
    "adapt[50]"
   ]
  },
  {
   "cell_type": "code",
   "execution_count": 46,
   "metadata": {},
   "outputs": [
    {
     "data": {
      "text/plain": [
       "Electron.Window(Application(Base.PipeEndpoint(RawFD(22) paused, 0 bytes waiting), Process(setenv(`\u001b[4m/Users/adhitchandy/.julia/artifacts/28d75c9551b709f4f8172bf33e631b433c6c68d6/Julia.app/Contents/MacOS/Julia\u001b[24m \u001b[4m/Users/adhitchandy/.julia/packages/Electron/LXyZ0/src/main.js\u001b[24m \u001b[4m/var/folders/pc/yc06blr53r5bkb36yd_0qxpw0000gn/T/jlel-193e83382eff11ef26566b2ccb59e4ac\u001b[24m \u001b[4m/var/folders/pc/yc06blr53r5bkb36yd_0qxpw0000gn/T/jlel-sn-193e889c2eff11ef3186a7dd096b4fbe\u001b[24m \u001b[4mYBEYff1PqehVX9AmiBhJcfnGjXByH+c3c2GwmeBFhICOjW9bm8orqIW50Wy/MhQiseFMRr5bh+V0XiexAi1vBxbbjmzBfZLzeiHQqAXUaIRxjHOCsotw4tmO+hK3fJweth+3BPkwYjG93ozWuvwM65GvQawxrQGBj+AHwLYdnrc=\u001b[24m`,[\"XPC_FLAGS=0x0\", \"COMMAND_MODE=unix2003\", \"CONDA_PROMPT_MODIFIER=(base) \", \"PATH=/opt/anaconda3/bin:/opt/anaconda3/condabin:/Users/adhitchandy/.juliaup/bin:/opt/homebrew/bin:/opt/homebrew/sbin:/Library/Frameworks/Python.framework/Versions/3.12/bin:/usr/local/bin:/System/Cryptexes/App/usr/bin:/usr/bin:/bin:/usr/sbin:/sbin:/var/run/com.apple.security.cryptexd/codex.system/bootstrap/usr/local/bin:/var/run/com.apple.security.cryptexd/codex.system/bootstrap/usr/bin:/var/run/com.apple.security.cryptexd/codex.system/bootstrap/usr/appleinternal/bin\", \"PWD=/\", \"VSCODE_CODE_CACHE_PATH=/Users/adhitchandy/Library/Application Support/Code/CachedData/611f9bfce64f25108829dd295f54a6894e87339d\", \"VSCODE_HANDLES_UNCAUGHT_ERRORS=true\", \"HOMEBREW_PREFIX=/opt/homebrew\", \"XPC_SERVICE_NAME=application.com.microsoft.VSCode.16424344.16424350\", \"VSCODE_NLS_CONFIG={\\\"locale\\\":\\\"en-gb\\\",\\\"osLocale\\\":\\\"en-gb\\\",\\\"availableLanguages\\\":{},\\\"_languagePackSupport\\\":true}\"  …  \"HOMEBREW_REPOSITORY=/opt/homebrew\", \"OPENBLAS_DEFAULT_NUM_THREADS=1\", \"USER=adhitchandy\", \"CONDA_SHLVL=1\", \"VSCODE_CRASH_REPORTER_PROCESS_TYPE=extensionHost\", \"CONDA_EXE=/opt/anaconda3/bin/conda\", \"HOME=/Users/adhitchandy\", \"JULIA_NUM_THREADS=\", \"OPENBLAS_MAIN_FREE=1\", \"VSCODE_CWD=/\"]), ProcessRunning), [1 window]), 6, true, Channel{Any}(128))"
      ]
     },
     "metadata": {},
     "output_type": "display_data"
    }
   ],
   "source": [
    "explore(ext)"
   ]
  },
  {
   "cell_type": "markdown",
   "metadata": {},
   "source": [
    "### Optimizing the Model"
   ]
  },
  {
   "cell_type": "code",
   "execution_count": 45,
   "metadata": {},
   "outputs": [
    {
     "name": "stdout",
     "output_type": "stream",
     "text": [
      " 55.989479 seconds (182.73 M allocations: 7.740 GiB, 0.59% gc time, 0.21% compilation time)\n"
     ]
    },
    {
     "data": {
      "text/plain": [
       "(m = Mimi.Model\n",
       "  Module: Mimi\n",
       "  Components:\n",
       "    ComponentId(OptMimiDICE2016R2.totalfactorproductivity)\n",
       "    ComponentId(OptMimiDICE2016R2.grosseconomy)\n",
       "    ComponentId(OptMimiDICE2016R2.emissions)\n",
       "    ComponentId(OptMimiDICE2016R2.co2cycle)\n",
       "    ComponentId(OptMimiDICE2016R2.radiativeforcing)\n",
       "    ComponentId(OptMimiDICE2016R2.climatedynamics)\n",
       "    ComponentId(Main.extension)\n",
       "    ComponentId(OptMimiDICE2016R2.neteconomy)\n",
       "    ComponentId(OptMimiDICE2016R2.welfare)\n",
       "  Dimensions:\n",
       "    time => [2015, 2020, 2025, 2030, 2035, 2040, 2045, 2050, 2055, 2060, 2065, 2070, 2075, 2080, 2085, 2090, 2095, 2100, 2105, 2110, 2115, 2120, 2125, 2130, 2135, 2140, 2145, 2150, 2155, 2160, 2165, 2170, 2175, 2180, 2185, 2190, 2195, 2200, 2205, 2210, 2215, 2220, 2225, 2230, 2235, 2240, 2245, 2250, 2255, 2260, 2265, 2270, 2275, 2280, 2285, 2290, 2295, 2300, 2305, 2310, 2315, 2320, 2325, 2330, 2335, 2340, 2345, 2350, 2355, 2360, 2365, 2370, 2375, 2380, 2385, 2390, 2395, 2400, 2405, 2410, 2415, 2420, 2425, 2430, 2435, 2440, 2445, 2450, 2455, 2460, 2465, 2470, 2475, 2480, 2485, 2490, 2495, 2500, 2505, 2510]\n",
       "  Internal Connections:\n",
       "    Mimi.InternalParameterConnection\n",
       "  src_comp_path: ComponentPath(Symbol(\"##ModelDef#423\"), :totalfactorproductivity)\n",
       "  src_var_name: :AL\n",
       "  dst_comp_path: ComponentPath(Symbol(\"##ModelDef#423\"), :grosseconomy)\n",
       "  dst_par_name: :AL\n",
       "  ignoreunits: false\n",
       "  backup: nothing\n",
       "  backup_offset: nothing\n",
       "    Mimi.InternalParameterConnection\n",
       "  src_comp_path: ComponentPath(Symbol(\"##ModelDef#423\"), :neteconomy)\n",
       "  src_var_name: :I\n",
       "  dst_comp_path: ComponentPath(Symbol(\"##ModelDef#423\"), :grosseconomy)\n",
       "  dst_par_name: :I\n",
       "  ignoreunits: false\n",
       "  backup: nothing\n",
       "  backup_offset: nothing\n",
       "    Mimi.InternalParameterConnection\n",
       "  src_comp_path: ComponentPath(Symbol(\"##ModelDef#423\"), :grosseconomy)\n",
       "  src_var_name: :YGROSS\n",
       "  dst_comp_path: ComponentPath(Symbol(\"##ModelDef#423\"), :emissions)\n",
       "  dst_par_name: :YGROSS\n",
       "  ignoreunits: false\n",
       "  backup: nothing\n",
       "  backup_offset: nothing\n",
       "    Mimi.InternalParameterConnection\n",
       "  src_comp_path: ComponentPath(Symbol(\"##ModelDef#423\"), :emissions)\n",
       "  src_var_name: :E\n",
       "  dst_comp_path: ComponentPath(Symbol(\"##ModelDef#423\"), :co2cycle)\n",
       "  dst_par_name: :E\n",
       "  ignoreunits: false\n",
       "  backup: nothing\n",
       "  backup_offset: nothing\n",
       "    Mimi.InternalParameterConnection\n",
       "  src_comp_path: ComponentPath(Symbol(\"##ModelDef#423\"), :co2cycle)\n",
       "  src_var_name: :MAT\n",
       "  dst_comp_path: ComponentPath(Symbol(\"##ModelDef#423\"), :radiativeforcing)\n",
       "  dst_par_name: :MAT\n",
       "  ignoreunits: false\n",
       "  backup: nothing\n",
       "  backup_offset: nothing\n",
       "    Mimi.InternalParameterConnection\n",
       "  src_comp_path: ComponentPath(Symbol(\"##ModelDef#423\"), :radiativeforcing)\n",
       "  src_var_name: :FORC\n",
       "  dst_comp_path: ComponentPath(Symbol(\"##ModelDef#423\"), :climatedynamics)\n",
       "  dst_par_name: :FORC\n",
       "  ignoreunits: false\n",
       "  backup: nothing\n",
       "  backup_offset: nothing\n",
       "    Mimi.InternalParameterConnection\n",
       "  src_comp_path: ComponentPath(Symbol(\"##ModelDef#423\"), :climatedynamics)\n",
       "  src_var_name: :TATM\n",
       "  dst_comp_path: ComponentPath(Symbol(\"##ModelDef#423\"), :damages)\n",
       "  dst_par_name: :TATM\n",
       "  ignoreunits: false\n",
       "  backup: nothing\n",
       "  backup_offset: nothing\n",
       "    Mimi.InternalParameterConnection\n",
       "  src_comp_path: ComponentPath(Symbol(\"##ModelDef#423\"), :grosseconomy)\n",
       "  src_var_name: :YGROSS\n",
       "  dst_comp_path: ComponentPath(Symbol(\"##ModelDef#423\"), :damages)\n",
       "  dst_par_name: :YGROSS\n",
       "  ignoreunits: false\n",
       "  backup: nothing\n",
       "  backup_offset: nothing\n",
       "    Mimi.InternalParameterConnection\n",
       "  src_comp_path: ComponentPath(Symbol(\"##ModelDef#423\"), :grosseconomy)\n",
       "  src_var_name: :YGROSS\n",
       "  dst_comp_path: ComponentPath(Symbol(\"##ModelDef#423\"), :neteconomy)\n",
       "  dst_par_name: :YGROSS\n",
       "  ignoreunits: false\n",
       "  backup: nothing\n",
       "  backup_offset: nothing\n",
       "    Mimi.InternalParameterConnection\n",
       "  src_comp_path: ComponentPath(Symbol(\"##ModelDef#423\"), :damages)\n",
       "  src_var_name: :DAMAGES\n",
       "  dst_comp_path: ComponentPath(Symbol(\"##ModelDef#423\"), :neteconomy)\n",
       "  dst_par_name: :DAMAGES\n",
       "  ignoreunits: false\n",
       "  backup: nothing\n",
       "  backup_offset: nothing\n",
       "    Mimi.InternalParameterConnection\n",
       "  src_comp_path: ComponentPath(Symbol(\"##ModelDef#423\"), :emissions)\n",
       "  src_var_name: :SIGMA\n",
       "  dst_comp_path: ComponentPath(Symbol(\"##ModelDef#423\"), :neteconomy)\n",
       "  dst_par_name: :SIGMA\n",
       "  ignoreunits: false\n",
       "  backup: nothing\n",
       "  backup_offset: nothing\n",
       "    Mimi.InternalParameterConnection\n",
       "  src_comp_path: ComponentPath(Symbol(\"##ModelDef#423\"), :neteconomy)\n",
       "  src_var_name: :CPC\n",
       "  dst_comp_path: ComponentPath(Symbol(\"##ModelDef#423\"), :welfare)\n",
       "  dst_par_name: :CPC\n",
       "  ignoreunits: false\n",
       "  backup: nothing\n",
       "  backup_offset: nothing\n",
       "  External Connections:\n",
       "    Mimi.ExternalParameterConnection\n",
       "  comp_path: ComponentPath(Symbol(\"##ModelDef#423\"), :totalfactorproductivity)\n",
       "  param_name: :a0\n",
       "  model_param_name: Symbol(\"##424\")\n",
       "    Mimi.ExternalParameterConnection\n",
       "  comp_path: ComponentPath(Symbol(\"##ModelDef#423\"), :totalfactorproductivity)\n",
       "  param_name: :ga0\n",
       "  model_param_name: Symbol(\"##425\")\n",
       "    Mimi.ExternalParameterConnection\n",
       "  comp_path: ComponentPath(Symbol(\"##ModelDef#423\"), :totalfactorproductivity)\n",
       "  param_name: :dela\n",
       "  model_param_name: Symbol(\"##426\")\n",
       "    Mimi.ExternalParameterConnection\n",
       "  comp_path: ComponentPath(Symbol(\"##ModelDef#423\"), :grosseconomy)\n",
       "  param_name: :dk\n",
       "  model_param_name: Symbol(\"##430\")\n",
       "    Mimi.ExternalParameterConnection\n",
       "  comp_path: ComponentPath(Symbol(\"##ModelDef#423\"), :grosseconomy)\n",
       "  param_name: :gama\n",
       "  model_param_name: Symbol(\"##431\")\n",
       "    Mimi.ExternalParameterConnection\n",
       "  comp_path: ComponentPath(Symbol(\"##ModelDef#423\"), :grosseconomy)\n",
       "  param_name: :k0\n",
       "  model_param_name: Symbol(\"##432\")\n",
       "    Mimi.ExternalParameterConnection\n",
       "  comp_path: ComponentPath(Symbol(\"##ModelDef#423\"), :emissions)\n",
       "  param_name: :gsigma1\n",
       "  model_param_name: Symbol(\"##433\")\n",
       "    Mimi.ExternalParameterConnection\n",
       "  comp_path: ComponentPath(Symbol(\"##ModelDef#423\"), :emissions)\n",
       "  param_name: :dsig\n",
       "  model_param_name: Symbol(\"##434\")\n",
       "    Mimi.ExternalParameterConnection\n",
       "  comp_path: ComponentPath(Symbol(\"##ModelDef#423\"), :emissions)\n",
       "  param_name: :eland0\n",
       "  model_param_name: Symbol(\"##435\")\n",
       "    Mimi.ExternalParameterConnection\n",
       "  comp_path: ComponentPath(Symbol(\"##ModelDef#423\"), :emissions)\n",
       "  param_name: :deland\n",
       "  model_param_name: Symbol(\"##436\")\n",
       "    Mimi.ExternalParameterConnection\n",
       "  comp_path: ComponentPath(Symbol(\"##ModelDef#423\"), :emissions)\n",
       "  param_name: :e0\n",
       "  model_param_name: Symbol(\"##437\")\n",
       "    Mimi.ExternalParameterConnection\n",
       "  comp_path: ComponentPath(Symbol(\"##ModelDef#423\"), :emissions)\n",
       "  param_name: :cca0\n",
       "  model_param_name: Symbol(\"##440\")\n",
       "    Mimi.ExternalParameterConnection\n",
       "  comp_path: ComponentPath(Symbol(\"##ModelDef#423\"), :emissions)\n",
       "  param_name: :cumetree0\n",
       "  model_param_name: Symbol(\"##441\")\n",
       "    Mimi.ExternalParameterConnection\n",
       "  comp_path: ComponentPath(Symbol(\"##ModelDef#423\"), :co2cycle)\n",
       "  param_name: :b12\n",
       "  model_param_name: Symbol(\"##442\")\n",
       "    Mimi.ExternalParameterConnection\n",
       "  comp_path: ComponentPath(Symbol(\"##ModelDef#423\"), :co2cycle)\n",
       "  param_name: :b23\n",
       "  model_param_name: Symbol(\"##443\")\n",
       "    Mimi.ExternalParameterConnection\n",
       "  comp_path: ComponentPath(Symbol(\"##ModelDef#423\"), :co2cycle)\n",
       "  param_name: :mateq\n",
       "  model_param_name: Symbol(\"##444\")\n",
       "    Mimi.ExternalParameterConnection\n",
       "  comp_path: ComponentPath(Symbol(\"##ModelDef#423\"), :co2cycle)\n",
       "  param_name: :mueq\n",
       "  model_param_name: Symbol(\"##445\")\n",
       "    Mimi.ExternalParameterConnection\n",
       "  comp_path: ComponentPath(Symbol(\"##ModelDef#423\"), :co2cycle)\n",
       "  param_name: :mleq\n",
       "  model_param_name: Symbol(\"##446\")\n",
       "    Mimi.ExternalParameterConnection\n",
       "  comp_path: ComponentPath(Symbol(\"##ModelDef#423\"), :co2cycle)\n",
       "  param_name: :mat0\n",
       "  model_param_name: Symbol(\"##448\")\n",
       "    Mimi.ExternalParameterConnection\n",
       "  comp_path: ComponentPath(Symbol(\"##ModelDef#423\"), :co2cycle)\n",
       "  param_name: :ml0\n",
       "  model_param_name: Symbol(\"##449\")\n",
       "    Mimi.ExternalParameterConnection\n",
       "  comp_path: ComponentPath(Symbol(\"##ModelDef#423\"), :co2cycle)\n",
       "  param_name: :mu0\n",
       "  model_param_name: Symbol(\"##450\")\n",
       "    Mimi.ExternalParameterConnection\n",
       "  comp_path: ComponentPath(Symbol(\"##ModelDef#423\"), :radiativeforcing)\n",
       "  param_name: :eqmat\n",
       "  model_param_name: Symbol(\"##452\")\n",
       "    Mimi.ExternalParameterConnection\n",
       "  comp_path: ComponentPath(Symbol(\"##ModelDef#423\"), :radiativeforcing)\n",
       "  param_name: :fex0\n",
       "  model_param_name: Symbol(\"##454\")\n",
       "    Mimi.ExternalParameterConnection\n",
       "  comp_path: ComponentPath(Symbol(\"##ModelDef#423\"), :radiativeforcing)\n",
       "  param_name: :fex1\n",
       "  model_param_name: Symbol(\"##455\")\n",
       "    Mimi.ExternalParameterConnection\n",
       "  comp_path: ComponentPath(Symbol(\"##ModelDef#423\"), :climatedynamics)\n",
       "  param_name: :t2xco2\n",
       "  model_param_name: Symbol(\"##458\")\n",
       "    Mimi.ExternalParameterConnection\n",
       "  comp_path: ComponentPath(Symbol(\"##ModelDef#423\"), :climatedynamics)\n",
       "  param_name: :tatm0\n",
       "  model_param_name: Symbol(\"##459\")\n",
       "    Mimi.ExternalParameterConnection\n",
       "  comp_path: ComponentPath(Symbol(\"##ModelDef#423\"), :climatedynamics)\n",
       "  param_name: :tocean0\n",
       "  model_param_name: Symbol(\"##460\")\n",
       "    Mimi.ExternalParameterConnection\n",
       "  comp_path: ComponentPath(Symbol(\"##ModelDef#423\"), :climatedynamics)\n",
       "  param_name: :c1\n",
       "  model_param_name: Symbol(\"##461\")\n",
       "    Mimi.ExternalParameterConnection\n",
       "  comp_path: ComponentPath(Symbol(\"##ModelDef#423\"), :climatedynamics)\n",
       "  param_name: :c3\n",
       "  model_param_name: Symbol(\"##462\")\n",
       "    Mimi.ExternalParameterConnection\n",
       "  comp_path: ComponentPath(Symbol(\"##ModelDef#423\"), :climatedynamics)\n",
       "  param_name: :c4\n",
       "  model_param_name: Symbol(\"##463\")\n",
       "    Mimi.ExternalParameterConnection\n",
       "  comp_path: ComponentPath(Symbol(\"##ModelDef#423\"), :damages)\n",
       "  param_name: :a1\n",
       "  model_param_name: Symbol(\"##466\")\n",
       "    Mimi.ExternalParameterConnection\n",
       "  comp_path: ComponentPath(Symbol(\"##ModelDef#423\"), :damages)\n",
       "  param_name: :a2\n",
       "  model_param_name: Symbol(\"##467\")\n",
       "    Mimi.ExternalParameterConnection\n",
       "  comp_path: ComponentPath(Symbol(\"##ModelDef#423\"), :damages)\n",
       "  param_name: :a3\n",
       "  model_param_name: Symbol(\"##468\")\n",
       "    Mimi.ExternalParameterConnection\n",
       "  comp_path: ComponentPath(Symbol(\"##ModelDef#423\"), :neteconomy)\n",
       "  param_name: :S\n",
       "  model_param_name: Symbol(\"##473\")\n",
       "    Mimi.ExternalParameterConnection\n",
       "  comp_path: ComponentPath(Symbol(\"##ModelDef#423\"), :neteconomy)\n",
       "  param_name: :expcost2\n",
       "  model_param_name: Symbol(\"##475\")\n",
       "    Mimi.ExternalParameterConnection\n",
       "  comp_path: ComponentPath(Symbol(\"##ModelDef#423\"), :neteconomy)\n",
       "  param_name: :pback\n",
       "  model_param_name: Symbol(\"##476\")\n",
       "    Mimi.ExternalParameterConnection\n",
       "  comp_path: ComponentPath(Symbol(\"##ModelDef#423\"), :neteconomy)\n",
       "  param_name: :gback\n",
       "  model_param_name: Symbol(\"##477\")\n",
       "    Mimi.ExternalParameterConnection\n",
       "  comp_path: ComponentPath(Symbol(\"##ModelDef#423\"), :welfare)\n",
       "  param_name: :rr\n",
       "  model_param_name: Symbol(\"##480\")\n",
       "    Mimi.ExternalParameterConnection\n",
       "  comp_path: ComponentPath(Symbol(\"##ModelDef#423\"), :welfare)\n",
       "  param_name: :elasmu\n",
       "  model_param_name: Symbol(\"##481\")\n",
       "    Mimi.ExternalParameterConnection\n",
       "  comp_path: ComponentPath(Symbol(\"##ModelDef#423\"), :welfare)\n",
       "  param_name: :scale1\n",
       "  model_param_name: Symbol(\"##482\")\n",
       "    Mimi.ExternalParameterConnection\n",
       "  comp_path: ComponentPath(Symbol(\"##ModelDef#423\"), :welfare)\n",
       "  param_name: :scale2\n",
       "  model_param_name: Symbol(\"##483\")\n",
       "    Mimi.ExternalParameterConnection\n",
       "  comp_path: ComponentPath(Symbol(\"##ModelDef#423\"), :climatedynamics)\n",
       "  param_name: :fco22x\n",
       "  model_param_name: :fco22x\n",
       "    Mimi.ExternalParameterConnection\n",
       "  comp_path: ComponentPath(Symbol(\"##ModelDef#423\"), :radiativeforcing)\n",
       "  param_name: :fco22x\n",
       "  model_param_name: :fco22x\n",
       "    Mimi.ExternalParameterConnection\n",
       "  comp_path: ComponentPath(Symbol(\"##ModelDef#423\"), :grosseconomy)\n",
       "  param_name: :l\n",
       "  model_param_name: :l\n",
       "    Mimi.ExternalParameterConnection\n",
       "  comp_path: ComponentPath(Symbol(\"##ModelDef#423\"), :neteconomy)\n",
       "  param_name: :l\n",
       "  model_param_name: :l\n",
       "    Mimi.ExternalParameterConnection\n",
       "  comp_path: ComponentPath(Symbol(\"##ModelDef#423\"), :welfare)\n",
       "  param_name: :l\n",
       "  model_param_name: :l\n",
       "    Mimi.ExternalParameterConnection\n",
       "  comp_path: ComponentPath(Symbol(\"##ModelDef#423\"), :neteconomy)\n",
       "  param_name: :MIU\n",
       "  model_param_name: :MIU\n",
       "    Mimi.ExternalParameterConnection\n",
       "  comp_path: ComponentPath(Symbol(\"##ModelDef#423\"), :emissions)\n",
       "  param_name: :MIU\n",
       "  model_param_name: :MIU\n",
       "    Mimi.ExternalParameterConnection\n",
       "  comp_path: ComponentPath(Symbol(\"##ModelDef#423\"), :damages)\n",
       "  param_name: :IA\n",
       "  model_param_name: :IA\n",
       "    Mimi.ExternalParameterConnection\n",
       "  comp_path: ComponentPath(Symbol(\"##ModelDef#423\"), :damages)\n",
       "  param_name: :delta1\n",
       "  model_param_name: :delta1\n",
       "    Mimi.ExternalParameterConnection\n",
       "  comp_path: ComponentPath(Symbol(\"##ModelDef#423\"), :damages)\n",
       "  param_name: :l1\n",
       "  model_param_name: :l1\n",
       "    Mimi.ExternalParameterConnection\n",
       "  comp_path: ComponentPath(Symbol(\"##ModelDef#423\"), :damages)\n",
       "  param_name: :r\n",
       "  model_param_name: :r\n",
       "    Mimi.ExternalParameterConnection\n",
       "  comp_path: ComponentPath(Symbol(\"##ModelDef#423\"), :damages)\n",
       "  param_name: :FAD\n",
       "  model_param_name: :FAD\n",
       "  Backups: Symbol[]\n",
       "  Number type: Float64\n",
       "  Built: true\n",
       ", diagnostic = Dict{String, Any}(\"Maximum objective value\" => 4519.910647027002, \"Optimised policy economic vector\" => [0.039, 0.2510812828064001, 0.2850610898422295, 0.3210216375618745, 0.36053729142181157, 0.40317244023809373, 0.4469712315788472, 0.49404446924324874, 0.5431594230989691, 0.600938388956117  …  0.23848936795904424, 0.23698271702046966, 0.2369895346302382, 0.2361754955723625, 0.22212233906611295, 0.21035288996735596, 0.193536081803041, 0.1362808269418787, 0.008472022774323053, 0.0], \"Convergence result\" => :FTOL_REACHED))"
      ]
     },
     "metadata": {},
     "output_type": "display_data"
    }
   ],
   "source": [
    "@time m_opt, diagn = OptMimiDICE2016R2.optimise_model(ext)"
   ]
  },
  {
   "cell_type": "code",
   "execution_count": 47,
   "metadata": {},
   "outputs": [
    {
     "data": {
      "text/plain": [
       "Electron.Window(Application(Base.PipeEndpoint(RawFD(22) paused, 0 bytes waiting), Process(setenv(`\u001b[4m/Users/adhitchandy/.julia/artifacts/28d75c9551b709f4f8172bf33e631b433c6c68d6/Julia.app/Contents/MacOS/Julia\u001b[24m \u001b[4m/Users/adhitchandy/.julia/packages/Electron/LXyZ0/src/main.js\u001b[24m \u001b[4m/var/folders/pc/yc06blr53r5bkb36yd_0qxpw0000gn/T/jlel-193e83382eff11ef26566b2ccb59e4ac\u001b[24m \u001b[4m/var/folders/pc/yc06blr53r5bkb36yd_0qxpw0000gn/T/jlel-sn-193e889c2eff11ef3186a7dd096b4fbe\u001b[24m \u001b[4mYBEYff1PqehVX9AmiBhJcfnGjXByH+c3c2GwmeBFhICOjW9bm8orqIW50Wy/MhQiseFMRr5bh+V0XiexAi1vBxbbjmzBfZLzeiHQqAXUaIRxjHOCsotw4tmO+hK3fJweth+3BPkwYjG93ozWuvwM65GvQawxrQGBj+AHwLYdnrc=\u001b[24m`,[\"XPC_FLAGS=0x0\", \"COMMAND_MODE=unix2003\", \"CONDA_PROMPT_MODIFIER=(base) \", \"PATH=/opt/anaconda3/bin:/opt/anaconda3/condabin:/Users/adhitchandy/.juliaup/bin:/opt/homebrew/bin:/opt/homebrew/sbin:/Library/Frameworks/Python.framework/Versions/3.12/bin:/usr/local/bin:/System/Cryptexes/App/usr/bin:/usr/bin:/bin:/usr/sbin:/sbin:/var/run/com.apple.security.cryptexd/codex.system/bootstrap/usr/local/bin:/var/run/com.apple.security.cryptexd/codex.system/bootstrap/usr/bin:/var/run/com.apple.security.cryptexd/codex.system/bootstrap/usr/appleinternal/bin\", \"PWD=/\", \"VSCODE_CODE_CACHE_PATH=/Users/adhitchandy/Library/Application Support/Code/CachedData/611f9bfce64f25108829dd295f54a6894e87339d\", \"VSCODE_HANDLES_UNCAUGHT_ERRORS=true\", \"HOMEBREW_PREFIX=/opt/homebrew\", \"XPC_SERVICE_NAME=application.com.microsoft.VSCode.16424344.16424350\", \"VSCODE_NLS_CONFIG={\\\"locale\\\":\\\"en-gb\\\",\\\"osLocale\\\":\\\"en-gb\\\",\\\"availableLanguages\\\":{},\\\"_languagePackSupport\\\":true}\"  …  \"HOMEBREW_REPOSITORY=/opt/homebrew\", \"OPENBLAS_DEFAULT_NUM_THREADS=1\", \"USER=adhitchandy\", \"CONDA_SHLVL=1\", \"VSCODE_CRASH_REPORTER_PROCESS_TYPE=extensionHost\", \"CONDA_EXE=/opt/anaconda3/bin/conda\", \"HOME=/Users/adhitchandy\", \"JULIA_NUM_THREADS=\", \"OPENBLAS_MAIN_FREE=1\", \"VSCODE_CWD=/\"]), ProcessRunning), [1 window]), 7, true, Channel{Any}(128))"
      ]
     },
     "metadata": {},
     "output_type": "display_data"
    }
   ],
   "source": [
    "explore(m_opt)"
   ]
  },
  {
   "cell_type": "markdown",
   "metadata": {},
   "source": [
    "### Plotting"
   ]
  },
  {
   "cell_type": "markdown",
   "metadata": {},
   "source": [
    "Need to use only once"
   ]
  },
  {
   "cell_type": "code",
   "execution_count": null,
   "metadata": {},
   "outputs": [],
   "source": [
    "Pkg.add(\"Plots\")\n",
    "Pkg.add(\"LaTeXStrings\")"
   ]
  },
  {
   "cell_type": "code",
   "execution_count": null,
   "metadata": {},
   "outputs": [],
   "source": [
    "using Plots\n",
    "using LaTeXStrings"
   ]
  },
  {
   "cell_type": "code",
   "execution_count": null,
   "metadata": {},
   "outputs": [],
   "source": [
    "timesteps = collect(Mimi.dimension(ext, :time))\n",
    "timesteps = [x[1] for x in timesteps];\n",
    "timesteps = [year for year in timesteps if year <= 2200]"
   ]
  },
  {
   "cell_type": "code",
   "execution_count": 41,
   "metadata": {},
   "outputs": [],
   "source": [
    "damages = ext[:damages, :DAMAGES];\n",
    "adaptation = ext[:damages, :PROTECTIONCOST];\n",
    "residualdamage = ext[:damages, :RESIDUALDAM];\n",
    "ygross = ext[:damages, :YGROSS];"
   ]
  },
  {
   "cell_type": "code",
   "execution_count": 44,
   "metadata": {},
   "outputs": [
    {
     "data": {
      "text/plain": [
       "105.17742197545904"
      ]
     },
     "metadata": {},
     "output_type": "display_data"
    }
   ],
   "source": [
    "ygross[1]"
   ]
  },
  {
   "cell_type": "code",
   "execution_count": null,
   "metadata": {},
   "outputs": [],
   "source": [
    "damages[1]"
   ]
  },
  {
   "cell_type": "code",
   "execution_count": null,
   "metadata": {},
   "outputs": [],
   "source": [
    "adaptation[1] + residualdamage[1]"
   ]
  },
  {
   "cell_type": "code",
   "execution_count": null,
   "metadata": {},
   "outputs": [],
   "source": [
    "plot(timesteps, [damages adaptation residualdamage], label=[\"total damages\" \"adaptation cost\" \"residual cost\"], xlabel=\"Time [years]\")"
   ]
  },
  {
   "cell_type": "code",
   "execution_count": null,
   "metadata": {},
   "outputs": [],
   "source": [
    "# Get the social cost of carbon in year 2020 from the default MimiDICE2016R2 model:\n",
    "scc = OptMimiDICE2016R2.compute_scc(ext, year=2300, prtp=0.03)"
   ]
  },
  {
   "cell_type": "code",
   "execution_count": null,
   "metadata": {},
   "outputs": [],
   "source": [
    "netoutput = ext[:damages, :NETY];\n",
    "netoutput100 = netoutput[100]"
   ]
  },
  {
   "cell_type": "code",
   "execution_count": null,
   "metadata": {},
   "outputs": [],
   "source": [
    "nety = ext[:neteconomy, :YNET];\n",
    "netoutput100 =netoutput[100]"
   ]
  },
  {
   "cell_type": "code",
   "execution_count": null,
   "metadata": {},
   "outputs": [],
   "source": [
    "output = ext[:grosseconomy, :YGROSS];\n",
    "output100 = output[100]"
   ]
  },
  {
   "cell_type": "code",
   "execution_count": null,
   "metadata": {},
   "outputs": [],
   "source": [
    "cost = output100 - netoutput100\n"
   ]
  },
  {
   "cell_type": "code",
   "execution_count": null,
   "metadata": {},
   "outputs": [],
   "source": [
    "adaptcost = adaptation[100]"
   ]
  }
 ],
 "metadata": {
  "kernelspec": {
   "display_name": "Julia 1.10.2",
   "language": "julia",
   "name": "julia-1.10"
  },
  "language_info": {
   "file_extension": ".jl",
   "mimetype": "application/julia",
   "name": "julia",
   "version": "1.10.2"
  }
 },
 "nbformat": 4,
 "nbformat_minor": 2
}
