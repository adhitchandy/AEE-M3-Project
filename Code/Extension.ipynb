{
 "cells": [
  {
   "cell_type": "markdown",
   "metadata": {},
   "source": [
    "# Running OptMiMiDICE2016R2 "
   ]
  },
  {
   "cell_type": "code",
   "execution_count": 1,
   "metadata": {},
   "outputs": [
    {
     "name": "stderr",
     "output_type": "stream",
     "text": [
      "\u001b[32m\u001b[1m  Activating\u001b[22m\u001b[39m project at `~/Library/CloudStorage/OneDrive-M365UniversitätHamburg/Semester 4/Environmental Economics/M3 Project/Code`\n"
     ]
    }
   ],
   "source": [
    "using Pkg\n",
    "Pkg.activate(\".\") # activate the current environment"
   ]
  },
  {
   "cell_type": "markdown",
   "metadata": {},
   "source": [
    "## Adding OptMimiDICE2016R2 & Mimi to the Directory"
   ]
  },
  {
   "cell_type": "markdown",
   "metadata": {},
   "source": [
    "<span style=\"color:red\">Need to use only once. </span>"
   ]
  },
  {
   "cell_type": "code",
   "execution_count": null,
   "metadata": {},
   "outputs": [],
   "source": [
    "using Pkg\n",
    "Pkg.add(url=\"https://github.com/felixschaumann/OptMimiDICE2016R2.jl\")\n",
    "Pkg.add(\"Mimi\")"
   ]
  },
  {
   "cell_type": "code",
   "execution_count": 3,
   "metadata": {},
   "outputs": [
    {
     "name": "stdout",
     "output_type": "stream",
     "text": [
      "\u001b[32m\u001b[1mStatus\u001b[22m\u001b[39m `~/Library/CloudStorage/OneDrive-M365UniversitätHamburg/Semester 4/Environmental Economics/M3 Project/Code/Project.toml`\n",
      "  \u001b[90m[a93c6f00] \u001b[39mDataFrames v1.6.1\n",
      "\u001b[32m⌃\u001b[39m \u001b[90m[89b67f3b] \u001b[39mExcelFiles v0.6.1\n",
      "  \u001b[90m[033835bb] \u001b[39mJLD2 v0.4.48\n",
      "  \u001b[90m[b964fa9f] \u001b[39mLaTeXStrings v1.3.1\n",
      "  \u001b[90m[e4e893b0] \u001b[39mMimi v1.5.3\n",
      "  \u001b[90m[f1883be1] \u001b[39mOptMimiDICE2016R2 v0.1.1-DEV `https://github.com/felixschaumann/OptMimiDICE2016R2.jl#main`\n",
      "  \u001b[90m[91a5bcdd] \u001b[39mPlots v1.40.4\n",
      "  \u001b[90m[fdbf4ff8] \u001b[39mXLSX v0.10.1\n",
      "\u001b[36m\u001b[1mInfo\u001b[22m\u001b[39m Packages marked with \u001b[32m⌃\u001b[39m have new versions available and may be upgradable.\n"
     ]
    }
   ],
   "source": [
    "Pkg.status()"
   ]
  },
  {
   "cell_type": "markdown",
   "metadata": {},
   "source": [
    "## Import Packages"
   ]
  },
  {
   "cell_type": "code",
   "execution_count": 454,
   "metadata": {},
   "outputs": [],
   "source": [
    "using Mimi\n",
    "using OptMimiDICE2016R2"
   ]
  },
  {
   "cell_type": "markdown",
   "metadata": {},
   "source": [
    "## Adding the extension"
   ]
  },
  {
   "cell_type": "code",
   "execution_count": 549,
   "metadata": {},
   "outputs": [],
   "source": [
    "ext = OptMimiDICE2016R2.get_model()\n",
    "run(ext)"
   ]
  },
  {
   "cell_type": "code",
   "execution_count": 550,
   "metadata": {},
   "outputs": [],
   "source": [
    "include(\"./extension.jl\")\n",
    "replace!(ext, :damages => extension);"
   ]
  },
  {
   "cell_type": "markdown",
   "metadata": {},
   "source": [
    "### The following code is only for setting the parameters for the first run, after that use update_param! "
   ]
  },
  {
   "cell_type": "code",
   "execution_count": 551,
   "metadata": {},
   "outputs": [],
   "source": [
    "using JLD2\n",
    "@load \"lambda1.jld2\" lambda1 #initial lambda1\n",
    "@load \"adbudget.jld2\" adbudget;\n",
    "@load \"calib1.jld2\" calib1; #calibrated values for lambda1\n"
   ]
  },
  {
   "cell_type": "code",
   "execution_count": 552,
   "metadata": {},
   "outputs": [],
   "source": [
    "set_param!(ext, :damages, :B, adbudget)\n",
    "set_param!(ext, :damages, :delta1, 0.05)\n",
    "set_param!(ext, :damages, :l1, calib1.^(1/1.2)) #better calibration using power (1/1.2)\n",
    "set_param!(ext, :damages, :l2, 0.038)\n",
    "set_param!(ext, :damages, :flowshare, 0.5 .* ones(100))"
   ]
  },
  {
   "cell_type": "markdown",
   "metadata": {},
   "source": [
    "### update param"
   ]
  },
  {
   "cell_type": "code",
   "execution_count": 553,
   "metadata": {},
   "outputs": [
    {
     "data": {
      "text/plain": [
       "true"
      ]
     },
     "metadata": {},
     "output_type": "display_data"
    }
   ],
   "source": [
    "update_param!(ext, :damages, :a1, 0.0012)\n",
    "update_param!(ext, :damages, :a2, 0.0023)\n",
    "update_param!(ext, :damages, :a3, 2.32)\n",
    "update_param!(ext, :l2, 0.19)\n",
    "update_param!(ext, :flowshare, 0 .* ones(100))"
   ]
  },
  {
   "cell_type": "code",
   "execution_count": 554,
   "metadata": {},
   "outputs": [],
   "source": [
    "run(ext)"
   ]
  },
  {
   "cell_type": "code",
   "execution_count": 409,
   "metadata": {},
   "outputs": [
    {
     "data": {
      "text/plain": [
       "Electron.Window(Application(Base.PipeEndpoint(RawFD(22) paused, 0 bytes waiting), Process(setenv(`\u001b[4m/Users/adhitchandy/.julia/artifacts/28d75c9551b709f4f8172bf33e631b433c6c68d6/Julia.app/Contents/MacOS/Julia\u001b[24m \u001b[4m/Users/adhitchandy/.julia/packages/Electron/LXyZ0/src/main.js\u001b[24m \u001b[4m/var/folders/pc/yc06blr53r5bkb36yd_0qxpw0000gn/T/jlel-b76f02a62f1511ef26f2b7a77ceb151d\u001b[24m \u001b[4m/var/folders/pc/yc06blr53r5bkb36yd_0qxpw0000gn/T/jlel-sn-b76f08dc2f1511ef29ebafdf8b39f32d\u001b[24m \u001b[4m2SZAqFuVxYfRUqyK0FWBEHh4cCBqv3HKJNgpN+kB1LYv4exGcnCwxIuDkk5Y3/+XxUqrt4OiVHd8LQaAJHWka8bkRz2+fqUBHkc5TV4W9j7WEwjhG8d6QXt3scU38YlCXGqSA34/ES9X28fPwvl575tWzVzWA1Scid8msPEtpRA=\u001b[24m`,[\"XPC_FLAGS=0x0\", \"COMMAND_MODE=unix2003\", \"CONDA_PROMPT_MODIFIER=(base) \", \"PATH=/opt/anaconda3/bin:/opt/anaconda3/condabin:/Users/adhitchandy/.juliaup/bin:/opt/homebrew/bin:/opt/homebrew/sbin:/Library/Frameworks/Python.framework/Versions/3.12/bin:/usr/local/bin:/System/Cryptexes/App/usr/bin:/usr/bin:/bin:/usr/sbin:/sbin:/var/run/com.apple.security.cryptexd/codex.system/bootstrap/usr/local/bin:/var/run/com.apple.security.cryptexd/codex.system/bootstrap/usr/bin:/var/run/com.apple.security.cryptexd/codex.system/bootstrap/usr/appleinternal/bin\", \"PWD=/\", \"VSCODE_CODE_CACHE_PATH=/Users/adhitchandy/Library/Application Support/Code/CachedData/5437499feb04f7a586f677b155b039bc2b3669eb\", \"VSCODE_HANDLES_UNCAUGHT_ERRORS=true\", \"HOMEBREW_PREFIX=/opt/homebrew\", \"XPC_SERVICE_NAME=application.com.microsoft.VSCode.16838197.16838203\", \"VSCODE_NLS_CONFIG={\\\"locale\\\":\\\"en-gb\\\",\\\"osLocale\\\":\\\"en-gb\\\",\\\"availableLanguages\\\":{},\\\"_languagePackSupport\\\":true}\"  …  \"HOMEBREW_REPOSITORY=/opt/homebrew\", \"OPENBLAS_DEFAULT_NUM_THREADS=1\", \"USER=adhitchandy\", \"CONDA_SHLVL=1\", \"VSCODE_CRASH_REPORTER_PROCESS_TYPE=extensionHost\", \"CONDA_EXE=/opt/anaconda3/bin/conda\", \"HOME=/Users/adhitchandy\", \"JULIA_NUM_THREADS=\", \"OPENBLAS_MAIN_FREE=1\", \"VSCODE_CWD=/\"]), ProcessRunning), [1 window]), 23, true, Channel{Any}(128))"
      ]
     },
     "metadata": {},
     "output_type": "display_data"
    }
   ],
   "source": [
    "explore(ext)"
   ]
  },
  {
   "cell_type": "markdown",
   "metadata": {},
   "source": [
    "### Optimizing the Model"
   ]
  },
  {
   "cell_type": "code",
   "execution_count": 555,
   "metadata": {},
   "outputs": [
    {
     "name": "stdout",
     "output_type": "stream",
     "text": [
      " 54.510142 seconds (183.05 M allocations: 7.746 GiB, 0.67% gc time)\n"
     ]
    },
    {
     "data": {
      "text/plain": [
       "(m = Mimi.Model\n",
       "  Module: Mimi\n",
       "  Components:\n",
       "    ComponentId(OptMimiDICE2016R2.totalfactorproductivity)\n",
       "    ComponentId(OptMimiDICE2016R2.grosseconomy)\n",
       "    ComponentId(OptMimiDICE2016R2.emissions)\n",
       "    ComponentId(OptMimiDICE2016R2.co2cycle)\n",
       "    ComponentId(OptMimiDICE2016R2.radiativeforcing)\n",
       "    ComponentId(OptMimiDICE2016R2.climatedynamics)\n",
       "    ComponentId(Main.extension)\n",
       "    ComponentId(OptMimiDICE2016R2.neteconomy)\n",
       "    ComponentId(OptMimiDICE2016R2.welfare)\n",
       "  Dimensions:\n",
       "    time => [2015, 2020, 2025, 2030, 2035, 2040, 2045, 2050, 2055, 2060, 2065, 2070, 2075, 2080, 2085, 2090, 2095, 2100, 2105, 2110, 2115, 2120, 2125, 2130, 2135, 2140, 2145, 2150, 2155, 2160, 2165, 2170, 2175, 2180, 2185, 2190, 2195, 2200, 2205, 2210, 2215, 2220, 2225, 2230, 2235, 2240, 2245, 2250, 2255, 2260, 2265, 2270, 2275, 2280, 2285, 2290, 2295, 2300, 2305, 2310, 2315, 2320, 2325, 2330, 2335, 2340, 2345, 2350, 2355, 2360, 2365, 2370, 2375, 2380, 2385, 2390, 2395, 2400, 2405, 2410, 2415, 2420, 2425, 2430, 2435, 2440, 2445, 2450, 2455, 2460, 2465, 2470, 2475, 2480, 2485, 2490, 2495, 2500, 2505, 2510]\n",
       "  Internal Connections:\n",
       "    Mimi.InternalParameterConnection\n",
       "  src_comp_path: ComponentPath(Symbol(\"##ModelDef#3137\"), :totalfactorproductivity)\n",
       "  src_var_name: :AL\n",
       "  dst_comp_path: ComponentPath(Symbol(\"##ModelDef#3137\"), :grosseconomy)\n",
       "  dst_par_name: :AL\n",
       "  ignoreunits: false\n",
       "  backup: nothing\n",
       "  backup_offset: nothing\n",
       "    Mimi.InternalParameterConnection\n",
       "  src_comp_path: ComponentPath(Symbol(\"##ModelDef#3137\"), :neteconomy)\n",
       "  src_var_name: :I\n",
       "  dst_comp_path: ComponentPath(Symbol(\"##ModelDef#3137\"), :grosseconomy)\n",
       "  dst_par_name: :I\n",
       "  ignoreunits: false\n",
       "  backup: nothing\n",
       "  backup_offset: nothing\n",
       "    Mimi.InternalParameterConnection\n",
       "  src_comp_path: ComponentPath(Symbol(\"##ModelDef#3137\"), :grosseconomy)\n",
       "  src_var_name: :YGROSS\n",
       "  dst_comp_path: ComponentPath(Symbol(\"##ModelDef#3137\"), :emissions)\n",
       "  dst_par_name: :YGROSS\n",
       "  ignoreunits: false\n",
       "  backup: nothing\n",
       "  backup_offset: nothing\n",
       "    Mimi.InternalParameterConnection\n",
       "  src_comp_path: ComponentPath(Symbol(\"##ModelDef#3137\"), :emissions)\n",
       "  src_var_name: :E\n",
       "  dst_comp_path: ComponentPath(Symbol(\"##ModelDef#3137\"), :co2cycle)\n",
       "  dst_par_name: :E\n",
       "  ignoreunits: false\n",
       "  backup: nothing\n",
       "  backup_offset: nothing\n",
       "    Mimi.InternalParameterConnection\n",
       "  src_comp_path: ComponentPath(Symbol(\"##ModelDef#3137\"), :co2cycle)\n",
       "  src_var_name: :MAT\n",
       "  dst_comp_path: ComponentPath(Symbol(\"##ModelDef#3137\"), :radiativeforcing)\n",
       "  dst_par_name: :MAT\n",
       "  ignoreunits: false\n",
       "  backup: nothing\n",
       "  backup_offset: nothing\n",
       "    Mimi.InternalParameterConnection\n",
       "  src_comp_path: ComponentPath(Symbol(\"##ModelDef#3137\"), :radiativeforcing)\n",
       "  src_var_name: :FORC\n",
       "  dst_comp_path: ComponentPath(Symbol(\"##ModelDef#3137\"), :climatedynamics)\n",
       "  dst_par_name: :FORC\n",
       "  ignoreunits: false\n",
       "  backup: nothing\n",
       "  backup_offset: nothing\n",
       "    Mimi.InternalParameterConnection\n",
       "  src_comp_path: ComponentPath(Symbol(\"##ModelDef#3137\"), :climatedynamics)\n",
       "  src_var_name: :TATM\n",
       "  dst_comp_path: ComponentPath(Symbol(\"##ModelDef#3137\"), :damages)\n",
       "  dst_par_name: :TATM\n",
       "  ignoreunits: false\n",
       "  backup: nothing\n",
       "  backup_offset: nothing\n",
       "    Mimi.InternalParameterConnection\n",
       "  src_comp_path: ComponentPath(Symbol(\"##ModelDef#3137\"), :grosseconomy)\n",
       "  src_var_name: :YGROSS\n",
       "  dst_comp_path: ComponentPath(Symbol(\"##ModelDef#3137\"), :damages)\n",
       "  dst_par_name: :YGROSS\n",
       "  ignoreunits: false\n",
       "  backup: nothing\n",
       "  backup_offset: nothing\n",
       "    Mimi.InternalParameterConnection\n",
       "  src_comp_path: ComponentPath(Symbol(\"##ModelDef#3137\"), :grosseconomy)\n",
       "  src_var_name: :YGROSS\n",
       "  dst_comp_path: ComponentPath(Symbol(\"##ModelDef#3137\"), :neteconomy)\n",
       "  dst_par_name: :YGROSS\n",
       "  ignoreunits: false\n",
       "  backup: nothing\n",
       "  backup_offset: nothing\n",
       "    Mimi.InternalParameterConnection\n",
       "  src_comp_path: ComponentPath(Symbol(\"##ModelDef#3137\"), :damages)\n",
       "  src_var_name: :DAMAGES\n",
       "  dst_comp_path: ComponentPath(Symbol(\"##ModelDef#3137\"), :neteconomy)\n",
       "  dst_par_name: :DAMAGES\n",
       "  ignoreunits: false\n",
       "  backup: nothing\n",
       "  backup_offset: nothing\n",
       "    Mimi.InternalParameterConnection\n",
       "  src_comp_path: ComponentPath(Symbol(\"##ModelDef#3137\"), :emissions)\n",
       "  src_var_name: :SIGMA\n",
       "  dst_comp_path: ComponentPath(Symbol(\"##ModelDef#3137\"), :neteconomy)\n",
       "  dst_par_name: :SIGMA\n",
       "  ignoreunits: false\n",
       "  backup: nothing\n",
       "  backup_offset: nothing\n",
       "    Mimi.InternalParameterConnection\n",
       "  src_comp_path: ComponentPath(Symbol(\"##ModelDef#3137\"), :neteconomy)\n",
       "  src_var_name: :CPC\n",
       "  dst_comp_path: ComponentPath(Symbol(\"##ModelDef#3137\"), :welfare)\n",
       "  dst_par_name: :CPC\n",
       "  ignoreunits: false\n",
       "  backup: nothing\n",
       "  backup_offset: nothing\n",
       "  External Connections:\n",
       "    Mimi.ExternalParameterConnection\n",
       "  comp_path: ComponentPath(Symbol(\"##ModelDef#3137\"), :totalfactorproductivity)\n",
       "  param_name: :a0\n",
       "  model_param_name: Symbol(\"##3138\")\n",
       "    Mimi.ExternalParameterConnection\n",
       "  comp_path: ComponentPath(Symbol(\"##ModelDef#3137\"), :totalfactorproductivity)\n",
       "  param_name: :ga0\n",
       "  model_param_name: Symbol(\"##3139\")\n",
       "    Mimi.ExternalParameterConnection\n",
       "  comp_path: ComponentPath(Symbol(\"##ModelDef#3137\"), :totalfactorproductivity)\n",
       "  param_name: :dela\n",
       "  model_param_name: Symbol(\"##3140\")\n",
       "    Mimi.ExternalParameterConnection\n",
       "  comp_path: ComponentPath(Symbol(\"##ModelDef#3137\"), :grosseconomy)\n",
       "  param_name: :dk\n",
       "  model_param_name: Symbol(\"##3144\")\n",
       "    Mimi.ExternalParameterConnection\n",
       "  comp_path: ComponentPath(Symbol(\"##ModelDef#3137\"), :grosseconomy)\n",
       "  param_name: :gama\n",
       "  model_param_name: Symbol(\"##3145\")\n",
       "    Mimi.ExternalParameterConnection\n",
       "  comp_path: ComponentPath(Symbol(\"##ModelDef#3137\"), :grosseconomy)\n",
       "  param_name: :k0\n",
       "  model_param_name: Symbol(\"##3146\")\n",
       "    Mimi.ExternalParameterConnection\n",
       "  comp_path: ComponentPath(Symbol(\"##ModelDef#3137\"), :emissions)\n",
       "  param_name: :gsigma1\n",
       "  model_param_name: Symbol(\"##3147\")\n",
       "    Mimi.ExternalParameterConnection\n",
       "  comp_path: ComponentPath(Symbol(\"##ModelDef#3137\"), :emissions)\n",
       "  param_name: :dsig\n",
       "  model_param_name: Symbol(\"##3148\")\n",
       "    Mimi.ExternalParameterConnection\n",
       "  comp_path: ComponentPath(Symbol(\"##ModelDef#3137\"), :emissions)\n",
       "  param_name: :eland0\n",
       "  model_param_name: Symbol(\"##3149\")\n",
       "    Mimi.ExternalParameterConnection\n",
       "  comp_path: ComponentPath(Symbol(\"##ModelDef#3137\"), :emissions)\n",
       "  param_name: :deland\n",
       "  model_param_name: Symbol(\"##3150\")\n",
       "    Mimi.ExternalParameterConnection\n",
       "  comp_path: ComponentPath(Symbol(\"##ModelDef#3137\"), :emissions)\n",
       "  param_name: :e0\n",
       "  model_param_name: Symbol(\"##3151\")\n",
       "    Mimi.ExternalParameterConnection\n",
       "  comp_path: ComponentPath(Symbol(\"##ModelDef#3137\"), :emissions)\n",
       "  param_name: :cca0\n",
       "  model_param_name: Symbol(\"##3154\")\n",
       "    Mimi.ExternalParameterConnection\n",
       "  comp_path: ComponentPath(Symbol(\"##ModelDef#3137\"), :emissions)\n",
       "  param_name: :cumetree0\n",
       "  model_param_name: Symbol(\"##3155\")\n",
       "    Mimi.ExternalParameterConnection\n",
       "  comp_path: ComponentPath(Symbol(\"##ModelDef#3137\"), :co2cycle)\n",
       "  param_name: :b12\n",
       "  model_param_name: Symbol(\"##3156\")\n",
       "    Mimi.ExternalParameterConnection\n",
       "  comp_path: ComponentPath(Symbol(\"##ModelDef#3137\"), :co2cycle)\n",
       "  param_name: :b23\n",
       "  model_param_name: Symbol(\"##3157\")\n",
       "    Mimi.ExternalParameterConnection\n",
       "  comp_path: ComponentPath(Symbol(\"##ModelDef#3137\"), :co2cycle)\n",
       "  param_name: :mateq\n",
       "  model_param_name: Symbol(\"##3158\")\n",
       "    Mimi.ExternalParameterConnection\n",
       "  comp_path: ComponentPath(Symbol(\"##ModelDef#3137\"), :co2cycle)\n",
       "  param_name: :mueq\n",
       "  model_param_name: Symbol(\"##3159\")\n",
       "    Mimi.ExternalParameterConnection\n",
       "  comp_path: ComponentPath(Symbol(\"##ModelDef#3137\"), :co2cycle)\n",
       "  param_name: :mleq\n",
       "  model_param_name: Symbol(\"##3160\")\n",
       "    Mimi.ExternalParameterConnection\n",
       "  comp_path: ComponentPath(Symbol(\"##ModelDef#3137\"), :co2cycle)\n",
       "  param_name: :mat0\n",
       "  model_param_name: Symbol(\"##3162\")\n",
       "    Mimi.ExternalParameterConnection\n",
       "  comp_path: ComponentPath(Symbol(\"##ModelDef#3137\"), :co2cycle)\n",
       "  param_name: :ml0\n",
       "  model_param_name: Symbol(\"##3163\")\n",
       "    Mimi.ExternalParameterConnection\n",
       "  comp_path: ComponentPath(Symbol(\"##ModelDef#3137\"), :co2cycle)\n",
       "  param_name: :mu0\n",
       "  model_param_name: Symbol(\"##3164\")\n",
       "    Mimi.ExternalParameterConnection\n",
       "  comp_path: ComponentPath(Symbol(\"##ModelDef#3137\"), :radiativeforcing)\n",
       "  param_name: :eqmat\n",
       "  model_param_name: Symbol(\"##3166\")\n",
       "    Mimi.ExternalParameterConnection\n",
       "  comp_path: ComponentPath(Symbol(\"##ModelDef#3137\"), :radiativeforcing)\n",
       "  param_name: :fex0\n",
       "  model_param_name: Symbol(\"##3168\")\n",
       "    Mimi.ExternalParameterConnection\n",
       "  comp_path: ComponentPath(Symbol(\"##ModelDef#3137\"), :radiativeforcing)\n",
       "  param_name: :fex1\n",
       "  model_param_name: Symbol(\"##3169\")\n",
       "    Mimi.ExternalParameterConnection\n",
       "  comp_path: ComponentPath(Symbol(\"##ModelDef#3137\"), :climatedynamics)\n",
       "  param_name: :t2xco2\n",
       "  model_param_name: Symbol(\"##3172\")\n",
       "    Mimi.ExternalParameterConnection\n",
       "  comp_path: ComponentPath(Symbol(\"##ModelDef#3137\"), :climatedynamics)\n",
       "  param_name: :tatm0\n",
       "  model_param_name: Symbol(\"##3173\")\n",
       "    Mimi.ExternalParameterConnection\n",
       "  comp_path: ComponentPath(Symbol(\"##ModelDef#3137\"), :climatedynamics)\n",
       "  param_name: :tocean0\n",
       "  model_param_name: Symbol(\"##3174\")\n",
       "    Mimi.ExternalParameterConnection\n",
       "  comp_path: ComponentPath(Symbol(\"##ModelDef#3137\"), :climatedynamics)\n",
       "  param_name: :c1\n",
       "  model_param_name: Symbol(\"##3175\")\n",
       "    Mimi.ExternalParameterConnection\n",
       "  comp_path: ComponentPath(Symbol(\"##ModelDef#3137\"), :climatedynamics)\n",
       "  param_name: :c3\n",
       "  model_param_name: Symbol(\"##3176\")\n",
       "    Mimi.ExternalParameterConnection\n",
       "  comp_path: ComponentPath(Symbol(\"##ModelDef#3137\"), :climatedynamics)\n",
       "  param_name: :c4\n",
       "  model_param_name: Symbol(\"##3177\")\n",
       "    Mimi.ExternalParameterConnection\n",
       "  comp_path: ComponentPath(Symbol(\"##ModelDef#3137\"), :damages)\n",
       "  param_name: :a1\n",
       "  model_param_name: Symbol(\"##3180\")\n",
       "    Mimi.ExternalParameterConnection\n",
       "  comp_path: ComponentPath(Symbol(\"##ModelDef#3137\"), :damages)\n",
       "  param_name: :a2\n",
       "  model_param_name: Symbol(\"##3181\")\n",
       "    Mimi.ExternalParameterConnection\n",
       "  comp_path: ComponentPath(Symbol(\"##ModelDef#3137\"), :damages)\n",
       "  param_name: :a3\n",
       "  model_param_name: Symbol(\"##3182\")\n",
       "    Mimi.ExternalParameterConnection\n",
       "  comp_path: ComponentPath(Symbol(\"##ModelDef#3137\"), :neteconomy)\n",
       "  param_name: :S\n",
       "  model_param_name: Symbol(\"##3187\")\n",
       "    Mimi.ExternalParameterConnection\n",
       "  comp_path: ComponentPath(Symbol(\"##ModelDef#3137\"), :neteconomy)\n",
       "  param_name: :expcost2\n",
       "  model_param_name: Symbol(\"##3189\")\n",
       "    Mimi.ExternalParameterConnection\n",
       "  comp_path: ComponentPath(Symbol(\"##ModelDef#3137\"), :neteconomy)\n",
       "  param_name: :pback\n",
       "  model_param_name: Symbol(\"##3190\")\n",
       "    Mimi.ExternalParameterConnection\n",
       "  comp_path: ComponentPath(Symbol(\"##ModelDef#3137\"), :neteconomy)\n",
       "  param_name: :gback\n",
       "  model_param_name: Symbol(\"##3191\")\n",
       "    Mimi.ExternalParameterConnection\n",
       "  comp_path: ComponentPath(Symbol(\"##ModelDef#3137\"), :welfare)\n",
       "  param_name: :rr\n",
       "  model_param_name: Symbol(\"##3194\")\n",
       "    Mimi.ExternalParameterConnection\n",
       "  comp_path: ComponentPath(Symbol(\"##ModelDef#3137\"), :welfare)\n",
       "  param_name: :elasmu\n",
       "  model_param_name: Symbol(\"##3195\")\n",
       "    Mimi.ExternalParameterConnection\n",
       "  comp_path: ComponentPath(Symbol(\"##ModelDef#3137\"), :welfare)\n",
       "  param_name: :scale1\n",
       "  model_param_name: Symbol(\"##3196\")\n",
       "    Mimi.ExternalParameterConnection\n",
       "  comp_path: ComponentPath(Symbol(\"##ModelDef#3137\"), :welfare)\n",
       "  param_name: :scale2\n",
       "  model_param_name: Symbol(\"##3197\")\n",
       "    Mimi.ExternalParameterConnection\n",
       "  comp_path: ComponentPath(Symbol(\"##ModelDef#3137\"), :climatedynamics)\n",
       "  param_name: :fco22x\n",
       "  model_param_name: :fco22x\n",
       "    Mimi.ExternalParameterConnection\n",
       "  comp_path: ComponentPath(Symbol(\"##ModelDef#3137\"), :radiativeforcing)\n",
       "  param_name: :fco22x\n",
       "  model_param_name: :fco22x\n",
       "    Mimi.ExternalParameterConnection\n",
       "  comp_path: ComponentPath(Symbol(\"##ModelDef#3137\"), :grosseconomy)\n",
       "  param_name: :l\n",
       "  model_param_name: :l\n",
       "    Mimi.ExternalParameterConnection\n",
       "  comp_path: ComponentPath(Symbol(\"##ModelDef#3137\"), :neteconomy)\n",
       "  param_name: :l\n",
       "  model_param_name: :l\n",
       "    Mimi.ExternalParameterConnection\n",
       "  comp_path: ComponentPath(Symbol(\"##ModelDef#3137\"), :welfare)\n",
       "  param_name: :l\n",
       "  model_param_name: :l\n",
       "    Mimi.ExternalParameterConnection\n",
       "  comp_path: ComponentPath(Symbol(\"##ModelDef#3137\"), :neteconomy)\n",
       "  param_name: :MIU\n",
       "  model_param_name: :MIU\n",
       "    Mimi.ExternalParameterConnection\n",
       "  comp_path: ComponentPath(Symbol(\"##ModelDef#3137\"), :emissions)\n",
       "  param_name: :MIU\n",
       "  model_param_name: :MIU\n",
       "    Mimi.ExternalParameterConnection\n",
       "  comp_path: ComponentPath(Symbol(\"##ModelDef#3137\"), :damages)\n",
       "  param_name: :B\n",
       "  model_param_name: :B\n",
       "    Mimi.ExternalParameterConnection\n",
       "  comp_path: ComponentPath(Symbol(\"##ModelDef#3137\"), :damages)\n",
       "  param_name: :delta1\n",
       "  model_param_name: :delta1\n",
       "    Mimi.ExternalParameterConnection\n",
       "  comp_path: ComponentPath(Symbol(\"##ModelDef#3137\"), :damages)\n",
       "  param_name: :l1\n",
       "  model_param_name: :l1\n",
       "    Mimi.ExternalParameterConnection\n",
       "  comp_path: ComponentPath(Symbol(\"##ModelDef#3137\"), :damages)\n",
       "  param_name: :l2\n",
       "  model_param_name: :l2\n",
       "    Mimi.ExternalParameterConnection\n",
       "  comp_path: ComponentPath(Symbol(\"##ModelDef#3137\"), :damages)\n",
       "  param_name: :flowshare\n",
       "  model_param_name: :flowshare\n",
       "  Backups: Symbol[]\n",
       "  Number type: Float64\n",
       "  Built: true\n",
       ", diagnostic = Dict{String, Any}(\"Maximum objective value\" => 4471.958840238352, \"Optimised policy economic vector\" => [0.039, 0.2505234442436317, 0.28948778356050553, 0.3238811550017856, 0.36607037671678216, 0.4096246891569214, 0.4474871992301316, 0.5027434153710256, 0.5603468457035784, 0.6141415301088099  …  0.2605788525254415, 0.24314871216436568, 0.2530720415387979, 0.24553371922606648, 0.2321236824507756, 0.22333620231293905, 0.19115992622262468, 0.14434930341775076, 0.011165430146419785, 0.0], \"Convergence result\" => :FTOL_REACHED))"
      ]
     },
     "metadata": {},
     "output_type": "display_data"
    }
   ],
   "source": [
    "@time m_opt, diagn = OptMimiDICE2016R2.optimise_model(ext)"
   ]
  },
  {
   "cell_type": "code",
   "execution_count": 524,
   "metadata": {},
   "outputs": [
    {
     "data": {
      "text/plain": [
       "Electron.Window(Application(Base.PipeEndpoint(RawFD(22) paused, 0 bytes waiting), Process(setenv(`\u001b[4m/Users/adhitchandy/.julia/artifacts/28d75c9551b709f4f8172bf33e631b433c6c68d6/Julia.app/Contents/MacOS/Julia\u001b[24m \u001b[4m/Users/adhitchandy/.julia/packages/Electron/LXyZ0/src/main.js\u001b[24m \u001b[4m/var/folders/pc/yc06blr53r5bkb36yd_0qxpw0000gn/T/jlel-b76f02a62f1511ef26f2b7a77ceb151d\u001b[24m \u001b[4m/var/folders/pc/yc06blr53r5bkb36yd_0qxpw0000gn/T/jlel-sn-b76f08dc2f1511ef29ebafdf8b39f32d\u001b[24m \u001b[4m2SZAqFuVxYfRUqyK0FWBEHh4cCBqv3HKJNgpN+kB1LYv4exGcnCwxIuDkk5Y3/+XxUqrt4OiVHd8LQaAJHWka8bkRz2+fqUBHkc5TV4W9j7WEwjhG8d6QXt3scU38YlCXGqSA34/ES9X28fPwvl575tWzVzWA1Scid8msPEtpRA=\u001b[24m`,[\"XPC_FLAGS=0x0\", \"COMMAND_MODE=unix2003\", \"CONDA_PROMPT_MODIFIER=(base) \", \"PATH=/opt/anaconda3/bin:/opt/anaconda3/condabin:/Users/adhitchandy/.juliaup/bin:/opt/homebrew/bin:/opt/homebrew/sbin:/Library/Frameworks/Python.framework/Versions/3.12/bin:/usr/local/bin:/System/Cryptexes/App/usr/bin:/usr/bin:/bin:/usr/sbin:/sbin:/var/run/com.apple.security.cryptexd/codex.system/bootstrap/usr/local/bin:/var/run/com.apple.security.cryptexd/codex.system/bootstrap/usr/bin:/var/run/com.apple.security.cryptexd/codex.system/bootstrap/usr/appleinternal/bin\", \"PWD=/\", \"VSCODE_CODE_CACHE_PATH=/Users/adhitchandy/Library/Application Support/Code/CachedData/5437499feb04f7a586f677b155b039bc2b3669eb\", \"VSCODE_HANDLES_UNCAUGHT_ERRORS=true\", \"HOMEBREW_PREFIX=/opt/homebrew\", \"XPC_SERVICE_NAME=application.com.microsoft.VSCode.16838197.16838203\", \"VSCODE_NLS_CONFIG={\\\"locale\\\":\\\"en-gb\\\",\\\"osLocale\\\":\\\"en-gb\\\",\\\"availableLanguages\\\":{},\\\"_languagePackSupport\\\":true}\"  …  \"HOMEBREW_REPOSITORY=/opt/homebrew\", \"OPENBLAS_DEFAULT_NUM_THREADS=1\", \"USER=adhitchandy\", \"CONDA_SHLVL=1\", \"VSCODE_CRASH_REPORTER_PROCESS_TYPE=extensionHost\", \"CONDA_EXE=/opt/anaconda3/bin/conda\", \"HOME=/Users/adhitchandy\", \"JULIA_NUM_THREADS=\", \"OPENBLAS_MAIN_FREE=1\", \"VSCODE_CWD=/\"]), ProcessRunning), [1 window]), 26, true, Channel{Any}(128))"
      ]
     },
     "metadata": {},
     "output_type": "display_data"
    }
   ],
   "source": [
    "explore(m_opt)"
   ]
  },
  {
   "cell_type": "markdown",
   "metadata": {},
   "source": [
    "### Saving necessary data points\n",
    "The following code has been used and reused to create the files in the folder Extension where necessary data points were saved in the .jld2 format."
   ]
  },
  {
   "cell_type": "code",
   "execution_count": 556,
   "metadata": {},
   "outputs": [],
   "source": [
    "damagesEXcalib0 = ext[:damages, :DAMAGES]; #extracting the component values\n",
    "costEXcalib0 = ext[:damages, :PROTECTIONCOST];\n",
    "residualdamageEXcalib0 = ext[:damages, :RESIDUALDAM];\n",
    "grossdamagesEXcalib0 = ext[:damages, :GROSSDAM];\n",
    "benefitEXcalib0 = ext[:damages, :ADAPT];"
   ]
  },
  {
   "cell_type": "code",
   "execution_count": 557,
   "metadata": {},
   "outputs": [],
   "source": [
    "@save \"benefitEXcalib0.jld2\" benefitEXcalib0 #saving values"
   ]
  },
  {
   "cell_type": "code",
   "execution_count": 558,
   "metadata": {},
   "outputs": [],
   "source": [
    "@save \"damagesEXcalib0.jld2\" damagesEXcalib0\n",
    "@save \"grossdamagesEXcalib0.jld2\" grossdamagesEXcalib0\n",
    "@save \"residualdamageEXcalib0.jld2\" residualdamageEXcalib0\n",
    "@save \"costEXcalib0.jld2\" costEXcalib0\n"
   ]
  },
  {
   "cell_type": "code",
   "execution_count": 330,
   "metadata": {},
   "outputs": [],
   "source": [
    "using Plots\n",
    "using LaTeXStrings"
   ]
  },
  {
   "cell_type": "code",
   "execution_count": 562,
   "metadata": {},
   "outputs": [],
   "source": [
    "calib1 = JLD2.load(\"./calib1.jld2\")[\"calib1\"];"
   ]
  },
  {
   "cell_type": "code",
   "execution_count": 563,
   "metadata": {},
   "outputs": [
    {
     "data": {
      "image/png": "[encoded data removed]",
      "image/svg+xml": [
       "<?xml version=\"1.0\" encoding=\"utf-8\"?>\n",
       "<svg xmlns=\"http://www.w3.org/2000/svg\" xmlns:xlink=\"http://www.w3.org/1999/xlink\" width=\"600\" height=\"400\" viewBox=\"0 0 2400 1600\">\n",
       "<defs>\n",
       "  <clipPath id=\"clip000\">\n",
       "    <rect x=\"0\" y=\"0\" width=\"2400\" height=\"1600\"/>\n",
       "  </clipPath>\n",
       "</defs>\n",
       "<path clip-path=\"url(#clip000)\" d=\"M0 1600 L2400 1600 L2400 8.88178e-14 L0 8.88178e-14  Z\" fill=\"#ffffff\" fill-rule=\"evenodd\" fill-opacity=\"1\"/>\n",
       "<defs>\n",
       "  <clipPath id=\"clip001\">\n",
       "    <rect x=\"480\" y=\"0\" width=\"1681\" height=\"1600\"/>\n",
       "  </clipPath>\n",
       "</defs>\n",
       "<path clip-path=\"url(#clip000)\" d=\"M202.227 1423.18 L2352.76 1423.18 L2352.76 47.2441 L202.227 47.2441  Z\" fill=\"#ffffff\" fill-rule=\"evenodd\" fill-opacity=\"1\"/>\n",
       "<defs>\n",
       "  <clipPath id=\"clip002\">\n",
       "    <rect x=\"202\" y=\"47\" width=\"2152\" height=\"1377\"/>\n",
       "  </clipPath>\n",
       "</defs>\n",
       "<polyline clip-path=\"url(#clip002)\" style=\"stroke:#000000; stroke-linecap:round; stroke-linejoin:round; stroke-width:2; stroke-opacity:0.1; fill:none\" points=\"242.599,1423.18 242.599,47.2441 \"/>\n",
       "<polyline clip-path=\"url(#clip002)\" style=\"stroke:#000000; stroke-linecap:round; stroke-linejoin:round; stroke-width:2; stroke-opacity:0.1; fill:none\" points=\"754.922,1423.18 754.922,47.2441 \"/>\n",
       "<polyline clip-path=\"url(#clip002)\" style=\"stroke:#000000; stroke-linecap:round; stroke-linejoin:round; stroke-width:2; stroke-opacity:0.1; fill:none\" points=\"1267.25,1423.18 1267.25,47.2441 \"/>\n",
       "<polyline clip-path=\"url(#clip002)\" style=\"stroke:#000000; stroke-linecap:round; stroke-linejoin:round; stroke-width:2; stroke-opacity:0.1; fill:none\" points=\"1779.57,1423.18 1779.57,47.2441 \"/>\n",
       "<polyline clip-path=\"url(#clip002)\" style=\"stroke:#000000; stroke-linecap:round; stroke-linejoin:round; stroke-width:2; stroke-opacity:0.1; fill:none\" points=\"2291.89,1423.18 2291.89,47.2441 \"/>\n",
       "<polyline clip-path=\"url(#clip000)\" style=\"stroke:#000000; stroke-linecap:round; stroke-linejoin:round; stroke-width:4; stroke-opacity:1; fill:none\" points=\"202.227,1423.18 2352.76,1423.18 \"/>\n",
       "<polyline clip-path=\"url(#clip000)\" style=\"stroke:#000000; stroke-linecap:round; stroke-linejoin:round; stroke-width:4; stroke-opacity:1; fill:none\" points=\"242.599,1423.18 242.599,1404.28 \"/>\n",
       "<polyline clip-path=\"url(#clip000)\" style=\"stroke:#000000; stroke-linecap:round; stroke-linejoin:round; stroke-width:4; stroke-opacity:1; fill:none\" points=\"754.922,1423.18 754.922,1404.28 \"/>\n",
       "<polyline clip-path=\"url(#clip000)\" style=\"stroke:#000000; stroke-linecap:round; stroke-linejoin:round; stroke-width:4; stroke-opacity:1; fill:none\" points=\"1267.25,1423.18 1267.25,1404.28 \"/>\n",
       "<polyline clip-path=\"url(#clip000)\" style=\"stroke:#000000; stroke-linecap:round; stroke-linejoin:round; stroke-width:4; stroke-opacity:1; fill:none\" points=\"1779.57,1423.18 1779.57,1404.28 \"/>\n",
       "<polyline clip-path=\"url(#clip000)\" style=\"stroke:#000000; stroke-linecap:round; stroke-linejoin:round; stroke-width:4; stroke-opacity:1; fill:none\" points=\"2291.89,1423.18 2291.89,1404.28 \"/>\n",
       "<path clip-path=\"url(#clip000)\" d=\"M242.599 1454.1 Q238.987 1454.1 237.159 1457.66 Q235.353 1461.2 235.353 1468.33 Q235.353 1475.44 237.159 1479.01 Q238.987 1482.55 242.599 1482.55 Q246.233 1482.55 248.038 1479.01 Q249.867 1475.44 249.867 1468.33 Q249.867 1461.2 248.038 1457.66 Q246.233 1454.1 242.599 1454.1 M242.599 1450.39 Q248.409 1450.39 251.464 1455 Q254.543 1459.58 254.543 1468.33 Q254.543 1477.06 251.464 1481.67 Q248.409 1486.25 242.599 1486.25 Q236.788 1486.25 233.71 1481.67 Q230.654 1477.06 230.654 1468.33 Q230.654 1459.58 233.71 1455 Q236.788 1450.39 242.599 1450.39 Z\" fill=\"#000000\" fill-rule=\"nonzero\" fill-opacity=\"1\" /><path clip-path=\"url(#clip000)\" d=\"M734.193 1481.64 L750.512 1481.64 L750.512 1485.58 L728.568 1485.58 L728.568 1481.64 Q731.23 1478.89 735.813 1474.26 Q740.42 1469.61 741.6 1468.27 Q743.846 1465.74 744.725 1464.01 Q745.628 1462.25 745.628 1460.56 Q745.628 1457.8 743.684 1456.07 Q741.762 1454.33 738.66 1454.33 Q736.461 1454.33 734.008 1455.09 Q731.577 1455.86 728.799 1457.41 L728.799 1452.69 Q731.623 1451.55 734.077 1450.97 Q736.531 1450.39 738.568 1450.39 Q743.938 1450.39 747.133 1453.08 Q750.327 1455.77 750.327 1460.26 Q750.327 1462.39 749.517 1464.31 Q748.73 1466.2 746.623 1468.8 Q746.045 1469.47 742.943 1472.69 Q739.841 1475.88 734.193 1481.64 Z\" fill=\"#000000\" fill-rule=\"nonzero\" fill-opacity=\"1\" /><path clip-path=\"url(#clip000)\" d=\"M760.373 1451.02 L778.73 1451.02 L778.73 1454.96 L764.656 1454.96 L764.656 1463.43 Q765.674 1463.08 766.693 1462.92 Q767.711 1462.73 768.73 1462.73 Q774.517 1462.73 777.896 1465.9 Q781.276 1469.08 781.276 1474.49 Q781.276 1480.07 777.804 1483.17 Q774.332 1486.25 768.012 1486.25 Q765.836 1486.25 763.568 1485.88 Q761.322 1485.51 758.915 1484.77 L758.915 1480.07 Q760.998 1481.2 763.22 1481.76 Q765.443 1482.32 767.92 1482.32 Q771.924 1482.32 774.262 1480.21 Q776.6 1478.1 776.6 1474.49 Q776.6 1470.88 774.262 1468.77 Q771.924 1466.67 767.92 1466.67 Q766.045 1466.67 764.17 1467.08 Q762.318 1467.5 760.373 1468.38 L760.373 1451.02 Z\" fill=\"#000000\" fill-rule=\"nonzero\" fill-opacity=\"1\" /><path clip-path=\"url(#clip000)\" d=\"M1241.94 1451.02 L1260.3 1451.02 L1260.3 1454.96 L1246.23 1454.96 L1246.23 1463.43 Q1247.25 1463.08 1248.26 1462.92 Q1249.28 1462.73 1250.3 1462.73 Q1256.09 1462.73 1259.47 1465.9 Q1262.85 1469.08 1262.85 1474.49 Q1262.85 1480.07 1259.37 1483.17 Q1255.9 1486.25 1249.58 1486.25 Q1247.41 1486.25 1245.14 1485.88 Q1242.89 1485.51 1240.49 1484.77 L1240.49 1480.07 Q1242.57 1481.2 1244.79 1481.76 Q1247.01 1482.32 1249.49 1482.32 Q1253.5 1482.32 1255.83 1480.21 Q1258.17 1478.1 1258.17 1474.49 Q1258.17 1470.88 1255.83 1468.77 Q1253.5 1466.67 1249.49 1466.67 Q1247.62 1466.67 1245.74 1467.08 Q1243.89 1467.5 1241.94 1468.38 L1241.94 1451.02 Z\" fill=\"#000000\" fill-rule=\"nonzero\" fill-opacity=\"1\" /><path clip-path=\"url(#clip000)\" d=\"M1282.06 1454.1 Q1278.45 1454.1 1276.62 1457.66 Q1274.81 1461.2 1274.81 1468.33 Q1274.81 1475.44 1276.62 1479.01 Q1278.45 1482.55 1282.06 1482.55 Q1285.69 1482.55 1287.5 1479.01 Q1289.33 1475.44 1289.33 1468.33 Q1289.33 1461.2 1287.5 1457.66 Q1285.69 1454.1 1282.06 1454.1 M1282.06 1450.39 Q1287.87 1450.39 1290.93 1455 Q1294 1459.58 1294 1468.33 Q1294 1477.06 1290.93 1481.67 Q1287.87 1486.25 1282.06 1486.25 Q1276.25 1486.25 1273.17 1481.67 Q1270.12 1477.06 1270.12 1468.33 Q1270.12 1459.58 1273.17 1455 Q1276.25 1450.39 1282.06 1450.39 Z\" fill=\"#000000\" fill-rule=\"nonzero\" fill-opacity=\"1\" /><path clip-path=\"url(#clip000)\" d=\"M1753.42 1451.02 L1775.64 1451.02 L1775.64 1453.01 L1763.1 1485.58 L1758.21 1485.58 L1770.02 1454.96 L1753.42 1454.96 L1753.42 1451.02 Z\" fill=\"#000000\" fill-rule=\"nonzero\" fill-opacity=\"1\" /><path clip-path=\"url(#clip000)\" d=\"M1784.81 1451.02 L1803.17 1451.02 L1803.17 1454.96 L1789.09 1454.96 L1789.09 1463.43 Q1790.11 1463.08 1791.13 1462.92 Q1792.15 1462.73 1793.17 1462.73 Q1798.96 1462.73 1802.33 1465.9 Q1805.71 1469.08 1805.71 1474.49 Q1805.71 1480.07 1802.24 1483.17 Q1798.77 1486.25 1792.45 1486.25 Q1790.27 1486.25 1788.01 1485.88 Q1785.76 1485.51 1783.35 1484.77 L1783.35 1480.07 Q1785.44 1481.2 1787.66 1481.76 Q1789.88 1482.32 1792.36 1482.32 Q1796.36 1482.32 1798.7 1480.21 Q1801.04 1478.1 1801.04 1474.49 Q1801.04 1470.88 1798.7 1468.77 Q1796.36 1466.67 1792.36 1466.67 Q1790.48 1466.67 1788.61 1467.08 Q1786.76 1467.5 1784.81 1468.38 L1784.81 1451.02 Z\" fill=\"#000000\" fill-rule=\"nonzero\" fill-opacity=\"1\" /><path clip-path=\"url(#clip000)\" d=\"M2251.5 1481.64 L2259.14 1481.64 L2259.14 1455.28 L2250.83 1456.95 L2250.83 1452.69 L2259.09 1451.02 L2263.77 1451.02 L2263.77 1481.64 L2271.41 1481.64 L2271.41 1485.58 L2251.5 1485.58 L2251.5 1481.64 Z\" fill=\"#000000\" fill-rule=\"nonzero\" fill-opacity=\"1\" /><path clip-path=\"url(#clip000)\" d=\"M2290.85 1454.1 Q2287.24 1454.1 2285.41 1457.66 Q2283.6 1461.2 2283.6 1468.33 Q2283.6 1475.44 2285.41 1479.01 Q2287.24 1482.55 2290.85 1482.55 Q2294.48 1482.55 2296.29 1479.01 Q2298.12 1475.44 2298.12 1468.33 Q2298.12 1461.2 2296.29 1457.66 Q2294.48 1454.1 2290.85 1454.1 M2290.85 1450.39 Q2296.66 1450.39 2299.72 1455 Q2302.79 1459.58 2302.79 1468.33 Q2302.79 1477.06 2299.72 1481.67 Q2296.66 1486.25 2290.85 1486.25 Q2285.04 1486.25 2281.96 1481.67 Q2278.91 1477.06 2278.91 1468.33 Q2278.91 1459.58 2281.96 1455 Q2285.04 1450.39 2290.85 1450.39 Z\" fill=\"#000000\" fill-rule=\"nonzero\" fill-opacity=\"1\" /><path clip-path=\"url(#clip000)\" d=\"M2321.01 1454.1 Q2317.4 1454.1 2315.57 1457.66 Q2313.77 1461.2 2313.77 1468.33 Q2313.77 1475.44 2315.57 1479.01 Q2317.4 1482.55 2321.01 1482.55 Q2324.65 1482.55 2326.45 1479.01 Q2328.28 1475.44 2328.28 1468.33 Q2328.28 1461.2 2326.45 1457.66 Q2324.65 1454.1 2321.01 1454.1 M2321.01 1450.39 Q2326.82 1450.39 2329.88 1455 Q2332.96 1459.58 2332.96 1468.33 Q2332.96 1477.06 2329.88 1481.67 Q2326.82 1486.25 2321.01 1486.25 Q2315.2 1486.25 2312.12 1481.67 Q2309.07 1477.06 2309.07 1468.33 Q2309.07 1459.58 2312.12 1455 Q2315.2 1450.39 2321.01 1450.39 Z\" fill=\"#000000\" fill-rule=\"nonzero\" fill-opacity=\"1\" /><path clip-path=\"url(#clip000)\" d=\"M1192.03 1520.52 L1198.46 1520.52 L1198.46 1568.04 L1192.03 1568.04 L1192.03 1520.52 Z\" fill=\"#000000\" fill-rule=\"nonzero\" fill-opacity=\"1\" /><path clip-path=\"url(#clip000)\" d=\"M1240.63 1546.53 L1240.63 1568.04 L1234.78 1568.04 L1234.78 1546.72 Q1234.78 1541.66 1232.8 1539.14 Q1230.83 1536.63 1226.88 1536.63 Q1222.14 1536.63 1219.4 1539.65 Q1216.67 1542.68 1216.67 1547.9 L1216.67 1568.04 L1210.78 1568.04 L1210.78 1532.4 L1216.67 1532.4 L1216.67 1537.93 Q1218.77 1534.72 1221.6 1533.13 Q1224.47 1531.54 1228.19 1531.54 Q1234.33 1531.54 1237.48 1535.36 Q1240.63 1539.14 1240.63 1546.53 Z\" fill=\"#000000\" fill-rule=\"nonzero\" fill-opacity=\"1\" /><path clip-path=\"url(#clip000)\" d=\"M1275.77 1537.81 L1275.77 1518.52 L1281.63 1518.52 L1281.63 1568.04 L1275.77 1568.04 L1275.77 1562.7 Q1273.93 1565.88 1271.09 1567.44 Q1268.29 1568.97 1264.35 1568.97 Q1257.89 1568.97 1253.81 1563.81 Q1249.77 1558.65 1249.77 1550.25 Q1249.77 1541.85 1253.81 1536.69 Q1257.89 1531.54 1264.35 1531.54 Q1268.29 1531.54 1271.09 1533.1 Q1273.93 1534.62 1275.77 1537.81 M1255.82 1550.25 Q1255.82 1556.71 1258.46 1560.4 Q1261.13 1564.07 1265.78 1564.07 Q1270.43 1564.07 1273.1 1560.4 Q1275.77 1556.71 1275.77 1550.25 Q1275.77 1543.79 1273.1 1540.13 Q1270.43 1536.44 1265.78 1536.44 Q1261.13 1536.44 1258.46 1540.13 Q1255.82 1543.79 1255.82 1550.25 Z\" fill=\"#000000\" fill-rule=\"nonzero\" fill-opacity=\"1\" /><path clip-path=\"url(#clip000)\" d=\"M1324.18 1548.76 L1324.18 1551.62 L1297.26 1551.62 Q1297.64 1557.67 1300.89 1560.85 Q1304.16 1564 1309.99 1564 Q1313.36 1564 1316.51 1563.17 Q1319.7 1562.35 1322.82 1560.69 L1322.82 1566.23 Q1319.66 1567.57 1316.35 1568.27 Q1313.04 1568.97 1309.64 1568.97 Q1301.11 1568.97 1296.11 1564 Q1291.15 1559.04 1291.15 1550.57 Q1291.15 1541.82 1295.86 1536.69 Q1300.6 1531.54 1308.62 1531.54 Q1315.81 1531.54 1319.98 1536.18 Q1324.18 1540.8 1324.18 1548.76 M1318.33 1547.04 Q1318.26 1542.23 1315.62 1539.37 Q1313.01 1536.5 1308.68 1536.5 Q1303.78 1536.5 1300.82 1539.27 Q1297.89 1542.04 1297.45 1547.07 L1318.33 1547.04 Z\" fill=\"#000000\" fill-rule=\"nonzero\" fill-opacity=\"1\" /><path clip-path=\"url(#clip000)\" d=\"M1362.28 1532.4 L1349.39 1549.74 L1362.95 1568.04 L1356.04 1568.04 L1345.67 1554.04 L1335.29 1568.04 L1328.39 1568.04 L1342.23 1549.39 L1329.56 1532.4 L1336.47 1532.4 L1345.92 1545.1 L1355.38 1532.4 L1362.28 1532.4 Z\" fill=\"#000000\" fill-rule=\"nonzero\" fill-opacity=\"1\" /><polyline clip-path=\"url(#clip002)\" style=\"stroke:#000000; stroke-linecap:round; stroke-linejoin:round; stroke-width:2; stroke-opacity:0.1; fill:none\" points=\"202.227,1179.31 2352.76,1179.31 \"/>\n",
       "<polyline clip-path=\"url(#clip002)\" style=\"stroke:#000000; stroke-linecap:round; stroke-linejoin:round; stroke-width:2; stroke-opacity:0.1; fill:none\" points=\"202.227,932.951 2352.76,932.951 \"/>\n",
       "<polyline clip-path=\"url(#clip002)\" style=\"stroke:#000000; stroke-linecap:round; stroke-linejoin:round; stroke-width:2; stroke-opacity:0.1; fill:none\" points=\"202.227,686.587 2352.76,686.587 \"/>\n",
       "<polyline clip-path=\"url(#clip002)\" style=\"stroke:#000000; stroke-linecap:round; stroke-linejoin:round; stroke-width:2; stroke-opacity:0.1; fill:none\" points=\"202.227,440.224 2352.76,440.224 \"/>\n",
       "<polyline clip-path=\"url(#clip002)\" style=\"stroke:#000000; stroke-linecap:round; stroke-linejoin:round; stroke-width:2; stroke-opacity:0.1; fill:none\" points=\"202.227,193.86 2352.76,193.86 \"/>\n",
       "<polyline clip-path=\"url(#clip000)\" style=\"stroke:#000000; stroke-linecap:round; stroke-linejoin:round; stroke-width:4; stroke-opacity:1; fill:none\" points=\"202.227,1423.18 202.227,47.2441 \"/>\n",
       "<polyline clip-path=\"url(#clip000)\" style=\"stroke:#000000; stroke-linecap:round; stroke-linejoin:round; stroke-width:4; stroke-opacity:1; fill:none\" points=\"202.227,1179.31 221.125,1179.31 \"/>\n",
       "<polyline clip-path=\"url(#clip000)\" style=\"stroke:#000000; stroke-linecap:round; stroke-linejoin:round; stroke-width:4; stroke-opacity:1; fill:none\" points=\"202.227,932.951 221.125,932.951 \"/>\n",
       "<polyline clip-path=\"url(#clip000)\" style=\"stroke:#000000; stroke-linecap:round; stroke-linejoin:round; stroke-width:4; stroke-opacity:1; fill:none\" points=\"202.227,686.587 221.125,686.587 \"/>\n",
       "<polyline clip-path=\"url(#clip000)\" style=\"stroke:#000000; stroke-linecap:round; stroke-linejoin:round; stroke-width:4; stroke-opacity:1; fill:none\" points=\"202.227,440.224 221.125,440.224 \"/>\n",
       "<polyline clip-path=\"url(#clip000)\" style=\"stroke:#000000; stroke-linecap:round; stroke-linejoin:round; stroke-width:4; stroke-opacity:1; fill:none\" points=\"202.227,193.86 221.125,193.86 \"/>\n",
       "<path clip-path=\"url(#clip000)\" d=\"M149.908 1192.66 L166.227 1192.66 L166.227 1196.59 L144.283 1196.59 L144.283 1192.66 Q146.945 1189.9 151.528 1185.28 Q156.135 1180.62 157.315 1179.28 Q159.561 1176.76 160.44 1175.02 Q161.343 1173.26 161.343 1171.57 Q161.343 1168.82 159.399 1167.08 Q157.478 1165.34 154.376 1165.34 Q152.177 1165.34 149.723 1166.11 Q147.292 1166.87 144.515 1168.42 L144.515 1163.7 Q147.339 1162.57 149.792 1161.99 Q152.246 1161.41 154.283 1161.41 Q159.653 1161.41 162.848 1164.09 Q166.042 1166.78 166.042 1171.27 Q166.042 1173.4 165.232 1175.32 Q164.445 1177.22 162.339 1179.81 Q161.76 1180.48 158.658 1183.7 Q155.556 1186.9 149.908 1192.66 Z\" fill=\"#000000\" fill-rule=\"nonzero\" fill-opacity=\"1\" /><path clip-path=\"url(#clip000)\" d=\"M156.644 919.745 L144.839 938.194 L156.644 938.194 L156.644 919.745 M155.417 915.671 L161.297 915.671 L161.297 938.194 L166.227 938.194 L166.227 942.083 L161.297 942.083 L161.297 950.231 L156.644 950.231 L156.644 942.083 L141.042 942.083 L141.042 937.569 L155.417 915.671 Z\" fill=\"#000000\" fill-rule=\"nonzero\" fill-opacity=\"1\" /><path clip-path=\"url(#clip000)\" d=\"M154.7 684.724 Q151.552 684.724 149.7 686.877 Q147.871 689.03 147.871 692.78 Q147.871 696.506 149.7 698.682 Q151.552 700.835 154.7 700.835 Q157.848 700.835 159.677 698.682 Q161.528 696.506 161.528 692.78 Q161.528 689.03 159.677 686.877 Q157.848 684.724 154.7 684.724 M163.982 670.071 L163.982 674.331 Q162.223 673.497 160.417 673.057 Q158.635 672.618 156.876 672.618 Q152.246 672.618 149.792 675.743 Q147.362 678.868 147.015 685.187 Q148.38 683.173 150.441 682.108 Q152.501 681.02 154.978 681.02 Q160.186 681.02 163.195 684.192 Q166.227 687.34 166.227 692.78 Q166.227 698.104 163.079 701.321 Q159.931 704.539 154.7 704.539 Q148.704 704.539 145.533 699.955 Q142.362 695.349 142.362 686.622 Q142.362 678.428 146.251 673.567 Q150.14 668.682 156.69 668.682 Q158.45 668.682 160.232 669.03 Q162.038 669.377 163.982 670.071 Z\" fill=\"#000000\" fill-rule=\"nonzero\" fill-opacity=\"1\" /><path clip-path=\"url(#clip000)\" d=\"M154.376 441.092 Q151.042 441.092 149.121 442.874 Q147.223 444.657 147.223 447.782 Q147.223 450.907 149.121 452.689 Q151.042 454.471 154.376 454.471 Q157.709 454.471 159.63 452.689 Q161.552 450.884 161.552 447.782 Q161.552 444.657 159.63 442.874 Q157.732 441.092 154.376 441.092 M149.7 439.101 Q146.691 438.36 145.001 436.3 Q143.334 434.24 143.334 431.277 Q143.334 427.134 146.274 424.726 Q149.237 422.319 154.376 422.319 Q159.538 422.319 162.477 424.726 Q165.417 427.134 165.417 431.277 Q165.417 434.24 163.727 436.3 Q162.061 438.36 159.075 439.101 Q162.454 439.888 164.329 442.18 Q166.227 444.472 166.227 447.782 Q166.227 452.805 163.149 455.49 Q160.093 458.175 154.376 458.175 Q148.658 458.175 145.579 455.49 Q142.524 452.805 142.524 447.782 Q142.524 444.472 144.422 442.18 Q146.32 439.888 149.7 439.101 M147.987 431.717 Q147.987 434.402 149.653 435.907 Q151.343 437.411 154.376 437.411 Q157.385 437.411 159.075 435.907 Q160.788 434.402 160.788 431.717 Q160.788 429.032 159.075 427.527 Q157.385 426.023 154.376 426.023 Q151.343 426.023 149.653 427.527 Q147.987 429.032 147.987 431.717 Z\" fill=\"#000000\" fill-rule=\"nonzero\" fill-opacity=\"1\" /><path clip-path=\"url(#clip000)\" d=\"M114.931 207.205 L122.57 207.205 L122.57 180.84 L114.26 182.506 L114.26 178.247 L122.524 176.58 L127.2 176.58 L127.2 207.205 L134.839 207.205 L134.839 211.14 L114.931 211.14 L114.931 207.205 Z\" fill=\"#000000\" fill-rule=\"nonzero\" fill-opacity=\"1\" /><path clip-path=\"url(#clip000)\" d=\"M154.283 179.659 Q150.672 179.659 148.843 183.224 Q147.038 186.765 147.038 193.895 Q147.038 201.001 148.843 204.566 Q150.672 208.108 154.283 208.108 Q157.917 208.108 159.723 204.566 Q161.552 201.001 161.552 193.895 Q161.552 186.765 159.723 183.224 Q157.917 179.659 154.283 179.659 M154.283 175.955 Q160.093 175.955 163.149 180.562 Q166.227 185.145 166.227 193.895 Q166.227 202.622 163.149 207.228 Q160.093 211.812 154.283 211.812 Q148.473 211.812 145.394 207.228 Q142.339 202.622 142.339 193.895 Q142.339 185.145 145.394 180.562 Q148.473 175.955 154.283 175.955 Z\" fill=\"#000000\" fill-rule=\"nonzero\" fill-opacity=\"1\" /><path clip-path=\"url(#clip000)\" d=\"M64.0042 804.582 L16.4842 822.725 L16.4842 816.009 L56.4926 800.954 L16.4842 785.867 L16.4842 779.183 L64.0042 797.294 L64.0042 804.582 Z\" fill=\"#000000\" fill-rule=\"nonzero\" fill-opacity=\"1\" /><path clip-path=\"url(#clip000)\" d=\"M46.0847 761.359 Q46.0847 768.457 47.7079 771.194 Q49.3312 773.931 53.2461 773.931 Q56.3653 773.931 58.2114 771.894 Q60.0256 769.825 60.0256 766.293 Q60.0256 761.423 56.5881 758.495 Q53.1188 755.534 47.3897 755.534 L46.0847 755.534 L46.0847 761.359 M43.6657 749.678 L64.0042 749.678 L64.0042 755.534 L58.5933 755.534 Q61.8398 757.54 63.3994 760.532 Q64.9272 763.523 64.9272 767.852 Q64.9272 773.327 61.8716 776.573 Q58.7843 779.788 53.6281 779.788 Q47.6125 779.788 44.5569 775.777 Q41.5014 771.735 41.5014 763.746 L41.5014 755.534 L40.9285 755.534 Q36.8862 755.534 34.6901 758.208 Q32.4621 760.85 32.4621 765.656 Q32.4621 768.711 33.1941 771.608 Q33.9262 774.504 35.3903 777.178 L29.9795 777.178 Q28.7381 773.963 28.1334 770.939 Q27.4968 767.916 27.4968 765.051 Q27.4968 757.317 31.5072 753.497 Q35.5176 749.678 43.6657 749.678 Z\" fill=\"#000000\" fill-rule=\"nonzero\" fill-opacity=\"1\" /><path clip-path=\"url(#clip000)\" d=\"M14.479 737.615 L14.479 731.759 L64.0042 731.759 L64.0042 737.615 L14.479 737.615 Z\" fill=\"#000000\" fill-rule=\"nonzero\" fill-opacity=\"1\" /><path clip-path=\"url(#clip000)\" d=\"M49.9359 720.109 L28.3562 720.109 L28.3562 714.253 L49.7131 714.253 Q54.7739 714.253 57.3202 712.28 Q59.8346 710.306 59.8346 706.359 Q59.8346 701.617 56.8109 698.88 Q53.7872 696.111 48.5673 696.111 L28.3562 696.111 L28.3562 690.254 L64.0042 690.254 L64.0042 696.111 L58.5296 696.111 Q61.7762 698.243 63.3676 701.076 Q64.9272 703.877 64.9272 707.601 Q64.9272 713.744 61.1078 716.926 Q57.2883 720.109 49.9359 720.109 M27.4968 705.373 L27.4968 705.373 Z\" fill=\"#000000\" fill-rule=\"nonzero\" fill-opacity=\"1\" /><path clip-path=\"url(#clip000)\" d=\"M44.7161 647.699 L47.5806 647.699 L47.5806 674.626 Q53.6281 674.244 56.8109 670.998 Q59.9619 667.72 59.9619 661.895 Q59.9619 658.521 59.1344 655.37 Q58.3069 652.187 56.6518 649.068 L62.1899 649.068 Q63.5267 652.219 64.227 655.529 Q64.9272 658.839 64.9272 662.245 Q64.9272 670.775 59.9619 675.772 Q54.9967 680.737 46.5303 680.737 Q37.7774 680.737 32.6531 676.027 Q27.4968 671.284 27.4968 663.264 Q27.4968 656.07 32.1438 651.901 Q36.7589 647.699 44.7161 647.699 M42.9973 653.556 Q38.1912 653.62 35.3266 656.261 Q32.4621 658.871 32.4621 663.2 Q32.4621 668.102 35.2312 671.062 Q38.0002 673.99 43.0292 674.435 L42.9973 653.556 Z\" fill=\"#000000\" fill-rule=\"nonzero\" fill-opacity=\"1\" /><polyline clip-path=\"url(#clip002)\" style=\"stroke:#009af9; stroke-linecap:round; stroke-linejoin:round; stroke-width:8; stroke-opacity:1; fill:none\" points=\"263.091,1384.24 283.584,1364.22 304.077,1338.91 324.57,1307.81 345.063,1270.3 365.556,1226.5 386.049,1176.19 406.542,1119.32 427.035,1056.3 447.528,988.434 468.021,916.479 488.514,841.192 509.007,764.972 529.5,688.315 549.993,615.031 570.485,545.172 590.978,482.468 611.471,423.192 631.964,372.227 652.457,324.917 672.95,284.975 693.443,249.027 713.936,218.109 734.429,190.593 754.922,167.687 775.415,147.393 795.908,127.657 816.401,112.209 836.894,98.2196 857.387,87.2901 877.879,86.1857 898.372,97.1497 918.865,114.322 939.358,136.923 959.851,165.226 980.344,195.178 1000.84,227.639 1021.33,261.973 1041.82,299.109 1062.32,335.013 1082.81,372.582 1103.3,410.837 1123.79,448.726 1144.29,485.51 1164.78,521.997 1185.27,557.172 1205.77,592.265 1226.26,627.123 1246.75,661.557 1267.25,694.309 1287.74,726.759 1308.23,756.974 1328.72,786.779 1349.22,816.503 1369.71,844.067 1390.2,870.971 1410.7,896.858 1431.19,920.972 1451.68,944.154 1472.17,966.986 1492.67,987.634 1513.16,1009.02 1533.65,1029.01 1554.15,1047.66 1574.64,1065.89 1595.13,1083.22 1615.63,1099.43 1636.12,1115.14 1656.61,1129.91 1677.1,1143.81 1697.6,1156.9 1718.09,1169.71 1738.58,1181.64 1759.08,1192.77 1779.57,1203.38 1800.06,1214.04 1820.55,1223.6 1841.05,1232.96 1861.54,1241.45 1882.03,1249.37 1902.53,1257 1923.02,1264.39 1943.51,1271.74 1964,1278.32 1984.5,1284.25 2004.99,1290.09 2025.48,1295.38 2045.98,1300.54 2066.47,1305.44 2086.96,1309.98 2107.46,1314.37 2127.95,1317.91 2148.44,1322.43 2168.93,1325.85 2189.43,1329.4 2209.92,1332.98 2230.41,1335.86 2250.91,1339.08 2271.4,1341.75 2291.89,1344.41 \"/>\n",
       "<path clip-path=\"url(#clip000)\" d=\"M1852.62 196.789 L2281.07 196.789 L2281.07 93.1086 L1852.62 93.1086  Z\" fill=\"#ffffff\" fill-rule=\"evenodd\" fill-opacity=\"1\"/>\n",
       "<polyline clip-path=\"url(#clip000)\" style=\"stroke:#000000; stroke-linecap:round; stroke-linejoin:round; stroke-width:4; stroke-opacity:1; fill:none\" points=\"1852.62,196.789 2281.07,196.789 2281.07,93.1086 1852.62,93.1086 1852.62,196.789 \"/>\n",
       "<polyline clip-path=\"url(#clip000)\" style=\"stroke:#009af9; stroke-linecap:round; stroke-linejoin:round; stroke-width:8; stroke-opacity:1; fill:none\" points=\"1876.51,144.949 2019.88,144.949 \"/>\n",
       "<path clip-path=\"url(#clip000)\" d=\"M2062.69 140.238 L2062.69 126.21 L2066.95 126.21 L2066.95 162.229 L2062.69 162.229 L2062.69 158.34 Q2061.34 160.655 2059.28 161.789 Q2057.25 162.9 2054.38 162.9 Q2049.68 162.9 2046.72 159.15 Q2043.78 155.4 2043.78 149.289 Q2043.78 143.178 2046.72 139.428 Q2049.68 135.678 2054.38 135.678 Q2057.25 135.678 2059.28 136.812 Q2061.34 137.923 2062.69 140.238 M2048.17 149.289 Q2048.17 153.988 2050.09 156.673 Q2052.04 159.335 2055.42 159.335 Q2058.8 159.335 2060.74 156.673 Q2062.69 153.988 2062.69 149.289 Q2062.69 144.59 2060.74 141.928 Q2058.8 139.243 2055.42 139.243 Q2052.04 139.243 2050.09 141.928 Q2048.17 144.59 2048.17 149.289 Z\" fill=\"#000000\" fill-rule=\"nonzero\" fill-opacity=\"1\" /><path clip-path=\"url(#clip000)\" d=\"M2087.5 149.196 Q2082.34 149.196 2080.35 150.377 Q2078.36 151.557 2078.36 154.405 Q2078.36 156.673 2079.84 158.016 Q2081.34 159.335 2083.91 159.335 Q2087.46 159.335 2089.59 156.835 Q2091.74 154.312 2091.74 150.145 L2091.74 149.196 L2087.5 149.196 M2096 147.437 L2096 162.229 L2091.74 162.229 L2091.74 158.293 Q2090.28 160.655 2088.1 161.789 Q2085.93 162.9 2082.78 162.9 Q2078.8 162.9 2076.44 160.678 Q2074.1 158.432 2074.1 154.682 Q2074.1 150.307 2077.02 148.085 Q2079.96 145.863 2085.77 145.863 L2091.74 145.863 L2091.74 145.446 Q2091.74 142.507 2089.79 140.909 Q2087.87 139.289 2084.38 139.289 Q2082.15 139.289 2080.05 139.821 Q2077.94 140.354 2076 141.419 L2076 137.483 Q2078.34 136.581 2080.53 136.141 Q2082.73 135.678 2084.82 135.678 Q2090.44 135.678 2093.22 138.594 Q2096 141.511 2096 147.437 Z\" fill=\"#000000\" fill-rule=\"nonzero\" fill-opacity=\"1\" /><path clip-path=\"url(#clip000)\" d=\"M2124.96 141.28 Q2126.55 138.409 2128.77 137.044 Q2131 135.678 2134.01 135.678 Q2138.06 135.678 2140.26 138.525 Q2142.46 141.349 2142.46 146.581 L2142.46 162.229 L2138.17 162.229 L2138.17 146.719 Q2138.17 142.993 2136.85 141.187 Q2135.53 139.382 2132.83 139.382 Q2129.52 139.382 2127.59 141.581 Q2125.67 143.78 2125.67 147.576 L2125.67 162.229 L2121.39 162.229 L2121.39 146.719 Q2121.39 142.969 2120.07 141.187 Q2118.75 139.382 2116 139.382 Q2112.73 139.382 2110.81 141.604 Q2108.89 143.803 2108.89 147.576 L2108.89 162.229 L2104.61 162.229 L2104.61 136.303 L2108.89 136.303 L2108.89 140.331 Q2110.35 137.946 2112.39 136.812 Q2114.42 135.678 2117.22 135.678 Q2120.05 135.678 2122.02 137.113 Q2124.01 138.548 2124.96 141.28 Z\" fill=\"#000000\" fill-rule=\"nonzero\" fill-opacity=\"1\" /><path clip-path=\"url(#clip000)\" d=\"M2162.73 149.196 Q2157.57 149.196 2155.58 150.377 Q2153.59 151.557 2153.59 154.405 Q2153.59 156.673 2155.07 158.016 Q2156.58 159.335 2159.14 159.335 Q2162.69 159.335 2164.82 156.835 Q2166.97 154.312 2166.97 150.145 L2166.97 149.196 L2162.73 149.196 M2171.23 147.437 L2171.23 162.229 L2166.97 162.229 L2166.97 158.293 Q2165.51 160.655 2163.33 161.789 Q2161.16 162.9 2158.01 162.9 Q2154.03 162.9 2151.67 160.678 Q2149.33 158.432 2149.33 154.682 Q2149.33 150.307 2152.25 148.085 Q2155.19 145.863 2161 145.863 L2166.97 145.863 L2166.97 145.446 Q2166.97 142.507 2165.02 140.909 Q2163.1 139.289 2159.61 139.289 Q2157.39 139.289 2155.28 139.821 Q2153.17 140.354 2151.23 141.419 L2151.23 137.483 Q2153.57 136.581 2155.77 136.141 Q2157.96 135.678 2160.05 135.678 Q2165.67 135.678 2168.45 138.594 Q2171.23 141.511 2171.23 147.437 Z\" fill=\"#000000\" fill-rule=\"nonzero\" fill-opacity=\"1\" /><path clip-path=\"url(#clip000)\" d=\"M2197.06 148.965 Q2197.06 144.335 2195.14 141.789 Q2193.24 139.243 2189.79 139.243 Q2186.37 139.243 2184.45 141.789 Q2182.55 144.335 2182.55 148.965 Q2182.55 153.571 2184.45 156.118 Q2186.37 158.664 2189.79 158.664 Q2193.24 158.664 2195.14 156.118 Q2197.06 153.571 2197.06 148.965 M2201.32 159.011 Q2201.32 165.631 2198.38 168.849 Q2195.44 172.09 2189.38 172.09 Q2187.13 172.09 2185.14 171.742 Q2183.15 171.418 2181.27 170.724 L2181.27 166.58 Q2183.15 167.599 2184.98 168.085 Q2186.81 168.571 2188.71 168.571 Q2192.89 168.571 2194.98 166.372 Q2197.06 164.196 2197.06 159.775 L2197.06 157.668 Q2195.74 159.96 2193.68 161.094 Q2191.62 162.229 2188.75 162.229 Q2183.98 162.229 2181.07 158.594 Q2178.15 154.96 2178.15 148.965 Q2178.15 142.946 2181.07 139.312 Q2183.98 135.678 2188.75 135.678 Q2191.62 135.678 2193.68 136.812 Q2195.74 137.946 2197.06 140.238 L2197.06 136.303 L2201.32 136.303 L2201.32 159.011 Z\" fill=\"#000000\" fill-rule=\"nonzero\" fill-opacity=\"1\" /><path clip-path=\"url(#clip000)\" d=\"M2232.27 148.201 L2232.27 150.284 L2212.69 150.284 Q2212.96 154.682 2215.33 156.997 Q2217.71 159.289 2221.95 159.289 Q2224.4 159.289 2226.69 158.687 Q2229.01 158.085 2231.27 156.881 L2231.27 160.909 Q2228.98 161.881 2226.58 162.391 Q2224.17 162.9 2221.69 162.9 Q2215.49 162.9 2211.85 159.289 Q2208.24 155.678 2208.24 149.52 Q2208.24 143.155 2211.67 139.428 Q2215.12 135.678 2220.95 135.678 Q2226.18 135.678 2229.21 139.057 Q2232.27 142.414 2232.27 148.201 M2228.01 146.951 Q2227.96 143.456 2226.04 141.372 Q2224.14 139.289 2221 139.289 Q2217.43 139.289 2215.28 141.303 Q2213.15 143.317 2212.83 146.974 L2228.01 146.951 Z\" fill=\"#000000\" fill-rule=\"nonzero\" fill-opacity=\"1\" /><path clip-path=\"url(#clip000)\" d=\"M2255.79 137.067 L2255.79 141.094 Q2253.98 140.169 2252.04 139.706 Q2250.09 139.243 2248.01 139.243 Q2244.84 139.243 2243.24 140.215 Q2241.67 141.187 2241.67 143.131 Q2241.67 144.613 2242.8 145.469 Q2243.94 146.303 2247.36 147.067 L2248.82 147.391 Q2253.36 148.363 2255.26 150.145 Q2257.18 151.905 2257.18 155.076 Q2257.18 158.687 2254.31 160.793 Q2251.46 162.9 2246.46 162.9 Q2244.38 162.9 2242.11 162.483 Q2239.86 162.09 2237.36 161.28 L2237.36 156.881 Q2239.72 158.108 2242.01 158.733 Q2244.31 159.335 2246.55 159.335 Q2249.56 159.335 2251.18 158.317 Q2252.8 157.275 2252.8 155.4 Q2252.8 153.664 2251.62 152.738 Q2250.46 151.812 2246.51 150.956 L2245.02 150.608 Q2241.07 149.775 2239.31 148.062 Q2237.55 146.326 2237.55 143.317 Q2237.55 139.659 2240.14 137.669 Q2242.73 135.678 2247.5 135.678 Q2249.86 135.678 2251.95 136.025 Q2254.03 136.372 2255.79 137.067 Z\" fill=\"#000000\" fill-rule=\"nonzero\" fill-opacity=\"1\" /></svg>\n"
      ],
      "text/html": [
       "<?xml version=\"1.0\" encoding=\"utf-8\"?>\n",
       "<svg xmlns=\"http://www.w3.org/2000/svg\" xmlns:xlink=\"http://www.w3.org/1999/xlink\" width=\"600\" height=\"400\" viewBox=\"0 0 2400 1600\">\n",
       "<defs>\n",
       "  <clipPath id=\"clip050\">\n",
       "    <rect x=\"0\" y=\"0\" width=\"2400\" height=\"1600\"/>\n",
       "  </clipPath>\n",
       "</defs>\n",
       "<path clip-path=\"url(#clip050)\" d=\"M0 1600 L2400 1600 L2400 8.88178e-14 L0 8.88178e-14  Z\" fill=\"#ffffff\" fill-rule=\"evenodd\" fill-opacity=\"1\"/>\n",
       "<defs>\n",
       "  <clipPath id=\"clip051\">\n",
       "    <rect x=\"480\" y=\"0\" width=\"1681\" height=\"1600\"/>\n",
       "  </clipPath>\n",
       "</defs>\n",
       "<path clip-path=\"url(#clip050)\" d=\"M202.227 1423.18 L2352.76 1423.18 L2352.76 47.2441 L202.227 47.2441  Z\" fill=\"#ffffff\" fill-rule=\"evenodd\" fill-opacity=\"1\"/>\n",
       "<defs>\n",
       "  <clipPath id=\"clip052\">\n",
       "    <rect x=\"202\" y=\"47\" width=\"2152\" height=\"1377\"/>\n",
       "  </clipPath>\n",
       "</defs>\n",
       "<polyline clip-path=\"url(#clip052)\" style=\"stroke:#000000; stroke-linecap:round; stroke-linejoin:round; stroke-width:2; stroke-opacity:0.1; fill:none\" points=\"242.599,1423.18 242.599,47.2441 \"/>\n",
       "<polyline clip-path=\"url(#clip052)\" style=\"stroke:#000000; stroke-linecap:round; stroke-linejoin:round; stroke-width:2; stroke-opacity:0.1; fill:none\" points=\"754.922,1423.18 754.922,47.2441 \"/>\n",
       "<polyline clip-path=\"url(#clip052)\" style=\"stroke:#000000; stroke-linecap:round; stroke-linejoin:round; stroke-width:2; stroke-opacity:0.1; fill:none\" points=\"1267.25,1423.18 1267.25,47.2441 \"/>\n",
       "<polyline clip-path=\"url(#clip052)\" style=\"stroke:#000000; stroke-linecap:round; stroke-linejoin:round; stroke-width:2; stroke-opacity:0.1; fill:none\" points=\"1779.57,1423.18 1779.57,47.2441 \"/>\n",
       "<polyline clip-path=\"url(#clip052)\" style=\"stroke:#000000; stroke-linecap:round; stroke-linejoin:round; stroke-width:2; stroke-opacity:0.1; fill:none\" points=\"2291.89,1423.18 2291.89,47.2441 \"/>\n",
       "<polyline clip-path=\"url(#clip050)\" style=\"stroke:#000000; stroke-linecap:round; stroke-linejoin:round; stroke-width:4; stroke-opacity:1; fill:none\" points=\"202.227,1423.18 2352.76,1423.18 \"/>\n",
       "<polyline clip-path=\"url(#clip050)\" style=\"stroke:#000000; stroke-linecap:round; stroke-linejoin:round; stroke-width:4; stroke-opacity:1; fill:none\" points=\"242.599,1423.18 242.599,1404.28 \"/>\n",
       "<polyline clip-path=\"url(#clip050)\" style=\"stroke:#000000; stroke-linecap:round; stroke-linejoin:round; stroke-width:4; stroke-opacity:1; fill:none\" points=\"754.922,1423.18 754.922,1404.28 \"/>\n",
       "<polyline clip-path=\"url(#clip050)\" style=\"stroke:#000000; stroke-linecap:round; stroke-linejoin:round; stroke-width:4; stroke-opacity:1; fill:none\" points=\"1267.25,1423.18 1267.25,1404.28 \"/>\n",
       "<polyline clip-path=\"url(#clip050)\" style=\"stroke:#000000; stroke-linecap:round; stroke-linejoin:round; stroke-width:4; stroke-opacity:1; fill:none\" points=\"1779.57,1423.18 1779.57,1404.28 \"/>\n",
       "<polyline clip-path=\"url(#clip050)\" style=\"stroke:#000000; stroke-linecap:round; stroke-linejoin:round; stroke-width:4; stroke-opacity:1; fill:none\" points=\"2291.89,1423.18 2291.89,1404.28 \"/>\n",
       "<path clip-path=\"url(#clip050)\" d=\"M242.599 1454.1 Q238.987 1454.1 237.159 1457.66 Q235.353 1461.2 235.353 1468.33 Q235.353 1475.44 237.159 1479.01 Q238.987 1482.55 242.599 1482.55 Q246.233 1482.55 248.038 1479.01 Q249.867 1475.44 249.867 1468.33 Q249.867 1461.2 248.038 1457.66 Q246.233 1454.1 242.599 1454.1 M242.599 1450.39 Q248.409 1450.39 251.464 1455 Q254.543 1459.58 254.543 1468.33 Q254.543 1477.06 251.464 1481.67 Q248.409 1486.25 242.599 1486.25 Q236.788 1486.25 233.71 1481.67 Q230.654 1477.06 230.654 1468.33 Q230.654 1459.58 233.71 1455 Q236.788 1450.39 242.599 1450.39 Z\" fill=\"#000000\" fill-rule=\"nonzero\" fill-opacity=\"1\" /><path clip-path=\"url(#clip050)\" d=\"M734.193 1481.64 L750.512 1481.64 L750.512 1485.58 L728.568 1485.58 L728.568 1481.64 Q731.23 1478.89 735.813 1474.26 Q740.42 1469.61 741.6 1468.27 Q743.846 1465.74 744.725 1464.01 Q745.628 1462.25 745.628 1460.56 Q745.628 1457.8 743.684 1456.07 Q741.762 1454.33 738.66 1454.33 Q736.461 1454.33 734.008 1455.09 Q731.577 1455.86 728.799 1457.41 L728.799 1452.69 Q731.623 1451.55 734.077 1450.97 Q736.531 1450.39 738.568 1450.39 Q743.938 1450.39 747.133 1453.08 Q750.327 1455.77 750.327 1460.26 Q750.327 1462.39 749.517 1464.31 Q748.73 1466.2 746.623 1468.8 Q746.045 1469.47 742.943 1472.69 Q739.841 1475.88 734.193 1481.64 Z\" fill=\"#000000\" fill-rule=\"nonzero\" fill-opacity=\"1\" /><path clip-path=\"url(#clip050)\" d=\"M760.373 1451.02 L778.73 1451.02 L778.73 1454.96 L764.656 1454.96 L764.656 1463.43 Q765.674 1463.08 766.693 1462.92 Q767.711 1462.73 768.73 1462.73 Q774.517 1462.73 777.896 1465.9 Q781.276 1469.08 781.276 1474.49 Q781.276 1480.07 777.804 1483.17 Q774.332 1486.25 768.012 1486.25 Q765.836 1486.25 763.568 1485.88 Q761.322 1485.51 758.915 1484.77 L758.915 1480.07 Q760.998 1481.2 763.22 1481.76 Q765.443 1482.32 767.92 1482.32 Q771.924 1482.32 774.262 1480.21 Q776.6 1478.1 776.6 1474.49 Q776.6 1470.88 774.262 1468.77 Q771.924 1466.67 767.92 1466.67 Q766.045 1466.67 764.17 1467.08 Q762.318 1467.5 760.373 1468.38 L760.373 1451.02 Z\" fill=\"#000000\" fill-rule=\"nonzero\" fill-opacity=\"1\" /><path clip-path=\"url(#clip050)\" d=\"M1241.94 1451.02 L1260.3 1451.02 L1260.3 1454.96 L1246.23 1454.96 L1246.23 1463.43 Q1247.25 1463.08 1248.26 1462.92 Q1249.28 1462.73 1250.3 1462.73 Q1256.09 1462.73 1259.47 1465.9 Q1262.85 1469.08 1262.85 1474.49 Q1262.85 1480.07 1259.37 1483.17 Q1255.9 1486.25 1249.58 1486.25 Q1247.41 1486.25 1245.14 1485.88 Q1242.89 1485.51 1240.49 1484.77 L1240.49 1480.07 Q1242.57 1481.2 1244.79 1481.76 Q1247.01 1482.32 1249.49 1482.32 Q1253.5 1482.32 1255.83 1480.21 Q1258.17 1478.1 1258.17 1474.49 Q1258.17 1470.88 1255.83 1468.77 Q1253.5 1466.67 1249.49 1466.67 Q1247.62 1466.67 1245.74 1467.08 Q1243.89 1467.5 1241.94 1468.38 L1241.94 1451.02 Z\" fill=\"#000000\" fill-rule=\"nonzero\" fill-opacity=\"1\" /><path clip-path=\"url(#clip050)\" d=\"M1282.06 1454.1 Q1278.45 1454.1 1276.62 1457.66 Q1274.81 1461.2 1274.81 1468.33 Q1274.81 1475.44 1276.62 1479.01 Q1278.45 1482.55 1282.06 1482.55 Q1285.69 1482.55 1287.5 1479.01 Q1289.33 1475.44 1289.33 1468.33 Q1289.33 1461.2 1287.5 1457.66 Q1285.69 1454.1 1282.06 1454.1 M1282.06 1450.39 Q1287.87 1450.39 1290.93 1455 Q1294 1459.58 1294 1468.33 Q1294 1477.06 1290.93 1481.67 Q1287.87 1486.25 1282.06 1486.25 Q1276.25 1486.25 1273.17 1481.67 Q1270.12 1477.06 1270.12 1468.33 Q1270.12 1459.58 1273.17 1455 Q1276.25 1450.39 1282.06 1450.39 Z\" fill=\"#000000\" fill-rule=\"nonzero\" fill-opacity=\"1\" /><path clip-path=\"url(#clip050)\" d=\"M1753.42 1451.02 L1775.64 1451.02 L1775.64 1453.01 L1763.1 1485.58 L1758.21 1485.58 L1770.02 1454.96 L1753.42 1454.96 L1753.42 1451.02 Z\" fill=\"#000000\" fill-rule=\"nonzero\" fill-opacity=\"1\" /><path clip-path=\"url(#clip050)\" d=\"M1784.81 1451.02 L1803.17 1451.02 L1803.17 1454.96 L1789.09 1454.96 L1789.09 1463.43 Q1790.11 1463.08 1791.13 1462.92 Q1792.15 1462.73 1793.17 1462.73 Q1798.96 1462.73 1802.33 1465.9 Q1805.71 1469.08 1805.71 1474.49 Q1805.71 1480.07 1802.24 1483.17 Q1798.77 1486.25 1792.45 1486.25 Q1790.27 1486.25 1788.01 1485.88 Q1785.76 1485.51 1783.35 1484.77 L1783.35 1480.07 Q1785.44 1481.2 1787.66 1481.76 Q1789.88 1482.32 1792.36 1482.32 Q1796.36 1482.32 1798.7 1480.21 Q1801.04 1478.1 1801.04 1474.49 Q1801.04 1470.88 1798.7 1468.77 Q1796.36 1466.67 1792.36 1466.67 Q1790.48 1466.67 1788.61 1467.08 Q1786.76 1467.5 1784.81 1468.38 L1784.81 1451.02 Z\" fill=\"#000000\" fill-rule=\"nonzero\" fill-opacity=\"1\" /><path clip-path=\"url(#clip050)\" d=\"M2251.5 1481.64 L2259.14 1481.64 L2259.14 1455.28 L2250.83 1456.95 L2250.83 1452.69 L2259.09 1451.02 L2263.77 1451.02 L2263.77 1481.64 L2271.41 1481.64 L2271.41 1485.58 L2251.5 1485.58 L2251.5 1481.64 Z\" fill=\"#000000\" fill-rule=\"nonzero\" fill-opacity=\"1\" /><path clip-path=\"url(#clip050)\" d=\"M2290.85 1454.1 Q2287.24 1454.1 2285.41 1457.66 Q2283.6 1461.2 2283.6 1468.33 Q2283.6 1475.44 2285.41 1479.01 Q2287.24 1482.55 2290.85 1482.55 Q2294.48 1482.55 2296.29 1479.01 Q2298.12 1475.44 2298.12 1468.33 Q2298.12 1461.2 2296.29 1457.66 Q2294.48 1454.1 2290.85 1454.1 M2290.85 1450.39 Q2296.66 1450.39 2299.72 1455 Q2302.79 1459.58 2302.79 1468.33 Q2302.79 1477.06 2299.72 1481.67 Q2296.66 1486.25 2290.85 1486.25 Q2285.04 1486.25 2281.96 1481.67 Q2278.91 1477.06 2278.91 1468.33 Q2278.91 1459.58 2281.96 1455 Q2285.04 1450.39 2290.85 1450.39 Z\" fill=\"#000000\" fill-rule=\"nonzero\" fill-opacity=\"1\" /><path clip-path=\"url(#clip050)\" d=\"M2321.01 1454.1 Q2317.4 1454.1 2315.57 1457.66 Q2313.77 1461.2 2313.77 1468.33 Q2313.77 1475.44 2315.57 1479.01 Q2317.4 1482.55 2321.01 1482.55 Q2324.65 1482.55 2326.45 1479.01 Q2328.28 1475.44 2328.28 1468.33 Q2328.28 1461.2 2326.45 1457.66 Q2324.65 1454.1 2321.01 1454.1 M2321.01 1450.39 Q2326.82 1450.39 2329.88 1455 Q2332.96 1459.58 2332.96 1468.33 Q2332.96 1477.06 2329.88 1481.67 Q2326.82 1486.25 2321.01 1486.25 Q2315.2 1486.25 2312.12 1481.67 Q2309.07 1477.06 2309.07 1468.33 Q2309.07 1459.58 2312.12 1455 Q2315.2 1450.39 2321.01 1450.39 Z\" fill=\"#000000\" fill-rule=\"nonzero\" fill-opacity=\"1\" /><path clip-path=\"url(#clip050)\" d=\"M1192.03 1520.52 L1198.46 1520.52 L1198.46 1568.04 L1192.03 1568.04 L1192.03 1520.52 Z\" fill=\"#000000\" fill-rule=\"nonzero\" fill-opacity=\"1\" /><path clip-path=\"url(#clip050)\" d=\"M1240.63 1546.53 L1240.63 1568.04 L1234.78 1568.04 L1234.78 1546.72 Q1234.78 1541.66 1232.8 1539.14 Q1230.83 1536.63 1226.88 1536.63 Q1222.14 1536.63 1219.4 1539.65 Q1216.67 1542.68 1216.67 1547.9 L1216.67 1568.04 L1210.78 1568.04 L1210.78 1532.4 L1216.67 1532.4 L1216.67 1537.93 Q1218.77 1534.72 1221.6 1533.13 Q1224.47 1531.54 1228.19 1531.54 Q1234.33 1531.54 1237.48 1535.36 Q1240.63 1539.14 1240.63 1546.53 Z\" fill=\"#000000\" fill-rule=\"nonzero\" fill-opacity=\"1\" /><path clip-path=\"url(#clip050)\" d=\"M1275.77 1537.81 L1275.77 1518.52 L1281.63 1518.52 L1281.63 1568.04 L1275.77 1568.04 L1275.77 1562.7 Q1273.93 1565.88 1271.09 1567.44 Q1268.29 1568.97 1264.35 1568.97 Q1257.89 1568.97 1253.81 1563.81 Q1249.77 1558.65 1249.77 1550.25 Q1249.77 1541.85 1253.81 1536.69 Q1257.89 1531.54 1264.35 1531.54 Q1268.29 1531.54 1271.09 1533.1 Q1273.93 1534.62 1275.77 1537.81 M1255.82 1550.25 Q1255.82 1556.71 1258.46 1560.4 Q1261.13 1564.07 1265.78 1564.07 Q1270.43 1564.07 1273.1 1560.4 Q1275.77 1556.71 1275.77 1550.25 Q1275.77 1543.79 1273.1 1540.13 Q1270.43 1536.44 1265.78 1536.44 Q1261.13 1536.44 1258.46 1540.13 Q1255.82 1543.79 1255.82 1550.25 Z\" fill=\"#000000\" fill-rule=\"nonzero\" fill-opacity=\"1\" /><path clip-path=\"url(#clip050)\" d=\"M1324.18 1548.76 L1324.18 1551.62 L1297.26 1551.62 Q1297.64 1557.67 1300.89 1560.85 Q1304.16 1564 1309.99 1564 Q1313.36 1564 1316.51 1563.17 Q1319.7 1562.35 1322.82 1560.69 L1322.82 1566.23 Q1319.66 1567.57 1316.35 1568.27 Q1313.04 1568.97 1309.64 1568.97 Q1301.11 1568.97 1296.11 1564 Q1291.15 1559.04 1291.15 1550.57 Q1291.15 1541.82 1295.86 1536.69 Q1300.6 1531.54 1308.62 1531.54 Q1315.81 1531.54 1319.98 1536.18 Q1324.18 1540.8 1324.18 1548.76 M1318.33 1547.04 Q1318.26 1542.23 1315.62 1539.37 Q1313.01 1536.5 1308.68 1536.5 Q1303.78 1536.5 1300.82 1539.27 Q1297.89 1542.04 1297.45 1547.07 L1318.33 1547.04 Z\" fill=\"#000000\" fill-rule=\"nonzero\" fill-opacity=\"1\" /><path clip-path=\"url(#clip050)\" d=\"M1362.28 1532.4 L1349.39 1549.74 L1362.95 1568.04 L1356.04 1568.04 L1345.67 1554.04 L1335.29 1568.04 L1328.39 1568.04 L1342.23 1549.39 L1329.56 1532.4 L1336.47 1532.4 L1345.92 1545.1 L1355.38 1532.4 L1362.28 1532.4 Z\" fill=\"#000000\" fill-rule=\"nonzero\" fill-opacity=\"1\" /><polyline clip-path=\"url(#clip052)\" style=\"stroke:#000000; stroke-linecap:round; stroke-linejoin:round; stroke-width:2; stroke-opacity:0.1; fill:none\" points=\"202.227,1179.31 2352.76,1179.31 \"/>\n",
       "<polyline clip-path=\"url(#clip052)\" style=\"stroke:#000000; stroke-linecap:round; stroke-linejoin:round; stroke-width:2; stroke-opacity:0.1; fill:none\" points=\"202.227,932.951 2352.76,932.951 \"/>\n",
       "<polyline clip-path=\"url(#clip052)\" style=\"stroke:#000000; stroke-linecap:round; stroke-linejoin:round; stroke-width:2; stroke-opacity:0.1; fill:none\" points=\"202.227,686.587 2352.76,686.587 \"/>\n",
       "<polyline clip-path=\"url(#clip052)\" style=\"stroke:#000000; stroke-linecap:round; stroke-linejoin:round; stroke-width:2; stroke-opacity:0.1; fill:none\" points=\"202.227,440.224 2352.76,440.224 \"/>\n",
       "<polyline clip-path=\"url(#clip052)\" style=\"stroke:#000000; stroke-linecap:round; stroke-linejoin:round; stroke-width:2; stroke-opacity:0.1; fill:none\" points=\"202.227,193.86 2352.76,193.86 \"/>\n",
       "<polyline clip-path=\"url(#clip050)\" style=\"stroke:#000000; stroke-linecap:round; stroke-linejoin:round; stroke-width:4; stroke-opacity:1; fill:none\" points=\"202.227,1423.18 202.227,47.2441 \"/>\n",
       "<polyline clip-path=\"url(#clip050)\" style=\"stroke:#000000; stroke-linecap:round; stroke-linejoin:round; stroke-width:4; stroke-opacity:1; fill:none\" points=\"202.227,1179.31 221.125,1179.31 \"/>\n",
       "<polyline clip-path=\"url(#clip050)\" style=\"stroke:#000000; stroke-linecap:round; stroke-linejoin:round; stroke-width:4; stroke-opacity:1; fill:none\" points=\"202.227,932.951 221.125,932.951 \"/>\n",
       "<polyline clip-path=\"url(#clip050)\" style=\"stroke:#000000; stroke-linecap:round; stroke-linejoin:round; stroke-width:4; stroke-opacity:1; fill:none\" points=\"202.227,686.587 221.125,686.587 \"/>\n",
       "<polyline clip-path=\"url(#clip050)\" style=\"stroke:#000000; stroke-linecap:round; stroke-linejoin:round; stroke-width:4; stroke-opacity:1; fill:none\" points=\"202.227,440.224 221.125,440.224 \"/>\n",
       "<polyline clip-path=\"url(#clip050)\" style=\"stroke:#000000; stroke-linecap:round; stroke-linejoin:round; stroke-width:4; stroke-opacity:1; fill:none\" points=\"202.227,193.86 221.125,193.86 \"/>\n",
       "<path clip-path=\"url(#clip050)\" d=\"M149.908 1192.66 L166.227 1192.66 L166.227 1196.59 L144.283 1196.59 L144.283 1192.66 Q146.945 1189.9 151.528 1185.28 Q156.135 1180.62 157.315 1179.28 Q159.561 1176.76 160.44 1175.02 Q161.343 1173.26 161.343 1171.57 Q161.343 1168.82 159.399 1167.08 Q157.478 1165.34 154.376 1165.34 Q152.177 1165.34 149.723 1166.11 Q147.292 1166.87 144.515 1168.42 L144.515 1163.7 Q147.339 1162.57 149.792 1161.99 Q152.246 1161.41 154.283 1161.41 Q159.653 1161.41 162.848 1164.09 Q166.042 1166.78 166.042 1171.27 Q166.042 1173.4 165.232 1175.32 Q164.445 1177.22 162.339 1179.81 Q161.76 1180.48 158.658 1183.7 Q155.556 1186.9 149.908 1192.66 Z\" fill=\"#000000\" fill-rule=\"nonzero\" fill-opacity=\"1\" /><path clip-path=\"url(#clip050)\" d=\"M156.644 919.745 L144.839 938.194 L156.644 938.194 L156.644 919.745 M155.417 915.671 L161.297 915.671 L161.297 938.194 L166.227 938.194 L166.227 942.083 L161.297 942.083 L161.297 950.231 L156.644 950.231 L156.644 942.083 L141.042 942.083 L141.042 937.569 L155.417 915.671 Z\" fill=\"#000000\" fill-rule=\"nonzero\" fill-opacity=\"1\" /><path clip-path=\"url(#clip050)\" d=\"M154.7 684.724 Q151.552 684.724 149.7 686.877 Q147.871 689.03 147.871 692.78 Q147.871 696.506 149.7 698.682 Q151.552 700.835 154.7 700.835 Q157.848 700.835 159.677 698.682 Q161.528 696.506 161.528 692.78 Q161.528 689.03 159.677 686.877 Q157.848 684.724 154.7 684.724 M163.982 670.071 L163.982 674.331 Q162.223 673.497 160.417 673.057 Q158.635 672.618 156.876 672.618 Q152.246 672.618 149.792 675.743 Q147.362 678.868 147.015 685.187 Q148.38 683.173 150.441 682.108 Q152.501 681.02 154.978 681.02 Q160.186 681.02 163.195 684.192 Q166.227 687.34 166.227 692.78 Q166.227 698.104 163.079 701.321 Q159.931 704.539 154.7 704.539 Q148.704 704.539 145.533 699.955 Q142.362 695.349 142.362 686.622 Q142.362 678.428 146.251 673.567 Q150.14 668.682 156.69 668.682 Q158.45 668.682 160.232 669.03 Q162.038 669.377 163.982 670.071 Z\" fill=\"#000000\" fill-rule=\"nonzero\" fill-opacity=\"1\" /><path clip-path=\"url(#clip050)\" d=\"M154.376 441.092 Q151.042 441.092 149.121 442.874 Q147.223 444.657 147.223 447.782 Q147.223 450.907 149.121 452.689 Q151.042 454.471 154.376 454.471 Q157.709 454.471 159.63 452.689 Q161.552 450.884 161.552 447.782 Q161.552 444.657 159.63 442.874 Q157.732 441.092 154.376 441.092 M149.7 439.101 Q146.691 438.36 145.001 436.3 Q143.334 434.24 143.334 431.277 Q143.334 427.134 146.274 424.726 Q149.237 422.319 154.376 422.319 Q159.538 422.319 162.477 424.726 Q165.417 427.134 165.417 431.277 Q165.417 434.24 163.727 436.3 Q162.061 438.36 159.075 439.101 Q162.454 439.888 164.329 442.18 Q166.227 444.472 166.227 447.782 Q166.227 452.805 163.149 455.49 Q160.093 458.175 154.376 458.175 Q148.658 458.175 145.579 455.49 Q142.524 452.805 142.524 447.782 Q142.524 444.472 144.422 442.18 Q146.32 439.888 149.7 439.101 M147.987 431.717 Q147.987 434.402 149.653 435.907 Q151.343 437.411 154.376 437.411 Q157.385 437.411 159.075 435.907 Q160.788 434.402 160.788 431.717 Q160.788 429.032 159.075 427.527 Q157.385 426.023 154.376 426.023 Q151.343 426.023 149.653 427.527 Q147.987 429.032 147.987 431.717 Z\" fill=\"#000000\" fill-rule=\"nonzero\" fill-opacity=\"1\" /><path clip-path=\"url(#clip050)\" d=\"M114.931 207.205 L122.57 207.205 L122.57 180.84 L114.26 182.506 L114.26 178.247 L122.524 176.58 L127.2 176.58 L127.2 207.205 L134.839 207.205 L134.839 211.14 L114.931 211.14 L114.931 207.205 Z\" fill=\"#000000\" fill-rule=\"nonzero\" fill-opacity=\"1\" /><path clip-path=\"url(#clip050)\" d=\"M154.283 179.659 Q150.672 179.659 148.843 183.224 Q147.038 186.765 147.038 193.895 Q147.038 201.001 148.843 204.566 Q150.672 208.108 154.283 208.108 Q157.917 208.108 159.723 204.566 Q161.552 201.001 161.552 193.895 Q161.552 186.765 159.723 183.224 Q157.917 179.659 154.283 179.659 M154.283 175.955 Q160.093 175.955 163.149 180.562 Q166.227 185.145 166.227 193.895 Q166.227 202.622 163.149 207.228 Q160.093 211.812 154.283 211.812 Q148.473 211.812 145.394 207.228 Q142.339 202.622 142.339 193.895 Q142.339 185.145 145.394 180.562 Q148.473 175.955 154.283 175.955 Z\" fill=\"#000000\" fill-rule=\"nonzero\" fill-opacity=\"1\" /><path clip-path=\"url(#clip050)\" d=\"M64.0042 804.582 L16.4842 822.725 L16.4842 816.009 L56.4926 800.954 L16.4842 785.867 L16.4842 779.183 L64.0042 797.294 L64.0042 804.582 Z\" fill=\"#000000\" fill-rule=\"nonzero\" fill-opacity=\"1\" /><path clip-path=\"url(#clip050)\" d=\"M46.0847 761.359 Q46.0847 768.457 47.7079 771.194 Q49.3312 773.931 53.2461 773.931 Q56.3653 773.931 58.2114 771.894 Q60.0256 769.825 60.0256 766.293 Q60.0256 761.423 56.5881 758.495 Q53.1188 755.534 47.3897 755.534 L46.0847 755.534 L46.0847 761.359 M43.6657 749.678 L64.0042 749.678 L64.0042 755.534 L58.5933 755.534 Q61.8398 757.54 63.3994 760.532 Q64.9272 763.523 64.9272 767.852 Q64.9272 773.327 61.8716 776.573 Q58.7843 779.788 53.6281 779.788 Q47.6125 779.788 44.5569 775.777 Q41.5014 771.735 41.5014 763.746 L41.5014 755.534 L40.9285 755.534 Q36.8862 755.534 34.6901 758.208 Q32.4621 760.85 32.4621 765.656 Q32.4621 768.711 33.1941 771.608 Q33.9262 774.504 35.3903 777.178 L29.9795 777.178 Q28.7381 773.963 28.1334 770.939 Q27.4968 767.916 27.4968 765.051 Q27.4968 757.317 31.5072 753.497 Q35.5176 749.678 43.6657 749.678 Z\" fill=\"#000000\" fill-rule=\"nonzero\" fill-opacity=\"1\" /><path clip-path=\"url(#clip050)\" d=\"M14.479 737.615 L14.479 731.759 L64.0042 731.759 L64.0042 737.615 L14.479 737.615 Z\" fill=\"#000000\" fill-rule=\"nonzero\" fill-opacity=\"1\" /><path clip-path=\"url(#clip050)\" d=\"M49.9359 720.109 L28.3562 720.109 L28.3562 714.253 L49.7131 714.253 Q54.7739 714.253 57.3202 712.28 Q59.8346 710.306 59.8346 706.359 Q59.8346 701.617 56.8109 698.88 Q53.7872 696.111 48.5673 696.111 L28.3562 696.111 L28.3562 690.254 L64.0042 690.254 L64.0042 696.111 L58.5296 696.111 Q61.7762 698.243 63.3676 701.076 Q64.9272 703.877 64.9272 707.601 Q64.9272 713.744 61.1078 716.926 Q57.2883 720.109 49.9359 720.109 M27.4968 705.373 L27.4968 705.373 Z\" fill=\"#000000\" fill-rule=\"nonzero\" fill-opacity=\"1\" /><path clip-path=\"url(#clip050)\" d=\"M44.7161 647.699 L47.5806 647.699 L47.5806 674.626 Q53.6281 674.244 56.8109 670.998 Q59.9619 667.72 59.9619 661.895 Q59.9619 658.521 59.1344 655.37 Q58.3069 652.187 56.6518 649.068 L62.1899 649.068 Q63.5267 652.219 64.227 655.529 Q64.9272 658.839 64.9272 662.245 Q64.9272 670.775 59.9619 675.772 Q54.9967 680.737 46.5303 680.737 Q37.7774 680.737 32.6531 676.027 Q27.4968 671.284 27.4968 663.264 Q27.4968 656.07 32.1438 651.901 Q36.7589 647.699 44.7161 647.699 M42.9973 653.556 Q38.1912 653.62 35.3266 656.261 Q32.4621 658.871 32.4621 663.2 Q32.4621 668.102 35.2312 671.062 Q38.0002 673.99 43.0292 674.435 L42.9973 653.556 Z\" fill=\"#000000\" fill-rule=\"nonzero\" fill-opacity=\"1\" /><polyline clip-path=\"url(#clip052)\" style=\"stroke:#009af9; stroke-linecap:round; stroke-linejoin:round; stroke-width:8; stroke-opacity:1; fill:none\" points=\"263.091,1384.24 283.584,1364.22 304.077,1338.91 324.57,1307.81 345.063,1270.3 365.556,1226.5 386.049,1176.19 406.542,1119.32 427.035,1056.3 447.528,988.434 468.021,916.479 488.514,841.192 509.007,764.972 529.5,688.315 549.993,615.031 570.485,545.172 590.978,482.468 611.471,423.192 631.964,372.227 652.457,324.917 672.95,284.975 693.443,249.027 713.936,218.109 734.429,190.593 754.922,167.687 775.415,147.393 795.908,127.657 816.401,112.209 836.894,98.2196 857.387,87.2901 877.879,86.1857 898.372,97.1497 918.865,114.322 939.358,136.923 959.851,165.226 980.344,195.178 1000.84,227.639 1021.33,261.973 1041.82,299.109 1062.32,335.013 1082.81,372.582 1103.3,410.837 1123.79,448.726 1144.29,485.51 1164.78,521.997 1185.27,557.172 1205.77,592.265 1226.26,627.123 1246.75,661.557 1267.25,694.309 1287.74,726.759 1308.23,756.974 1328.72,786.779 1349.22,816.503 1369.71,844.067 1390.2,870.971 1410.7,896.858 1431.19,920.972 1451.68,944.154 1472.17,966.986 1492.67,987.634 1513.16,1009.02 1533.65,1029.01 1554.15,1047.66 1574.64,1065.89 1595.13,1083.22 1615.63,1099.43 1636.12,1115.14 1656.61,1129.91 1677.1,1143.81 1697.6,1156.9 1718.09,1169.71 1738.58,1181.64 1759.08,1192.77 1779.57,1203.38 1800.06,1214.04 1820.55,1223.6 1841.05,1232.96 1861.54,1241.45 1882.03,1249.37 1902.53,1257 1923.02,1264.39 1943.51,1271.74 1964,1278.32 1984.5,1284.25 2004.99,1290.09 2025.48,1295.38 2045.98,1300.54 2066.47,1305.44 2086.96,1309.98 2107.46,1314.37 2127.95,1317.91 2148.44,1322.43 2168.93,1325.85 2189.43,1329.4 2209.92,1332.98 2230.41,1335.86 2250.91,1339.08 2271.4,1341.75 2291.89,1344.41 \"/>\n",
       "<path clip-path=\"url(#clip050)\" d=\"M1852.62 196.789 L2281.07 196.789 L2281.07 93.1086 L1852.62 93.1086  Z\" fill=\"#ffffff\" fill-rule=\"evenodd\" fill-opacity=\"1\"/>\n",
       "<polyline clip-path=\"url(#clip050)\" style=\"stroke:#000000; stroke-linecap:round; stroke-linejoin:round; stroke-width:4; stroke-opacity:1; fill:none\" points=\"1852.62,196.789 2281.07,196.789 2281.07,93.1086 1852.62,93.1086 1852.62,196.789 \"/>\n",
       "<polyline clip-path=\"url(#clip050)\" style=\"stroke:#009af9; stroke-linecap:round; stroke-linejoin:round; stroke-width:8; stroke-opacity:1; fill:none\" points=\"1876.51,144.949 2019.88,144.949 \"/>\n",
       "<path clip-path=\"url(#clip050)\" d=\"M2062.69 140.238 L2062.69 126.21 L2066.95 126.21 L2066.95 162.229 L2062.69 162.229 L2062.69 158.34 Q2061.34 160.655 2059.28 161.789 Q2057.25 162.9 2054.38 162.9 Q2049.68 162.9 2046.72 159.15 Q2043.78 155.4 2043.78 149.289 Q2043.78 143.178 2046.72 139.428 Q2049.68 135.678 2054.38 135.678 Q2057.25 135.678 2059.28 136.812 Q2061.34 137.923 2062.69 140.238 M2048.17 149.289 Q2048.17 153.988 2050.09 156.673 Q2052.04 159.335 2055.42 159.335 Q2058.8 159.335 2060.74 156.673 Q2062.69 153.988 2062.69 149.289 Q2062.69 144.59 2060.74 141.928 Q2058.8 139.243 2055.42 139.243 Q2052.04 139.243 2050.09 141.928 Q2048.17 144.59 2048.17 149.289 Z\" fill=\"#000000\" fill-rule=\"nonzero\" fill-opacity=\"1\" /><path clip-path=\"url(#clip050)\" d=\"M2087.5 149.196 Q2082.34 149.196 2080.35 150.377 Q2078.36 151.557 2078.36 154.405 Q2078.36 156.673 2079.84 158.016 Q2081.34 159.335 2083.91 159.335 Q2087.46 159.335 2089.59 156.835 Q2091.74 154.312 2091.74 150.145 L2091.74 149.196 L2087.5 149.196 M2096 147.437 L2096 162.229 L2091.74 162.229 L2091.74 158.293 Q2090.28 160.655 2088.1 161.789 Q2085.93 162.9 2082.78 162.9 Q2078.8 162.9 2076.44 160.678 Q2074.1 158.432 2074.1 154.682 Q2074.1 150.307 2077.02 148.085 Q2079.96 145.863 2085.77 145.863 L2091.74 145.863 L2091.74 145.446 Q2091.74 142.507 2089.79 140.909 Q2087.87 139.289 2084.38 139.289 Q2082.15 139.289 2080.05 139.821 Q2077.94 140.354 2076 141.419 L2076 137.483 Q2078.34 136.581 2080.53 136.141 Q2082.73 135.678 2084.82 135.678 Q2090.44 135.678 2093.22 138.594 Q2096 141.511 2096 147.437 Z\" fill=\"#000000\" fill-rule=\"nonzero\" fill-opacity=\"1\" /><path clip-path=\"url(#clip050)\" d=\"M2124.96 141.28 Q2126.55 138.409 2128.77 137.044 Q2131 135.678 2134.01 135.678 Q2138.06 135.678 2140.26 138.525 Q2142.46 141.349 2142.46 146.581 L2142.46 162.229 L2138.17 162.229 L2138.17 146.719 Q2138.17 142.993 2136.85 141.187 Q2135.53 139.382 2132.83 139.382 Q2129.52 139.382 2127.59 141.581 Q2125.67 143.78 2125.67 147.576 L2125.67 162.229 L2121.39 162.229 L2121.39 146.719 Q2121.39 142.969 2120.07 141.187 Q2118.75 139.382 2116 139.382 Q2112.73 139.382 2110.81 141.604 Q2108.89 143.803 2108.89 147.576 L2108.89 162.229 L2104.61 162.229 L2104.61 136.303 L2108.89 136.303 L2108.89 140.331 Q2110.35 137.946 2112.39 136.812 Q2114.42 135.678 2117.22 135.678 Q2120.05 135.678 2122.02 137.113 Q2124.01 138.548 2124.96 141.28 Z\" fill=\"#000000\" fill-rule=\"nonzero\" fill-opacity=\"1\" /><path clip-path=\"url(#clip050)\" d=\"M2162.73 149.196 Q2157.57 149.196 2155.58 150.377 Q2153.59 151.557 2153.59 154.405 Q2153.59 156.673 2155.07 158.016 Q2156.58 159.335 2159.14 159.335 Q2162.69 159.335 2164.82 156.835 Q2166.97 154.312 2166.97 150.145 L2166.97 149.196 L2162.73 149.196 M2171.23 147.437 L2171.23 162.229 L2166.97 162.229 L2166.97 158.293 Q2165.51 160.655 2163.33 161.789 Q2161.16 162.9 2158.01 162.9 Q2154.03 162.9 2151.67 160.678 Q2149.33 158.432 2149.33 154.682 Q2149.33 150.307 2152.25 148.085 Q2155.19 145.863 2161 145.863 L2166.97 145.863 L2166.97 145.446 Q2166.97 142.507 2165.02 140.909 Q2163.1 139.289 2159.61 139.289 Q2157.39 139.289 2155.28 139.821 Q2153.17 140.354 2151.23 141.419 L2151.23 137.483 Q2153.57 136.581 2155.77 136.141 Q2157.96 135.678 2160.05 135.678 Q2165.67 135.678 2168.45 138.594 Q2171.23 141.511 2171.23 147.437 Z\" fill=\"#000000\" fill-rule=\"nonzero\" fill-opacity=\"1\" /><path clip-path=\"url(#clip050)\" d=\"M2197.06 148.965 Q2197.06 144.335 2195.14 141.789 Q2193.24 139.243 2189.79 139.243 Q2186.37 139.243 2184.45 141.789 Q2182.55 144.335 2182.55 148.965 Q2182.55 153.571 2184.45 156.118 Q2186.37 158.664 2189.79 158.664 Q2193.24 158.664 2195.14 156.118 Q2197.06 153.571 2197.06 148.965 M2201.32 159.011 Q2201.32 165.631 2198.38 168.849 Q2195.44 172.09 2189.38 172.09 Q2187.13 172.09 2185.14 171.742 Q2183.15 171.418 2181.27 170.724 L2181.27 166.58 Q2183.15 167.599 2184.98 168.085 Q2186.81 168.571 2188.71 168.571 Q2192.89 168.571 2194.98 166.372 Q2197.06 164.196 2197.06 159.775 L2197.06 157.668 Q2195.74 159.96 2193.68 161.094 Q2191.62 162.229 2188.75 162.229 Q2183.98 162.229 2181.07 158.594 Q2178.15 154.96 2178.15 148.965 Q2178.15 142.946 2181.07 139.312 Q2183.98 135.678 2188.75 135.678 Q2191.62 135.678 2193.68 136.812 Q2195.74 137.946 2197.06 140.238 L2197.06 136.303 L2201.32 136.303 L2201.32 159.011 Z\" fill=\"#000000\" fill-rule=\"nonzero\" fill-opacity=\"1\" /><path clip-path=\"url(#clip050)\" d=\"M2232.27 148.201 L2232.27 150.284 L2212.69 150.284 Q2212.96 154.682 2215.33 156.997 Q2217.71 159.289 2221.95 159.289 Q2224.4 159.289 2226.69 158.687 Q2229.01 158.085 2231.27 156.881 L2231.27 160.909 Q2228.98 161.881 2226.58 162.391 Q2224.17 162.9 2221.69 162.9 Q2215.49 162.9 2211.85 159.289 Q2208.24 155.678 2208.24 149.52 Q2208.24 143.155 2211.67 139.428 Q2215.12 135.678 2220.95 135.678 Q2226.18 135.678 2229.21 139.057 Q2232.27 142.414 2232.27 148.201 M2228.01 146.951 Q2227.96 143.456 2226.04 141.372 Q2224.14 139.289 2221 139.289 Q2217.43 139.289 2215.28 141.303 Q2213.15 143.317 2212.83 146.974 L2228.01 146.951 Z\" fill=\"#000000\" fill-rule=\"nonzero\" fill-opacity=\"1\" /><path clip-path=\"url(#clip050)\" d=\"M2255.79 137.067 L2255.79 141.094 Q2253.98 140.169 2252.04 139.706 Q2250.09 139.243 2248.01 139.243 Q2244.84 139.243 2243.24 140.215 Q2241.67 141.187 2241.67 143.131 Q2241.67 144.613 2242.8 145.469 Q2243.94 146.303 2247.36 147.067 L2248.82 147.391 Q2253.36 148.363 2255.26 150.145 Q2257.18 151.905 2257.18 155.076 Q2257.18 158.687 2254.31 160.793 Q2251.46 162.9 2246.46 162.9 Q2244.38 162.9 2242.11 162.483 Q2239.86 162.09 2237.36 161.28 L2237.36 156.881 Q2239.72 158.108 2242.01 158.733 Q2244.31 159.335 2246.55 159.335 Q2249.56 159.335 2251.18 158.317 Q2252.8 157.275 2252.8 155.4 Q2252.8 153.664 2251.62 152.738 Q2250.46 151.812 2246.51 150.956 L2245.02 150.608 Q2241.07 149.775 2239.31 148.062 Q2237.55 146.326 2237.55 143.317 Q2237.55 139.659 2240.14 137.669 Q2242.73 135.678 2247.5 135.678 Q2249.86 135.678 2251.95 136.025 Q2254.03 136.372 2255.79 137.067 Z\" fill=\"#000000\" fill-rule=\"nonzero\" fill-opacity=\"1\" /></svg>\n"
      ]
     },
     "metadata": {},
     "output_type": "display_data"
    }
   ],
   "source": [
    "plot(1:100, calib1.^1.2, label=\"damages\", xlabel=\"Index\", ylabel=\"Value\", linewidth=2)\n",
    "plot!() # This line is used to actually display the plot"
   ]
  }
 ],
 "metadata": {
  "kernelspec": {
   "display_name": "Julia 1.10.2",
   "language": "julia",
   "name": "julia-1.10"
  },
  "language_info": {
   "file_extension": ".jl",
   "mimetype": "application/julia",
   "name": "julia",
   "version": "1.10.2"
  }
 },
 "nbformat": 4,
 "nbformat_minor": 2
}
