{
 "cells": [
  {
   "cell_type": "markdown",
   "metadata": {},
   "source": [
    "# Running OptMiMiDICE2016R2 "
   ]
  },
  {
   "cell_type": "code",
   "execution_count": 1,
   "metadata": {},
   "outputs": [
    {
     "name": "stderr",
     "output_type": "stream",
     "text": [
      "\u001b[32m\u001b[1m  Activating\u001b[22m\u001b[39m project at `~/Library/CloudStorage/OneDrive-M365UniversitätHamburg/Semester 4/Environmental Economics/M3 Project/Code`\n"
     ]
    }
   ],
   "source": [
    "using Pkg\n",
    "Pkg.activate(\".\") # activate the current environment"
   ]
  },
  {
   "cell_type": "markdown",
   "metadata": {},
   "source": [
    "### Adding OptMimiDICE2016R2 & Mimi to the Directory"
   ]
  },
  {
   "cell_type": "markdown",
   "metadata": {},
   "source": [
    "<span style=\"color:red\">Need to use only once. </span>"
   ]
  },
  {
   "cell_type": "code",
   "execution_count": null,
   "metadata": {},
   "outputs": [],
   "source": [
    "using Pkg\n",
    "Pkg.add(url=\"https://github.com/felixschaumann/OptMimiDICE2016R2.jl\")\n",
    "Pkg.add(\"Mimi\")"
   ]
  },
  {
   "cell_type": "markdown",
   "metadata": {},
   "source": [
    "### Checking package Status"
   ]
  },
  {
   "cell_type": "code",
   "execution_count": 2,
   "metadata": {},
   "outputs": [
    {
     "name": "stdout",
     "output_type": "stream",
     "text": [
      "\u001b[32m\u001b[1mStatus\u001b[22m\u001b[39m `~/Library/CloudStorage/OneDrive-M365UniversitätHamburg/Semester 4/Environmental Economics/M3 Project/Code/Project.toml`\n",
      "  \u001b[90m[a93c6f00] \u001b[39mDataFrames v1.6.1\n",
      "\u001b[32m⌃\u001b[39m \u001b[90m[89b67f3b] \u001b[39mExcelFiles v0.6.1\n",
      "  \u001b[90m[033835bb] \u001b[39mJLD2 v0.4.48\n",
      "  \u001b[90m[b964fa9f] \u001b[39mLaTeXStrings v1.3.1\n",
      "  \u001b[90m[e4e893b0] \u001b[39mMimi v1.5.3\n",
      "  \u001b[90m[f1883be1] \u001b[39mOptMimiDICE2016R2 v0.1.1-DEV `https://github.com/felixschaumann/OptMimiDICE2016R2.jl#main`\n",
      "  \u001b[90m[91a5bcdd] \u001b[39mPlots v1.40.4\n",
      "  \u001b[90m[fdbf4ff8] \u001b[39mXLSX v0.10.1\n",
      "\u001b[36m\u001b[1mInfo\u001b[22m\u001b[39m Packages marked with \u001b[32m⌃\u001b[39m have new versions available and may be upgradable.\n"
     ]
    }
   ],
   "source": [
    "Pkg.status()"
   ]
  },
  {
   "cell_type": "markdown",
   "metadata": {},
   "source": [
    "## Import Packages"
   ]
  },
  {
   "cell_type": "code",
   "execution_count": 3,
   "metadata": {},
   "outputs": [],
   "source": [
    "using Mimi\n",
    "using OptMimiDICE2016R2"
   ]
  },
  {
   "cell_type": "markdown",
   "metadata": {},
   "source": [
    "## Build the Baseline OptDICE Model"
   ]
  },
  {
   "cell_type": "code",
   "execution_count": 4,
   "metadata": {},
   "outputs": [
    {
     "data": {
      "text/plain": [
       "Mimi.Model\n",
       "  Module: Mimi\n",
       "  Components:\n",
       "    ComponentId(OptMimiDICE2016R2.totalfactorproductivity)\n",
       "    ComponentId(OptMimiDICE2016R2.grosseconomy)\n",
       "    ComponentId(OptMimiDICE2016R2.emissions)\n",
       "    ComponentId(OptMimiDICE2016R2.co2cycle)\n",
       "    ComponentId(OptMimiDICE2016R2.radiativeforcing)\n",
       "    ComponentId(OptMimiDICE2016R2.climatedynamics)\n",
       "    ComponentId(OptMimiDICE2016R2.damages)\n",
       "    ComponentId(OptMimiDICE2016R2.neteconomy)\n",
       "    ComponentId(OptMimiDICE2016R2.welfare)\n",
       "  Built: true\n"
      ]
     },
     "metadata": {},
     "output_type": "display_data"
    }
   ],
   "source": [
    "m = OptMimiDICE2016R2.get_model()\n",
    "run(m)\n",
    "m"
   ]
  },
  {
   "cell_type": "markdown",
   "metadata": {},
   "source": [
    "## Explore the Model"
   ]
  },
  {
   "cell_type": "code",
   "execution_count": null,
   "metadata": {},
   "outputs": [],
   "source": [
    "explore(m)"
   ]
  },
  {
   "cell_type": "code",
   "execution_count": null,
   "metadata": {},
   "outputs": [],
   "source": [
    "scc = OptMimiDICE2016R2.compute_scc(year = 2020)"
   ]
  },
  {
   "cell_type": "code",
   "execution_count": 5,
   "metadata": {},
   "outputs": [],
   "source": [
    "AD_DICE = OptMimiDICE2016R2.get_model()\n",
    "run(AD_DICE)"
   ]
  },
  {
   "cell_type": "code",
   "execution_count": 6,
   "metadata": {},
   "outputs": [],
   "source": [
    "include(\"./AD_DICE_damage_component.jl\")\n",
    "replace!(AD_DICE, :damages => newdamages);"
   ]
  },
  {
   "cell_type": "markdown",
   "metadata": {},
   "source": [
    "### The following code is only for setting the parameters for the first run, after that use update_param! "
   ]
  },
  {
   "cell_type": "code",
   "execution_count": 9,
   "metadata": {},
   "outputs": [
    {
     "ename": "ErrorException",
     "evalue": "Cannot set parameter :Pt, the model already has a parameter with this name. IF you wish to change the value of unshared parameter :Pt connected to component :compdef use `update_param!(m, comp_name, param_name, value). IF you wish to change the value of the existing shared parameter :Pt,  use `update_param!(m, param_name, value)` to change the value of the shared parameter. IF you wish to create a new shared parameter connected to component :compdef, use `add_shared_param` paired with `connect_param!`.",
     "output_type": "error",
     "traceback": [
      "Cannot set parameter :Pt, the model already has a parameter with this name. IF you wish to change the value of unshared parameter :Pt connected to component :compdef use `update_param!(m, comp_name, param_name, value). IF you wish to change the value of the existing shared parameter :Pt,  use `update_param!(m, param_name, value)` to change the value of the shared parameter. IF you wish to create a new shared parameter connected to component :compdef, use `add_shared_param` paired with `connect_param!`.\n",
      "\n",
      "Stacktrace:\n",
      " [1] error(::String, ::String, ::String, ::String, ::String, ::String, ::String)\n",
      "   @ Base ./error.jl:44\n",
      " [2] set_param!(md::Mimi.ModelDef, comp_def::Mimi.ComponentDef, param_name::Symbol, model_param_name::Symbol, value::Vector{Float64}; dims::Nothing)\n",
      "   @ Mimi ~/.julia/packages/Mimi/ve6WQ/src/core/defs.jl:542\n",
      " [3] set_param!(md::Mimi.ModelDef, comp_name::Symbol, param_name::Symbol, model_param_name::Symbol, value::Vector{Float64}; dims::Nothing)\n",
      "   @ Mimi ~/.julia/packages/Mimi/ve6WQ/src/core/defs.jl:518\n",
      " [4] set_param!\n",
      "   @ ~/.julia/packages/Mimi/ve6WQ/src/core/defs.jl:515 [inlined]\n",
      " [5] #set_param!#128\n",
      "   @ ~/.julia/packages/Mimi/ve6WQ/src/core/defs.jl:500 [inlined]\n",
      " [6] set_param!\n",
      "   @ ~/.julia/packages/Mimi/ve6WQ/src/core/defs.jl:499 [inlined]\n",
      " [7] #set_param!#221\n",
      "   @ ~/.julia/packages/Mimi/ve6WQ/src/core/delegate.jl:55 [inlined]\n",
      " [8] set_param!(m::Model, comp_name::Symbol, param_name::Symbol, value::Vector{Float64})\n",
      "   @ Mimi ~/.julia/packages/Mimi/ve6WQ/src/core/delegate.jl:54\n",
      " [9] top-level scope\n",
      "   @ ~/Library/CloudStorage/OneDrive-M365UniversitätHamburg/Semester 4/Environmental Economics/M3 Project/Code/M3_Code.ipynb:1"
     ]
    }
   ],
   "source": [
    "set_param!(AD_DICE, :damages, :Pt, 0.5 .* ones(100))\n",
    "set_param!(AD_DICE, :damages, :g1, 1)\n",
    "set_param!(AD_DICE, :damages, :g2, 2)"
   ]
  },
  {
   "cell_type": "markdown",
   "metadata": {},
   "source": [
    "### update param"
   ]
  },
  {
   "cell_type": "code",
   "execution_count": 10,
   "metadata": {},
   "outputs": [
    {
     "data": {
      "text/plain": [
       "true"
      ]
     },
     "metadata": {},
     "output_type": "display_data"
    }
   ],
   "source": [
    "update_param!(AD_DICE, :Pt, 0.33 .* ones(100))\n",
    "update_param!(AD_DICE, :g1, 0.115)\n",
    "update_param!(AD_DICE, :g2, 3.60)\n",
    "update_param!(AD_DICE, :damages, :a1, 0.0012)\n",
    "update_param!(AD_DICE, :damages, :a2, 0.0023)\n",
    "update_param!(AD_DICE, :damages, :a3, 2.32)"
   ]
  },
  {
   "cell_type": "code",
   "execution_count": 11,
   "metadata": {},
   "outputs": [],
   "source": [
    "run(AD_DICE)"
   ]
  },
  {
   "cell_type": "code",
   "execution_count": 12,
   "metadata": {},
   "outputs": [
    {
     "name": "stderr",
     "output_type": "stream",
     "text": [
      "2024-06-20 16:54:52.832 Julia[1492:15472] WARNING: Secure coding is not enabled for restorable state! Enable secure coding by implementing NSApplicationDelegate.applicationSupportsSecureRestorableState: and returning YES.\n"
     ]
    },
    {
     "data": {
      "text/plain": [
       "Electron.Window(Application(Base.PipeEndpoint(RawFD(22) paused, 0 bytes waiting), Process(setenv(`\u001b[4m/Users/adhitchandy/.julia/artifacts/28d75c9551b709f4f8172bf33e631b433c6c68d6/Julia.app/Contents/MacOS/Julia\u001b[24m \u001b[4m/Users/adhitchandy/.julia/packages/Electron/LXyZ0/src/main.js\u001b[24m \u001b[4m/var/folders/pc/yc06blr53r5bkb36yd_0qxpw0000gn/T/jlel-0ca5f0642f1511ef32dd79839490d956\u001b[24m \u001b[4m/var/folders/pc/yc06blr53r5bkb36yd_0qxpw0000gn/T/jlel-sn-0ca5f6902f1511ef0b8ff5f1a45415ce\u001b[24m \u001b[4mZdLK4HxFQvYMYQlWT0WL7gAHeyl5Bxc+FMQ/nPeXu1bl/J8UP9fSGSdwAJw0Y43qwm5w22f7ttOQfMZfMsbWXEGomO5RYwPwtLnAjPT37iLwXnscboApzlWuOMwOwMy4Up6a1qgpV/BJ8oAwl4HTOn+fZhI+XA/PivC5c9wlzLc=\u001b[24m`,[\"XPC_FLAGS=0x0\", \"COMMAND_MODE=unix2003\", \"CONDA_PROMPT_MODIFIER=(base) \", \"PATH=/opt/anaconda3/bin:/opt/anaconda3/condabin:/Users/adhitchandy/.juliaup/bin:/opt/homebrew/bin:/opt/homebrew/sbin:/Library/Frameworks/Python.framework/Versions/3.12/bin:/usr/local/bin:/System/Cryptexes/App/usr/bin:/usr/bin:/bin:/usr/sbin:/sbin:/var/run/com.apple.security.cryptexd/codex.system/bootstrap/usr/local/bin:/var/run/com.apple.security.cryptexd/codex.system/bootstrap/usr/bin:/var/run/com.apple.security.cryptexd/codex.system/bootstrap/usr/appleinternal/bin\", \"PWD=/\", \"VSCODE_CODE_CACHE_PATH=/Users/adhitchandy/Library/Application Support/Code/CachedData/5437499feb04f7a586f677b155b039bc2b3669eb\", \"VSCODE_HANDLES_UNCAUGHT_ERRORS=true\", \"HOMEBREW_PREFIX=/opt/homebrew\", \"XPC_SERVICE_NAME=application.com.microsoft.VSCode.16838197.16838203\", \"VSCODE_NLS_CONFIG={\\\"locale\\\":\\\"en-gb\\\",\\\"osLocale\\\":\\\"en-gb\\\",\\\"availableLanguages\\\":{},\\\"_languagePackSupport\\\":true}\"  …  \"HOMEBREW_REPOSITORY=/opt/homebrew\", \"OPENBLAS_DEFAULT_NUM_THREADS=1\", \"USER=adhitchandy\", \"CONDA_SHLVL=1\", \"VSCODE_CRASH_REPORTER_PROCESS_TYPE=extensionHost\", \"CONDA_EXE=/opt/anaconda3/bin/conda\", \"HOME=/Users/adhitchandy\", \"JULIA_NUM_THREADS=\", \"OPENBLAS_MAIN_FREE=1\", \"VSCODE_CWD=/\"]), ProcessRunning), [1 window]), 1, true, Channel{Any}(128))"
      ]
     },
     "metadata": {},
     "output_type": "display_data"
    }
   ],
   "source": [
    "explore(AD_DICE)"
   ]
  },
  {
   "cell_type": "code",
   "execution_count": 10,
   "metadata": {},
   "outputs": [
    {
     "data": {
      "text/plain": [
       "11015.589553170339"
      ]
     },
     "metadata": {},
     "output_type": "display_data"
    }
   ],
   "source": [
    "ygross = AD_DICE[:damages, :YGROSS];\n",
    "ygross[100]"
   ]
  },
  {
   "cell_type": "markdown",
   "metadata": {},
   "source": [
    "### Optimizing the Model"
   ]
  },
  {
   "cell_type": "code",
   "execution_count": 14,
   "metadata": {},
   "outputs": [
    {
     "name": "stdout",
     "output_type": "stream",
     "text": [
      " 74.293798 seconds (210.21 M allocations: 8.856 GiB, 0.68% gc time)\n"
     ]
    },
    {
     "data": {
      "text/plain": [
       "(m = Mimi.Model\n",
       "  Module: Mimi\n",
       "  Components:\n",
       "    ComponentId(OptMimiDICE2016R2.totalfactorproductivity)\n",
       "    ComponentId(OptMimiDICE2016R2.grosseconomy)\n",
       "    ComponentId(OptMimiDICE2016R2.emissions)\n",
       "    ComponentId(OptMimiDICE2016R2.co2cycle)\n",
       "    ComponentId(OptMimiDICE2016R2.radiativeforcing)\n",
       "    ComponentId(OptMimiDICE2016R2.climatedynamics)\n",
       "    ComponentId(Main.newdamages)\n",
       "    ComponentId(OptMimiDICE2016R2.neteconomy)\n",
       "    ComponentId(OptMimiDICE2016R2.welfare)\n",
       "  Dimensions:\n",
       "    time => [2015, 2020, 2025, 2030, 2035, 2040, 2045, 2050, 2055, 2060, 2065, 2070, 2075, 2080, 2085, 2090, 2095, 2100, 2105, 2110, 2115, 2120, 2125, 2130, 2135, 2140, 2145, 2150, 2155, 2160, 2165, 2170, 2175, 2180, 2185, 2190, 2195, 2200, 2205, 2210, 2215, 2220, 2225, 2230, 2235, 2240, 2245, 2250, 2255, 2260, 2265, 2270, 2275, 2280, 2285, 2290, 2295, 2300, 2305, 2310, 2315, 2320, 2325, 2330, 2335, 2340, 2345, 2350, 2355, 2360, 2365, 2370, 2375, 2380, 2385, 2390, 2395, 2400, 2405, 2410, 2415, 2420, 2425, 2430, 2435, 2440, 2445, 2450, 2455, 2460, 2465, 2470, 2475, 2480, 2485, 2490, 2495, 2500, 2505, 2510]\n",
       "  Internal Connections:\n",
       "    Mimi.InternalParameterConnection\n",
       "  src_comp_path: ComponentPath(Symbol(\"##ModelDef#286\"), :totalfactorproductivity)\n",
       "  src_var_name: :AL\n",
       "  dst_comp_path: ComponentPath(Symbol(\"##ModelDef#286\"), :grosseconomy)\n",
       "  dst_par_name: :AL\n",
       "  ignoreunits: false\n",
       "  backup: nothing\n",
       "  backup_offset: nothing\n",
       "    Mimi.InternalParameterConnection\n",
       "  src_comp_path: ComponentPath(Symbol(\"##ModelDef#286\"), :neteconomy)\n",
       "  src_var_name: :I\n",
       "  dst_comp_path: ComponentPath(Symbol(\"##ModelDef#286\"), :grosseconomy)\n",
       "  dst_par_name: :I\n",
       "  ignoreunits: false\n",
       "  backup: nothing\n",
       "  backup_offset: nothing\n",
       "    Mimi.InternalParameterConnection\n",
       "  src_comp_path: ComponentPath(Symbol(\"##ModelDef#286\"), :grosseconomy)\n",
       "  src_var_name: :YGROSS\n",
       "  dst_comp_path: ComponentPath(Symbol(\"##ModelDef#286\"), :emissions)\n",
       "  dst_par_name: :YGROSS\n",
       "  ignoreunits: false\n",
       "  backup: nothing\n",
       "  backup_offset: nothing\n",
       "    Mimi.InternalParameterConnection\n",
       "  src_comp_path: ComponentPath(Symbol(\"##ModelDef#286\"), :emissions)\n",
       "  src_var_name: :E\n",
       "  dst_comp_path: ComponentPath(Symbol(\"##ModelDef#286\"), :co2cycle)\n",
       "  dst_par_name: :E\n",
       "  ignoreunits: false\n",
       "  backup: nothing\n",
       "  backup_offset: nothing\n",
       "    Mimi.InternalParameterConnection\n",
       "  src_comp_path: ComponentPath(Symbol(\"##ModelDef#286\"), :co2cycle)\n",
       "  src_var_name: :MAT\n",
       "  dst_comp_path: ComponentPath(Symbol(\"##ModelDef#286\"), :radiativeforcing)\n",
       "  dst_par_name: :MAT\n",
       "  ignoreunits: false\n",
       "  backup: nothing\n",
       "  backup_offset: nothing\n",
       "    Mimi.InternalParameterConnection\n",
       "  src_comp_path: ComponentPath(Symbol(\"##ModelDef#286\"), :radiativeforcing)\n",
       "  src_var_name: :FORC\n",
       "  dst_comp_path: ComponentPath(Symbol(\"##ModelDef#286\"), :climatedynamics)\n",
       "  dst_par_name: :FORC\n",
       "  ignoreunits: false\n",
       "  backup: nothing\n",
       "  backup_offset: nothing\n",
       "    Mimi.InternalParameterConnection\n",
       "  src_comp_path: ComponentPath(Symbol(\"##ModelDef#286\"), :climatedynamics)\n",
       "  src_var_name: :TATM\n",
       "  dst_comp_path: ComponentPath(Symbol(\"##ModelDef#286\"), :damages)\n",
       "  dst_par_name: :TATM\n",
       "  ignoreunits: false\n",
       "  backup: nothing\n",
       "  backup_offset: nothing\n",
       "    Mimi.InternalParameterConnection\n",
       "  src_comp_path: ComponentPath(Symbol(\"##ModelDef#286\"), :grosseconomy)\n",
       "  src_var_name: :YGROSS\n",
       "  dst_comp_path: ComponentPath(Symbol(\"##ModelDef#286\"), :damages)\n",
       "  dst_par_name: :YGROSS\n",
       "  ignoreunits: false\n",
       "  backup: nothing\n",
       "  backup_offset: nothing\n",
       "    Mimi.InternalParameterConnection\n",
       "  src_comp_path: ComponentPath(Symbol(\"##ModelDef#286\"), :grosseconomy)\n",
       "  src_var_name: :YGROSS\n",
       "  dst_comp_path: ComponentPath(Symbol(\"##ModelDef#286\"), :neteconomy)\n",
       "  dst_par_name: :YGROSS\n",
       "  ignoreunits: false\n",
       "  backup: nothing\n",
       "  backup_offset: nothing\n",
       "    Mimi.InternalParameterConnection\n",
       "  src_comp_path: ComponentPath(Symbol(\"##ModelDef#286\"), :damages)\n",
       "  src_var_name: :DAMAGES\n",
       "  dst_comp_path: ComponentPath(Symbol(\"##ModelDef#286\"), :neteconomy)\n",
       "  dst_par_name: :DAMAGES\n",
       "  ignoreunits: false\n",
       "  backup: nothing\n",
       "  backup_offset: nothing\n",
       "    Mimi.InternalParameterConnection\n",
       "  src_comp_path: ComponentPath(Symbol(\"##ModelDef#286\"), :emissions)\n",
       "  src_var_name: :SIGMA\n",
       "  dst_comp_path: ComponentPath(Symbol(\"##ModelDef#286\"), :neteconomy)\n",
       "  dst_par_name: :SIGMA\n",
       "  ignoreunits: false\n",
       "  backup: nothing\n",
       "  backup_offset: nothing\n",
       "    Mimi.InternalParameterConnection\n",
       "  src_comp_path: ComponentPath(Symbol(\"##ModelDef#286\"), :neteconomy)\n",
       "  src_var_name: :CPC\n",
       "  dst_comp_path: ComponentPath(Symbol(\"##ModelDef#286\"), :welfare)\n",
       "  dst_par_name: :CPC\n",
       "  ignoreunits: false\n",
       "  backup: nothing\n",
       "  backup_offset: nothing\n",
       "  External Connections:\n",
       "    Mimi.ExternalParameterConnection\n",
       "  comp_path: ComponentPath(Symbol(\"##ModelDef#286\"), :totalfactorproductivity)\n",
       "  param_name: :a0\n",
       "  model_param_name: Symbol(\"##287\")\n",
       "    Mimi.ExternalParameterConnection\n",
       "  comp_path: ComponentPath(Symbol(\"##ModelDef#286\"), :totalfactorproductivity)\n",
       "  param_name: :ga0\n",
       "  model_param_name: Symbol(\"##288\")\n",
       "    Mimi.ExternalParameterConnection\n",
       "  comp_path: ComponentPath(Symbol(\"##ModelDef#286\"), :totalfactorproductivity)\n",
       "  param_name: :dela\n",
       "  model_param_name: Symbol(\"##289\")\n",
       "    Mimi.ExternalParameterConnection\n",
       "  comp_path: ComponentPath(Symbol(\"##ModelDef#286\"), :grosseconomy)\n",
       "  param_name: :dk\n",
       "  model_param_name: Symbol(\"##293\")\n",
       "    Mimi.ExternalParameterConnection\n",
       "  comp_path: ComponentPath(Symbol(\"##ModelDef#286\"), :grosseconomy)\n",
       "  param_name: :gama\n",
       "  model_param_name: Symbol(\"##294\")\n",
       "    Mimi.ExternalParameterConnection\n",
       "  comp_path: ComponentPath(Symbol(\"##ModelDef#286\"), :grosseconomy)\n",
       "  param_name: :k0\n",
       "  model_param_name: Symbol(\"##295\")\n",
       "    Mimi.ExternalParameterConnection\n",
       "  comp_path: ComponentPath(Symbol(\"##ModelDef#286\"), :emissions)\n",
       "  param_name: :gsigma1\n",
       "  model_param_name: Symbol(\"##296\")\n",
       "    Mimi.ExternalParameterConnection\n",
       "  comp_path: ComponentPath(Symbol(\"##ModelDef#286\"), :emissions)\n",
       "  param_name: :dsig\n",
       "  model_param_name: Symbol(\"##297\")\n",
       "    Mimi.ExternalParameterConnection\n",
       "  comp_path: ComponentPath(Symbol(\"##ModelDef#286\"), :emissions)\n",
       "  param_name: :eland0\n",
       "  model_param_name: Symbol(\"##298\")\n",
       "    Mimi.ExternalParameterConnection\n",
       "  comp_path: ComponentPath(Symbol(\"##ModelDef#286\"), :emissions)\n",
       "  param_name: :deland\n",
       "  model_param_name: Symbol(\"##299\")\n",
       "    Mimi.ExternalParameterConnection\n",
       "  comp_path: ComponentPath(Symbol(\"##ModelDef#286\"), :emissions)\n",
       "  param_name: :e0\n",
       "  model_param_name: Symbol(\"##300\")\n",
       "    Mimi.ExternalParameterConnection\n",
       "  comp_path: ComponentPath(Symbol(\"##ModelDef#286\"), :emissions)\n",
       "  param_name: :cca0\n",
       "  model_param_name: Symbol(\"##303\")\n",
       "    Mimi.ExternalParameterConnection\n",
       "  comp_path: ComponentPath(Symbol(\"##ModelDef#286\"), :emissions)\n",
       "  param_name: :cumetree0\n",
       "  model_param_name: Symbol(\"##304\")\n",
       "    Mimi.ExternalParameterConnection\n",
       "  comp_path: ComponentPath(Symbol(\"##ModelDef#286\"), :co2cycle)\n",
       "  param_name: :b12\n",
       "  model_param_name: Symbol(\"##305\")\n",
       "    Mimi.ExternalParameterConnection\n",
       "  comp_path: ComponentPath(Symbol(\"##ModelDef#286\"), :co2cycle)\n",
       "  param_name: :b23\n",
       "  model_param_name: Symbol(\"##306\")\n",
       "    Mimi.ExternalParameterConnection\n",
       "  comp_path: ComponentPath(Symbol(\"##ModelDef#286\"), :co2cycle)\n",
       "  param_name: :mateq\n",
       "  model_param_name: Symbol(\"##307\")\n",
       "    Mimi.ExternalParameterConnection\n",
       "  comp_path: ComponentPath(Symbol(\"##ModelDef#286\"), :co2cycle)\n",
       "  param_name: :mueq\n",
       "  model_param_name: Symbol(\"##308\")\n",
       "    Mimi.ExternalParameterConnection\n",
       "  comp_path: ComponentPath(Symbol(\"##ModelDef#286\"), :co2cycle)\n",
       "  param_name: :mleq\n",
       "  model_param_name: Symbol(\"##309\")\n",
       "    Mimi.ExternalParameterConnection\n",
       "  comp_path: ComponentPath(Symbol(\"##ModelDef#286\"), :co2cycle)\n",
       "  param_name: :mat0\n",
       "  model_param_name: Symbol(\"##311\")\n",
       "    Mimi.ExternalParameterConnection\n",
       "  comp_path: ComponentPath(Symbol(\"##ModelDef#286\"), :co2cycle)\n",
       "  param_name: :ml0\n",
       "  model_param_name: Symbol(\"##312\")\n",
       "    Mimi.ExternalParameterConnection\n",
       "  comp_path: ComponentPath(Symbol(\"##ModelDef#286\"), :co2cycle)\n",
       "  param_name: :mu0\n",
       "  model_param_name: Symbol(\"##313\")\n",
       "    Mimi.ExternalParameterConnection\n",
       "  comp_path: ComponentPath(Symbol(\"##ModelDef#286\"), :radiativeforcing)\n",
       "  param_name: :eqmat\n",
       "  model_param_name: Symbol(\"##315\")\n",
       "    Mimi.ExternalParameterConnection\n",
       "  comp_path: ComponentPath(Symbol(\"##ModelDef#286\"), :radiativeforcing)\n",
       "  param_name: :fex0\n",
       "  model_param_name: Symbol(\"##317\")\n",
       "    Mimi.ExternalParameterConnection\n",
       "  comp_path: ComponentPath(Symbol(\"##ModelDef#286\"), :radiativeforcing)\n",
       "  param_name: :fex1\n",
       "  model_param_name: Symbol(\"##318\")\n",
       "    Mimi.ExternalParameterConnection\n",
       "  comp_path: ComponentPath(Symbol(\"##ModelDef#286\"), :climatedynamics)\n",
       "  param_name: :t2xco2\n",
       "  model_param_name: Symbol(\"##321\")\n",
       "    Mimi.ExternalParameterConnection\n",
       "  comp_path: ComponentPath(Symbol(\"##ModelDef#286\"), :climatedynamics)\n",
       "  param_name: :tatm0\n",
       "  model_param_name: Symbol(\"##322\")\n",
       "    Mimi.ExternalParameterConnection\n",
       "  comp_path: ComponentPath(Symbol(\"##ModelDef#286\"), :climatedynamics)\n",
       "  param_name: :tocean0\n",
       "  model_param_name: Symbol(\"##323\")\n",
       "    Mimi.ExternalParameterConnection\n",
       "  comp_path: ComponentPath(Symbol(\"##ModelDef#286\"), :climatedynamics)\n",
       "  param_name: :c1\n",
       "  model_param_name: Symbol(\"##324\")\n",
       "    Mimi.ExternalParameterConnection\n",
       "  comp_path: ComponentPath(Symbol(\"##ModelDef#286\"), :climatedynamics)\n",
       "  param_name: :c3\n",
       "  model_param_name: Symbol(\"##325\")\n",
       "    Mimi.ExternalParameterConnection\n",
       "  comp_path: ComponentPath(Symbol(\"##ModelDef#286\"), :climatedynamics)\n",
       "  param_name: :c4\n",
       "  model_param_name: Symbol(\"##326\")\n",
       "    Mimi.ExternalParameterConnection\n",
       "  comp_path: ComponentPath(Symbol(\"##ModelDef#286\"), :damages)\n",
       "  param_name: :a1\n",
       "  model_param_name: Symbol(\"##329\")\n",
       "    Mimi.ExternalParameterConnection\n",
       "  comp_path: ComponentPath(Symbol(\"##ModelDef#286\"), :damages)\n",
       "  param_name: :a2\n",
       "  model_param_name: Symbol(\"##330\")\n",
       "    Mimi.ExternalParameterConnection\n",
       "  comp_path: ComponentPath(Symbol(\"##ModelDef#286\"), :damages)\n",
       "  param_name: :a3\n",
       "  model_param_name: Symbol(\"##331\")\n",
       "    Mimi.ExternalParameterConnection\n",
       "  comp_path: ComponentPath(Symbol(\"##ModelDef#286\"), :neteconomy)\n",
       "  param_name: :S\n",
       "  model_param_name: Symbol(\"##336\")\n",
       "    Mimi.ExternalParameterConnection\n",
       "  comp_path: ComponentPath(Symbol(\"##ModelDef#286\"), :neteconomy)\n",
       "  param_name: :expcost2\n",
       "  model_param_name: Symbol(\"##338\")\n",
       "    Mimi.ExternalParameterConnection\n",
       "  comp_path: ComponentPath(Symbol(\"##ModelDef#286\"), :neteconomy)\n",
       "  param_name: :pback\n",
       "  model_param_name: Symbol(\"##339\")\n",
       "    Mimi.ExternalParameterConnection\n",
       "  comp_path: ComponentPath(Symbol(\"##ModelDef#286\"), :neteconomy)\n",
       "  param_name: :gback\n",
       "  model_param_name: Symbol(\"##340\")\n",
       "    Mimi.ExternalParameterConnection\n",
       "  comp_path: ComponentPath(Symbol(\"##ModelDef#286\"), :welfare)\n",
       "  param_name: :rr\n",
       "  model_param_name: Symbol(\"##343\")\n",
       "    Mimi.ExternalParameterConnection\n",
       "  comp_path: ComponentPath(Symbol(\"##ModelDef#286\"), :welfare)\n",
       "  param_name: :elasmu\n",
       "  model_param_name: Symbol(\"##344\")\n",
       "    Mimi.ExternalParameterConnection\n",
       "  comp_path: ComponentPath(Symbol(\"##ModelDef#286\"), :welfare)\n",
       "  param_name: :scale1\n",
       "  model_param_name: Symbol(\"##345\")\n",
       "    Mimi.ExternalParameterConnection\n",
       "  comp_path: ComponentPath(Symbol(\"##ModelDef#286\"), :welfare)\n",
       "  param_name: :scale2\n",
       "  model_param_name: Symbol(\"##346\")\n",
       "    Mimi.ExternalParameterConnection\n",
       "  comp_path: ComponentPath(Symbol(\"##ModelDef#286\"), :climatedynamics)\n",
       "  param_name: :fco22x\n",
       "  model_param_name: :fco22x\n",
       "    Mimi.ExternalParameterConnection\n",
       "  comp_path: ComponentPath(Symbol(\"##ModelDef#286\"), :radiativeforcing)\n",
       "  param_name: :fco22x\n",
       "  model_param_name: :fco22x\n",
       "    Mimi.ExternalParameterConnection\n",
       "  comp_path: ComponentPath(Symbol(\"##ModelDef#286\"), :grosseconomy)\n",
       "  param_name: :l\n",
       "  model_param_name: :l\n",
       "    Mimi.ExternalParameterConnection\n",
       "  comp_path: ComponentPath(Symbol(\"##ModelDef#286\"), :neteconomy)\n",
       "  param_name: :l\n",
       "  model_param_name: :l\n",
       "    Mimi.ExternalParameterConnection\n",
       "  comp_path: ComponentPath(Symbol(\"##ModelDef#286\"), :welfare)\n",
       "  param_name: :l\n",
       "  model_param_name: :l\n",
       "    Mimi.ExternalParameterConnection\n",
       "  comp_path: ComponentPath(Symbol(\"##ModelDef#286\"), :neteconomy)\n",
       "  param_name: :MIU\n",
       "  model_param_name: :MIU\n",
       "    Mimi.ExternalParameterConnection\n",
       "  comp_path: ComponentPath(Symbol(\"##ModelDef#286\"), :emissions)\n",
       "  param_name: :MIU\n",
       "  model_param_name: :MIU\n",
       "    Mimi.ExternalParameterConnection\n",
       "  comp_path: ComponentPath(Symbol(\"##ModelDef#286\"), :damages)\n",
       "  param_name: :Pt\n",
       "  model_param_name: :Pt\n",
       "    Mimi.ExternalParameterConnection\n",
       "  comp_path: ComponentPath(Symbol(\"##ModelDef#286\"), :damages)\n",
       "  param_name: :g1\n",
       "  model_param_name: :g1\n",
       "    Mimi.ExternalParameterConnection\n",
       "  comp_path: ComponentPath(Symbol(\"##ModelDef#286\"), :damages)\n",
       "  param_name: :g2\n",
       "  model_param_name: :g2\n",
       "  Backups: Symbol[]\n",
       "  Number type: Float64\n",
       "  Built: true\n",
       ", diagnostic = Dict{String, Any}(\"Maximum objective value\" => 4499.830339469523, \"Optimised policy economic vector\" => [0.039, 0.20067344896658396, 0.22706357403006727, 0.2570533471282038, 0.2886390181709927, 0.32310096504191044, 0.3592177332684128, 0.3985451214370823, 0.4399989644773694, 0.4848131757815406  …  0.24901296135098855, 0.24716948142256348, 0.24537804837070823, 0.24146715724165912, 0.23177132481662982, 0.2151449357063283, 0.19076582977351747, 0.13956451424101068, 0.010667929755628856, 0.0], \"Convergence result\" => :FTOL_REACHED))"
      ]
     },
     "metadata": {},
     "output_type": "display_data"
    }
   ],
   "source": [
    "@time AD_DICE, diagn = OptMimiDICE2016R2.optimise_model(AD_DICE)"
   ]
  },
  {
   "cell_type": "code",
   "execution_count": 20,
   "metadata": {},
   "outputs": [
    {
     "data": {
      "text/plain": [
       "Electron.Window(Application(Base.PipeEndpoint(RawFD(22) paused, 0 bytes waiting), Process(setenv(`\u001b[4m/Users/adhitchandy/.julia/artifacts/28d75c9551b709f4f8172bf33e631b433c6c68d6/Julia.app/Contents/MacOS/Julia\u001b[24m \u001b[4m/Users/adhitchandy/.julia/packages/Electron/LXyZ0/src/main.js\u001b[24m \u001b[4m/var/folders/pc/yc06blr53r5bkb36yd_0qxpw0000gn/T/jlel-0ca5f0642f1511ef32dd79839490d956\u001b[24m \u001b[4m/var/folders/pc/yc06blr53r5bkb36yd_0qxpw0000gn/T/jlel-sn-0ca5f6902f1511ef0b8ff5f1a45415ce\u001b[24m \u001b[4mZdLK4HxFQvYMYQlWT0WL7gAHeyl5Bxc+FMQ/nPeXu1bl/J8UP9fSGSdwAJw0Y43qwm5w22f7ttOQfMZfMsbWXEGomO5RYwPwtLnAjPT37iLwXnscboApzlWuOMwOwMy4Up6a1qgpV/BJ8oAwl4HTOn+fZhI+XA/PivC5c9wlzLc=\u001b[24m`,[\"XPC_FLAGS=0x0\", \"COMMAND_MODE=unix2003\", \"CONDA_PROMPT_MODIFIER=(base) \", \"PATH=/opt/anaconda3/bin:/opt/anaconda3/condabin:/Users/adhitchandy/.juliaup/bin:/opt/homebrew/bin:/opt/homebrew/sbin:/Library/Frameworks/Python.framework/Versions/3.12/bin:/usr/local/bin:/System/Cryptexes/App/usr/bin:/usr/bin:/bin:/usr/sbin:/sbin:/var/run/com.apple.security.cryptexd/codex.system/bootstrap/usr/local/bin:/var/run/com.apple.security.cryptexd/codex.system/bootstrap/usr/bin:/var/run/com.apple.security.cryptexd/codex.system/bootstrap/usr/appleinternal/bin\", \"PWD=/\", \"VSCODE_CODE_CACHE_PATH=/Users/adhitchandy/Library/Application Support/Code/CachedData/5437499feb04f7a586f677b155b039bc2b3669eb\", \"VSCODE_HANDLES_UNCAUGHT_ERRORS=true\", \"HOMEBREW_PREFIX=/opt/homebrew\", \"XPC_SERVICE_NAME=application.com.microsoft.VSCode.16838197.16838203\", \"VSCODE_NLS_CONFIG={\\\"locale\\\":\\\"en-gb\\\",\\\"osLocale\\\":\\\"en-gb\\\",\\\"availableLanguages\\\":{},\\\"_languagePackSupport\\\":true}\"  …  \"HOMEBREW_REPOSITORY=/opt/homebrew\", \"OPENBLAS_DEFAULT_NUM_THREADS=1\", \"USER=adhitchandy\", \"CONDA_SHLVL=1\", \"VSCODE_CRASH_REPORTER_PROCESS_TYPE=extensionHost\", \"CONDA_EXE=/opt/anaconda3/bin/conda\", \"HOME=/Users/adhitchandy\", \"JULIA_NUM_THREADS=\", \"OPENBLAS_MAIN_FREE=1\", \"VSCODE_CWD=/\"]), ProcessRunning), [1 window]), 4, true, Channel{Any}(128))"
      ]
     },
     "metadata": {},
     "output_type": "display_data"
    }
   ],
   "source": [
    "explore(AD_DICE)"
   ]
  },
  {
   "cell_type": "markdown",
   "metadata": {},
   "source": [
    "### Plotting"
   ]
  },
  {
   "cell_type": "markdown",
   "metadata": {},
   "source": [
    "Need to use only once"
   ]
  },
  {
   "cell_type": "code",
   "execution_count": null,
   "metadata": {},
   "outputs": [],
   "source": [
    "Pkg.add(\"Plots\")\n",
    "Pkg.add(\"LaTeXStrings\")"
   ]
  },
  {
   "cell_type": "code",
   "execution_count": 16,
   "metadata": {},
   "outputs": [],
   "source": [
    "damages = AD_DICE[:damages, :DAMAGES];\n",
    "adaptation = AD_DICE[:damages, :PROTECTIONCOST];\n",
    "residualdamage = AD_DICE[:damages, :RESIDUALDAM];\n",
    "grossdamages = AD_DICE[:damages, :GROSSDAM];\n",
    "ygross = AD_DICE[:damages, :YGROSS];"
   ]
  },
  {
   "cell_type": "code",
   "execution_count": 17,
   "metadata": {},
   "outputs": [
    {
     "data": {
      "text/plain": [
       "3.714533264008126"
      ]
     },
     "metadata": {},
     "output_type": "display_data"
    }
   ],
   "source": [
    "benefits = (grossdamages.-residualdamage)\n",
    "cost = adaptation\n",
    "cbr = sum(benefits)/sum(cost)"
   ]
  },
  {
   "cell_type": "code",
   "execution_count": 19,
   "metadata": {},
   "outputs": [
    {
     "data": {
      "text/plain": [
       "100-element Vector{Float64}:\n",
       " 0.40339245742280994\n",
       " 0.5602802563322321\n",
       " 0.7493046520689783\n",
       " 0.9723310373679762\n",
       " 1.230549525953591\n",
       " 1.524444030674381\n",
       " 1.8536095017688088\n",
       " 2.2167770740894923\n",
       " 2.6116332012738224\n",
       " 3.034964399066826\n",
       " ⋮\n",
       " 1.9470746193352868\n",
       " 1.906898234586231\n",
       " 1.8683277312243456\n",
       " 1.8313074496313688\n",
       " 1.7957881064419727\n",
       " 1.7617379109065465\n",
       " 1.729148611975015\n",
       " 1.698038511784632\n",
       " 1.6685036206874215"
      ]
     },
     "metadata": {},
     "output_type": "display_data"
    }
   ],
   "source": [
    "lambda1 = benefits./cost"
   ]
  },
  {
   "cell_type": "code",
   "execution_count": null,
   "metadata": {},
   "outputs": [],
   "source": [
    "Pkg.add(\"JLD2\")"
   ]
  },
  {
   "cell_type": "code",
   "execution_count": 17,
   "metadata": {},
   "outputs": [],
   "source": [
    "using JLD2\n"
   ]
  },
  {
   "cell_type": "code",
   "execution_count": null,
   "metadata": {},
   "outputs": [],
   "source": []
  },
  {
   "cell_type": "code",
   "execution_count": 22,
   "metadata": {},
   "outputs": [],
   "source": [
    "\n",
    "\n",
    "# Save to a JLD2 file\n",
    "@save \"lambda1.jld2\" lambda1"
   ]
  },
  {
   "cell_type": "code",
   "execution_count": 24,
   "metadata": {},
   "outputs": [],
   "source": [
    "adbudget = adaptation;\n",
    "@save \"adbudget.jld2\" adbudget"
   ]
  },
  {
   "cell_type": "code",
   "execution_count": 18,
   "metadata": {},
   "outputs": [],
   "source": [
    "@save \"damagesAD.jld2\" damages\n",
    "@save \"grossdamagesAD.jld2\" grossdamages\n",
    "@save \"adaptationcostAD.jld2\" adaptation\n",
    "@save \"residualdamageAD.jld2\" residualdamage\n",
    "@save \"ygrossAD.jld2\" ygross\n"
   ]
  },
  {
   "cell_type": "code",
   "execution_count": null,
   "metadata": {},
   "outputs": [],
   "source": [
    "Pkg.add(\"XLSX\")"
   ]
  },
  {
   "cell_type": "code",
   "execution_count": null,
   "metadata": {},
   "outputs": [],
   "source": [
    "using XLSX\n",
    "filename = \"lambda1_output.xlsx\"\n",
    "\n",
    "# Write to the Excel file\n",
    "XLSX.openxlsx(filename, mode=\"w\") do xf\n",
    "    sheet = xf[\"Sheet1\"]  # Access the default sheet\n",
    "    sheet[\"A1\"] = \"lambda1\"  # Optional: Write header\n",
    "    for (i, value) in enumerate(lambda1)\n",
    "        sheet[\"A$(i+1)\"] = value  # Write each value to the column\n",
    "    end\n",
    "end"
   ]
  }
 ],
 "metadata": {
  "kernelspec": {
   "display_name": "Julia 1.10.2",
   "language": "julia",
   "name": "julia-1.10"
  },
  "language_info": {
   "file_extension": ".jl",
   "mimetype": "application/julia",
   "name": "julia",
   "version": "1.10.2"
  }
 },
 "nbformat": 4,
 "nbformat_minor": 2
}
